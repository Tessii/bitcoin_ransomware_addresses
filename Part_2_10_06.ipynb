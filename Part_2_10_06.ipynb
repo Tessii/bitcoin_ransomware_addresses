{
 "cells": [
  {
   "cell_type": "markdown",
   "metadata": {
    "colab_type": "text",
    "id": "6AhvWqxRME6q"
   },
   "source": [
    "<center><h1>Bitcoin</h1></center>\n",
    "<center>CDASO2020U \"Data Mining, Machine Learning and Deep Learning\"</center>"
   ]
  },
  {
   "cell_type": "markdown",
   "metadata": {},
   "source": [
    "<center><h1>Structure</h1></center>\n",
    "\n",
    "A. [Exploratory data analysis](#A)\n",
    "\n",
    "B. [Pre-processing](#B)\n",
    "\n",
    "C. [Supervised Machine Learning](#C)\n",
    "1. [Data set plit](#1)\n",
    "2. [Decision Tree](#2)\n",
    "3. [Random Forest](#3)\n",
    "4. [Logistic Regression](#4)\n",
    "5. [SVM](5)\n",
    "6. [KNN](#6)\n",
    "7. [Voting Classifier](#7)\n",
    "7. [Neural Newtworks](#8)\n"
   ]
  },
  {
   "cell_type": "markdown",
   "metadata": {},
   "source": [
    "### Used Packages"
   ]
  },
  {
   "cell_type": "code",
   "execution_count": 1,
   "metadata": {
    "scrolled": true
   },
   "outputs": [
    {
     "name": "stderr",
     "output_type": "stream",
     "text": [
      "Using TensorFlow backend.\n",
      "/Users/theresawohlsen/opt/anaconda3/lib/python3.7/site-packages/sklearn/externals/six.py:31: FutureWarning:\n",
      "\n",
      "The module is deprecated in version 0.21 and will be removed in version 0.23 since we've dropped support for Python 2.7. Please rely on the official version of six (https://pypi.org/project/six/).\n",
      "\n"
     ]
    }
   ],
   "source": [
    "from IPython.display import Image\n",
    "from keras.models import Sequential\n",
    "from keras.layers import Dense\n",
    "import keras as keras\n",
    "from keras.layers import Dropout\n",
    "from keras import regularizers\n",
    "import lime #conda install -c conda-forge lime\n",
    "import lime.lime_tabular\n",
    "import matplotlib.pyplot as plt\n",
    "import numpy as np\n",
    "import pandas as pd\n",
    "from pandas.plotting import scatter_matrix\n",
    "from plotly import graph_objs as go  #!conda install --yes --prefix {sys.prefix} plotly (for windows users who's cmd sucks)\n",
    "from plotly.offline import init_notebook_mode, iplot\n",
    "import pydotplus\n",
    "import seaborn as sns\n",
    "from sklearn import metrics\n",
    "from sklearn import preprocessing\n",
    "from sklearn.cluster import DBSCAN\n",
    "from sklearn.decomposition import PCA\n",
    "from sklearn.ensemble import IsolationForest, RandomForestClassifier\n",
    "from sklearn.ensemble import VotingClassifier\n",
    "from sklearn.externals.six import StringIO\n",
    "from sklearn.linear_model import LinearRegression\n",
    "from sklearn.linear_model import LogisticRegression\n",
    "from sklearn.metrics import mean_squared_error, mean_absolute_error, accuracy_score, f1_score, confusion_matrix, r2_score\n",
    "from sklearn.model_selection import GridSearchCV\n",
    "from sklearn.model_selection import train_test_split\n",
    "from sklearn.neighbors import KNeighborsClassifier\n",
    "from sklearn.preprocessing import StandardScaler\n",
    "from sklearn.svm import SVC\n",
    "from sklearn.utils import resample\n",
    "from sklearn.tree import DecisionTreeRegressor, export_graphviz, DecisionTreeClassifier\n",
    "from time import process_time\n",
    "import sys"
   ]
  },
  {
   "cell_type": "markdown",
   "metadata": {},
   "source": [
    "# A. Exploratory data analysis <a class=\"anchor\" id=\"A\"></a>"
   ]
  },
  {
   "cell_type": "markdown",
   "metadata": {
    "colab_type": "text",
    "id": "QhOKs5k0ME7K"
   },
   "source": [
    "# B. Pre-processing  <a class=\"anchor\" id=\"B\"></a>"
   ]
  },
  {
   "cell_type": "code",
   "execution_count": 2,
   "metadata": {
    "scrolled": true
   },
   "outputs": [],
   "source": [
    "# import dataframes and drop index column\n",
    "df = pd.read_csv('df.csv').drop(['Unnamed: 0'], axis=1)\n",
    "df_scaled = pd.read_csv('df_scaled.csv').drop(['Unnamed: 0'], axis=1)\n",
    "df_ransomware = pd.read_csv('df_ransomware.csv').drop(['Unnamed: 0'], axis=1)\n",
    "df_ransomware_scaled = pd.read_csv('df_ransomware_scaled.csv').drop(['Unnamed: 0'], axis=1)"
   ]
  },
  {
   "cell_type": "markdown",
   "metadata": {
    "colab_type": "text",
    "id": "QhOKs5k0ME7K"
   },
   "source": [
    "# C. Supervised Machine Learning  <a class=\"anchor\" id=\"C\"></a>"
   ]
  },
  {
   "cell_type": "markdown",
   "metadata": {},
   "source": [
    "### 1. Data set split  <a class=\"anchor\" id=\"1\"></a>"
   ]
  },
  {
   "cell_type": "code",
   "execution_count": 3,
   "metadata": {
    "scrolled": true
   },
   "outputs": [],
   "source": [
    "# prepare test set for ransomware families detection\n",
    "def prepare_test_sets(df):\n",
    "    # select relevant features\n",
    "    features = ['length', 'weight', 'count', 'looped',\n",
    "       'neighbors', 'income', 'repeated', 'repeated_counter']\n",
    "    X = df[features]\n",
    "    y = df['label']\n",
    "\n",
    "    #Perform train/test split.\n",
    "    xTrain, xTest, yTrain, yTest = train_test_split(X, y)\n",
    "    \n",
    "    return xTrain, xTest, yTrain, yTest, features"
   ]
  },
  {
   "cell_type": "code",
   "execution_count": 4,
   "metadata": {},
   "outputs": [
    {
     "ename": "NameError",
     "evalue": "name 'stop' is not defined",
     "output_type": "error",
     "traceback": [
      "\u001b[0;31m---------------------------------------------------------------------------\u001b[0m",
      "\u001b[0;31mNameError\u001b[0m                                 Traceback (most recent call last)",
      "\u001b[0;32m<ipython-input-4-4f76a9dad686>\u001b[0m in \u001b[0;36m<module>\u001b[0;34m\u001b[0m\n\u001b[0;32m----> 1\u001b[0;31m \u001b[0mstop\u001b[0m\u001b[0;34m\u001b[0m\u001b[0;34m\u001b[0m\u001b[0m\n\u001b[0m",
      "\u001b[0;31mNameError\u001b[0m: name 'stop' is not defined"
     ]
    }
   ],
   "source": [
    "stop"
   ]
  },
  {
   "cell_type": "code",
   "execution_count": null,
   "metadata": {
    "scrolled": true
   },
   "outputs": [],
   "source": [
    "xTrain, xTest, yTrain, yTest, features = prepare_test_sets(df_ransomware_scaled)"
   ]
  },
  {
   "cell_type": "code",
   "execution_count": null,
   "metadata": {
    "scrolled": true
   },
   "outputs": [],
   "source": [
    "# prepare test set for ransomware detection in general\n",
    "def prepare_test_sets_all(df):\n",
    "    # select relevant features\n",
    "    features = ['length', 'weight', 'count', 'looped',\n",
    "       'neighbors', 'income', 'repeated', 'repeated_counter' ]\n",
    "    X = df[features]\n",
    "    y = df['binary_label']\n",
    "\n",
    "    #Perform train/test split.\n",
    "    xTrain, xTest, yTrain, yTest = train_test_split(X, y)\n",
    "    \n",
    "    return xTrain, xTest, yTrain, yTest, features"
   ]
  },
  {
   "cell_type": "code",
   "execution_count": null,
   "metadata": {
    "scrolled": true
   },
   "outputs": [],
   "source": [
    "xTrainAll, xTestAll, yTrainAll, yTestAll, featuresAll = prepare_test_sets_all(df)"
   ]
  },
  {
   "cell_type": "markdown",
   "metadata": {},
   "source": [
    "### 2. Decision Tree  <a class=\"anchor\" id=\"2\"></a>"
   ]
  },
  {
   "cell_type": "code",
   "execution_count": null,
   "metadata": {
    "scrolled": true
   },
   "outputs": [],
   "source": [
    "# Function logic for Decision Tree\n",
    "def get_decision_tree(x1, x2, y1, y2, features):\n",
    "    class_tree = DecisionTreeClassifier(max_depth = 3)\n",
    "    class_tree.fit(x1, y1)\n",
    "    \n",
    "    yPred_tree = class_tree.predict(x2)\n",
    "    \n",
    "    # Metrics\n",
    "    print(\"Accuracy Score : \", metrics.accuracy_score(y2, yPred_tree))\n",
    "    print(\"Precision Score : \", metrics.precision_score(y2, yPred_tree, average = None))\n",
    "    print(\"Recall Score : \", metrics.recall_score(y2, yPred_tree, average = None))\n",
    "    print(\"F1 Score : \", metrics.f1_score(y2, yPred_tree, average = None))\n",
    "\n",
    "    # Confusion Matrix\n",
    "    print('Confusion Matrix : \\n', confusion_matrix(y2, yPred_tree))\n",
    "    \n",
    "    # get feature importances\n",
    "    featureImportances = list(zip(features, class_tree.feature_importances_))\n",
    "    print(list(sorted(featureImportances, key = lambda k: k[1], reverse = True)))\n",
    "    \n",
    "    # visualize tree\n",
    "    if False:\n",
    "        dot_data = StringIO()\n",
    "\n",
    "        export_graphviz(\n",
    "            reg,\n",
    "            out_file= dot_data,\n",
    "            feature_names=features,\n",
    "            rounded=True,\n",
    "            filled=True\n",
    "        )\n",
    "\n",
    "        graph = pydotplus.graph_from_dot_data(dot_data.getvalue())  \n",
    "        Image(graph.create_png())\n",
    "    "
   ]
  },
  {
   "cell_type": "markdown",
   "metadata": {},
   "source": [
    "####  2.1 Decision Tree for the entire dataset"
   ]
  },
  {
   "cell_type": "code",
   "execution_count": null,
   "metadata": {
    "scrolled": true
   },
   "outputs": [],
   "source": [
    "get_decision_tree(xTrainAll, xTestAll, yTrainAll, yTestAll, featuresAll)"
   ]
  },
  {
   "cell_type": "markdown",
   "metadata": {},
   "source": [
    "#### 2.2 Decision Tree for ransomware dataset"
   ]
  },
  {
   "cell_type": "code",
   "execution_count": null,
   "metadata": {
    "scrolled": true
   },
   "outputs": [],
   "source": [
    "xTrain, xTest, yTrain, yTest, features = prepare_test_sets(df_ransomware_scaled)"
   ]
  },
  {
   "cell_type": "code",
   "execution_count": null,
   "metadata": {
    "scrolled": false
   },
   "outputs": [],
   "source": [
    "get_decision_tree(xTrain, xTest, yTrain, yTest, features)"
   ]
  },
  {
   "cell_type": "markdown",
   "metadata": {},
   "source": [
    "### 3. Random Forest <a class=\"anchor\" id=\"3\"></a>"
   ]
  },
  {
   "cell_type": "code",
   "execution_count": null,
   "metadata": {
    "scrolled": true
   },
   "outputs": [],
   "source": [
    "def get_random_forest(x1, x2, y1, y2, features, gs = True):\n",
    "    # train the model\n",
    "    if gs:\n",
    "        rf = RandomForestClassifier()\n",
    "    else:\n",
    "        rf = RandomForestClassifier(bootstrap = True, max_depth = 100, max_features = 3,\n",
    "                                    min_samples_leaf = 3, min_samples_split = 10, n_estimators = 800)\n",
    "    rf.fit(x1, y1)\n",
    "    \n",
    "    yPredRf = rf.predict(x2)\n",
    "    \n",
    "    # Metrics\n",
    "    print(\"Classfication report : \", metrics.classification_report(y2, yPredRf))\n",
    "    #print(\"Accuracy Score : \", metrics.accuracy_score(y2, yPredRf))\n",
    "    #print(\"Precision Score : \", metrics.precision_score(y2, yPredRf, average = None))\n",
    "    #print(\"Recall Score : \", metrics.recall_score(y2, yPredRf, average = None))\n",
    "    #print(\"F1 Score : \", metrics.f1_score(y2, yPredRf, average = None))\n",
    "    \n",
    "    # Confusion Matrix\n",
    "    print(\"Confusion Matrix : \\n\", confusion_matrix(y2, yPredRf))\n",
    "    \n",
    "    # feature importances\n",
    "    featureImportances = list(zip(features, rf.feature_importances_))\n",
    "    print(list(sorted(featureImportances, key = lambda k: k[1], reverse = True)))\n",
    "    \n",
    "    # Take a look at some results\n",
    "    rf_results = pd.DataFrame({'Actual' : y2, 'Predicted' : yPredRf})\n",
    "    print(rf_results.head(25))"
   ]
  },
  {
   "cell_type": "markdown",
   "metadata": {},
   "source": [
    "#### 3.1 Random Forest for Entire Dataset"
   ]
  },
  {
   "cell_type": "code",
   "execution_count": null,
   "metadata": {
    "scrolled": false
   },
   "outputs": [],
   "source": [
    "get_random_forest(xTrainAll, xTestAll, yTrainAll, yTestAll, featuresAll)"
   ]
  },
  {
   "cell_type": "markdown",
   "metadata": {},
   "source": [
    "#### 3.2 Random Forest for Ransomware Dataset (added the hyperparameters that were identified with GS)"
   ]
  },
  {
   "cell_type": "code",
   "execution_count": null,
   "metadata": {
    "scrolled": true
   },
   "outputs": [],
   "source": [
    "xTrain, xTest, yTrain, yTest, features = prepare_test_sets(df_ransomware_scaled)"
   ]
  },
  {
   "cell_type": "code",
   "execution_count": null,
   "metadata": {
    "scrolled": false
   },
   "outputs": [],
   "source": [
    "# Take a look at families of ransomware distribution in order to compare with metrics\n",
    "df_ransomware_scaled['label'].value_counts()"
   ]
  },
  {
   "cell_type": "code",
   "execution_count": null,
   "metadata": {
    "scrolled": false
   },
   "outputs": [],
   "source": [
    "get_random_forest(xTrain, xTest, yTrain, yTest, features, gs = False)"
   ]
  },
  {
   "cell_type": "markdown",
   "metadata": {},
   "source": [
    "<font color = \"green\">This is the best result we have so far: 0.83, which was obtained by using the hyperparameters identified with Grid Search. \n",
    "\n",
    "NOTE: INstead of outputing all the scores individually, I found out you can use - meitrcs.classificatoin_report and its going to show you the whole report on the scores. Also it does some weighted averages for all the classes. \n",
    "\n",
    "Read more here: https://towardsdatascience.com/multi-class-metrics-made-simple-part-ii-the-f1-score-ebe8b2c2ca1</font>\n",
    "\n",
    "Also --> When you look at where you have 0.0 and at the value_counts() output from above, you can see that we got bad results for families with few instances. The most populated families actually have better results.\n",
    "\n",
    "\n",
    "#### REPORT NOTE: It would be more difficult to identify new families of ransomware, because we can see already that less populated classes get bad results. Thus, identification of existing families would only be possible most of the times. In spite of this, we have the binary classification which gives quite good results - meaning that we would be able to use the algorithm just for the detection of ransomware (and not for tha families yet, if its a new one)."
   ]
  },
  {
   "cell_type": "markdown",
   "metadata": {},
   "source": [
    "### 3.3 Random Forest for Ransomware Dataset with Grid Search"
   ]
  },
  {
   "cell_type": "code",
   "execution_count": null,
   "metadata": {
    "scrolled": true
   },
   "outputs": [],
   "source": [
    "# Function logif for Random Forest with Grid Search\n",
    "def get_random_forest_gs(x1, x2, y1, y2, features):\n",
    "    # train the model\n",
    "    rf = RandomForestClassifier()\n",
    "    \n",
    "    # Parameters for Grid Search\n",
    "    params = {\n",
    "        'bootstrap': [True],\n",
    "        'max_depth': [80, 100],\n",
    "        'max_features': [2, 3],\n",
    "        'min_samples_leaf': [3, 4],\n",
    "        'min_samples_split': [8, 10],\n",
    "        'n_estimators': [100, 800]\n",
    "    }\n",
    "    \n",
    "    grid_search = GridSearchCV(estimator = rf, param_grid = params, \n",
    "                          cv = 3, n_jobs = -1, verbose = 2)\n",
    "    \n",
    "    grid_search.fit(x1, y1)\n",
    "    \n",
    "    print(grid_search.best_params_)\n",
    "    print(grid_search.best_score_)"
   ]
  },
  {
   "cell_type": "code",
   "execution_count": null,
   "metadata": {
    "scrolled": true
   },
   "outputs": [],
   "source": [
    "xTrain, xTest, yTrain, yTest, features = prepare_test_sets(df_ransomware_scaled)"
   ]
  },
  {
   "cell_type": "code",
   "execution_count": null,
   "metadata": {
    "scrolled": true
   },
   "outputs": [],
   "source": [
    "get_random_forest_gs(xTrain, xTest, yTrain, yTest, features)"
   ]
  },
  {
   "cell_type": "markdown",
   "metadata": {},
   "source": [
    "<font color = \"red\">With the existing list of parameters got the following best score:\n",
    "'bootstrap': True, 'max_depth': 100, 'max_features': 3, 'min_samples_leaf': 3, 'min_samples_split': 10, 'n_estimators': 800\n",
    "</font>"
   ]
  },
  {
   "cell_type": "markdown",
   "metadata": {},
   "source": [
    "### 4. Logistic Regression <a class=\"anchor\" id=\"4\"></a>"
   ]
  },
  {
   "cell_type": "code",
   "execution_count": null,
   "metadata": {
    "scrolled": true
   },
   "outputs": [],
   "source": [
    "# Function Logic for Logistic Regression\n",
    "\n",
    "def get_logistic_regression(x1, x2, y1, y2, features, gs = True):\n",
    "    # Added execution time for the training set\n",
    "    t1_start = process_time()\n",
    "    if gs:\n",
    "        log_regressor = LogisticRegression()\n",
    "    else:\n",
    "        log_regressor = LogisticRegression(C = 3, penalty = \"l1\")\n",
    "            \n",
    "    log_regressor.fit(x1, y1)\n",
    "    t1_stop = process_time()\n",
    "    print(\"Total time for the training set:\", t1_stop-t1_start)\n",
    "    \n",
    "    yPredLog = log_regressor.predict(x2)\n",
    "    yPredLog\n",
    "    \n",
    "    print(\"Score Report : \", metrics.classification_report(y2, yPredLog))\n",
    "    \n",
    "    # Metrics\n",
    "    print(\"Accuracy : \", metrics.accuracy_score(y2, yPredLog))\n",
    "    print(\"Precision : \", metrics.precision_score(y2, yPredLog, average = None))\n",
    "    print(\"Recall : \", metrics.recall_score(y2, yPredLog, average = None))\n",
    "    \n",
    "    log_results = pd.DataFrame({'Actual' : y2, 'Predicted' : yPredLog})\n",
    "    print(log_results.head(25))"
   ]
  },
  {
   "cell_type": "markdown",
   "metadata": {},
   "source": [
    "#### 4.1 Logistic Regression for Ransomware Dataset"
   ]
  },
  {
   "cell_type": "code",
   "execution_count": null,
   "metadata": {
    "scrolled": true
   },
   "outputs": [],
   "source": [
    "xTrain, xTest, yTrain, yTest, features = prepare_test_sets(df_ransomware_scaled)"
   ]
  },
  {
   "cell_type": "code",
   "execution_count": null,
   "metadata": {
    "scrolled": false
   },
   "outputs": [],
   "source": [
    "get_logistic_regression(xTrain, xTest, yTrain, yTest, features)"
   ]
  },
  {
   "cell_type": "markdown",
   "metadata": {},
   "source": [
    "<font color = \"red\">\n",
    "Before this, I tried to do the logistic regression for the ransomware dataset on the unscaled one - the results were quire poor, and now since we scaled the data I actually see that the results got better, without any parameter tunning.\n",
    "    \n",
    "Time : 4.234375\n",
    "</font>"
   ]
  },
  {
   "cell_type": "markdown",
   "metadata": {},
   "source": [
    "#### 4.2 Logistic Regression for Ransomware Dataset with PCA"
   ]
  },
  {
   "cell_type": "code",
   "execution_count": null,
   "metadata": {
    "scrolled": true
   },
   "outputs": [],
   "source": [
    "# Logic Function for Logistic Regression with PCA\n",
    "\n",
    "def get_logistic_regression_pca(x1, x2, y1, y2, features):\n",
    "    \n",
    "    # Initialize PCA\n",
    "    pca_log = PCA(n_components = 0.95)\n",
    "    pca_log.fit(x1)\n",
    "    \n",
    "    train_pca = pca_log.transform(x1)\n",
    "    test_pca = pca_log.transform(x2)\n",
    "    \n",
    "    # Execution time for the training set with PCA\n",
    "    t1_start = process_time()\n",
    "    log_regressor_pca = LogisticRegression().fit(train_pca, y1)\n",
    "    t1_stop = process_time()\n",
    "    print(\"Total time for the training set:\",t1_stop-t1_start)\n",
    "    \n",
    "    # Check the first results of the prediction\n",
    "    log_results_pca = pd.DataFrame({'Actual' : y2, 'Predicted' : log_regressor_pca.predict(test_pca)})\n",
    "    print(log_results_pca.head(25))\n",
    "    \n",
    "    print(\"Score Report : \", metrics.classification_report(y2, log_regressor_pca.predict(test_pca) ))\n",
    "    #print(\"Accuracy : \", metrics.accuracy_score(yTest,log_regressor_pca.predict(test_pca)))\n",
    "    #print(\"Precision : \", metrics.precision_score(yTest, log_regressor_pca.predict(test_pca), average = None))\n",
    "    #print(\"Recall : \", metrics.recall_score(yTest, log_regressor_pca.predict(test_pca), average = None))\n",
    "    "
   ]
  },
  {
   "cell_type": "code",
   "execution_count": null,
   "metadata": {
    "scrolled": false
   },
   "outputs": [],
   "source": [
    "get_logistic_regression_pca(xTrain, xTest, yTrain, yTest, features)"
   ]
  },
  {
   "cell_type": "markdown",
   "metadata": {},
   "source": [
    "<font color = \"red\"> Much better speed on this ransomware dataset, but since the dataset was reduced with PCA, the results are much worse. And since we have good speed already with Logistic Regression, not much worth it to add PCA to it.\n",
    "\n",
    "Time : 1.4375\n",
    "</font>"
   ]
  },
  {
   "cell_type": "markdown",
   "metadata": {},
   "source": [
    "#### 4.3 Logistic Regression for Ransomware Dataset with Grid Search"
   ]
  },
  {
   "cell_type": "code",
   "execution_count": null,
   "metadata": {
    "scrolled": true
   },
   "outputs": [],
   "source": [
    "def get_logistic_regression_gs(x1, x2, y1, y2, features):\n",
    "    # Choose parameters for logistic regression\n",
    "    params = {\"C\" : [1, 2, 3], \"penalty\" : [\"l1\",\"l2\"]}\n",
    "    \n",
    "    log_regressor = LogisticRegression()\n",
    "    log_regressor_cv = GridSearchCV(log_regressor, params, cv=3)\n",
    "    log_regressor_cv.fit(x1, y1)\n",
    "    \n",
    "    # Get information on best parameters/score\n",
    "    print(\"Tuned hyperparameters : \", log_regressor_cv.best_params_)\n",
    "    print(\"Best Score : \", log_regressor_cv.best_score_)\n",
    "    \n",
    "    log_regressor_tuned = LogisticRegression(C = 3, penalty = \"l1\")\n",
    "    log_regressor_tuned.fit(x1, y1)\n",
    "    log_regressor_tuned.predict(x2)\n",
    "    print(\"Score : \", log_regressor_tuned.score(x2, y2))\n",
    "    \n",
    "    # Take a look at first results\n",
    "    log_results = pd.DataFrame({'Actual' : y2, 'Predicted' : log_regressor_tuned.predict(x2)})\n",
    "    print(log_results.head(25))\n",
    "    \n",
    "    print(\"Score Report : \", metrics.classification_report(y2, log_regressor_tuned.predict(x2)))\n",
    "    #print(\"Accuracy : \", metrics.accuracy_score(yTest, log_regressor_tuned.predict(xTest)))\n",
    "    #print(\"Precision : \", metrics.precision_score(yTest, log_regressor_tuned.predict(xTest), average = None))\n",
    "    #print(\"Recall : \", metrics.recall_score(yTest, log_regressor_tuned.predict(xTest), average = None))"
   ]
  },
  {
   "cell_type": "code",
   "execution_count": null,
   "metadata": {},
   "outputs": [],
   "source": [
    "# Change False to use tunned hyperparameters\n",
    "get_logistic_regression(xTrain, xTest, yTrain, yTest, features, gs = False)"
   ]
  },
  {
   "cell_type": "code",
   "execution_count": null,
   "metadata": {
    "scrolled": false
   },
   "outputs": [],
   "source": [
    "get_logistic_regression_gs(xTrain, xTest, yTrain, yTest, features)"
   ]
  },
  {
   "cell_type": "markdown",
   "metadata": {},
   "source": [
    "<font color = \"red\">\n",
    "Tuned hyperparameters :  {'C': 3, 'penalty': 'l1'} - Best Parameters\n",
    "</font>"
   ]
  },
  {
   "cell_type": "markdown",
   "metadata": {},
   "source": [
    "<font color = \"purple\"> Slightly better results with Grid Search, going from 0.67 to 0.69 </font>"
   ]
  },
  {
   "cell_type": "markdown",
   "metadata": {},
   "source": [
    "#### 4.4 Logistic Regression for Entire Dataset "
   ]
  },
  {
   "cell_type": "code",
   "execution_count": null,
   "metadata": {
    "scrolled": true
   },
   "outputs": [],
   "source": [
    "xTrainAll, xTestAll, yTrainAll, yTestAll, featuresAll = prepare_test_sets_all(df)"
   ]
  },
  {
   "cell_type": "code",
   "execution_count": null,
   "metadata": {
    "scrolled": false
   },
   "outputs": [],
   "source": [
    "get_logistic_regression(xTrainAll, xTestAll, yTrainAll, yTestAll, featuresAll)"
   ]
  },
  {
   "cell_type": "markdown",
   "metadata": {},
   "source": [
    "<font color = \"purple\">TO BE DONE: LR PCA for whole dataset to see the speed </font> "
   ]
  },
  {
   "cell_type": "markdown",
   "metadata": {},
   "source": [
    "#### 4.5 Logistic Regression for Entire Dataset with PCA"
   ]
  },
  {
   "cell_type": "code",
   "execution_count": null,
   "metadata": {
    "scrolled": true
   },
   "outputs": [],
   "source": [
    "xTrainAll, xTestAll, yTrainAll, yTestAll, featuresAll = prepare_test_sets(df_scaled)"
   ]
  },
  {
   "cell_type": "code",
   "execution_count": null,
   "metadata": {},
   "outputs": [],
   "source": [
    "get_logistic_regression_pca(xTrainAll, xTestAll, yTrainAll, yTestAll, featuresAll)"
   ]
  },
  {
   "cell_type": "markdown",
   "metadata": {},
   "source": [
    "### 5. SVM <a class=\"anchor\" id=\"5\"></a>"
   ]
  },
  {
   "cell_type": "markdown",
   "metadata": {},
   "source": [
    "#### 5.1 SVM for Ransomware Dataset"
   ]
  },
  {
   "cell_type": "code",
   "execution_count": null,
   "metadata": {},
   "outputs": [],
   "source": [
    "def getClassifier(ktype):\n",
    "    if ktype == \"Polynomial\":\n",
    "        return SVC(kernel = 'poly', gamma = 'auto')\n",
    "    elif ktype == \"RBF\":\n",
    "        return SVC(kernel = 'rbf', gamma = \"auto\")\n",
    "    elif ktype == \"Sigmoid\":\n",
    "        return SVC(kernel = 'sigmoid', gamma = \"auto\")\n",
    "    elif ktype == \"Linear\":\n",
    "        return SVC(kernel = 'linear', gamma = \"auto\")"
   ]
  },
  {
   "cell_type": "code",
   "execution_count": null,
   "metadata": {},
   "outputs": [],
   "source": [
    "def get_svm(x1, x2, y1, y2, features, kernels):\n",
    "    for i in kernels:\n",
    "        svcClf = getClassifier(i)\n",
    "        svcClf.fit(xTrain, yTrain)\n",
    "        y_predSvm = svcClf.predict(xTest)\n",
    "    \n",
    "        print(str(i))\n",
    "        print(\"Accuracy Score : \", metrics.accuracy_score(yTest, y_predSvm))\n",
    "        #print(\"Precision Score : \", metrics.precision_score(yTest, y_predSvm, average = None))\n",
    "        #print(\"Recall Score : \", metrics.recall_score(yTest, y_predSvm, average = None))\n",
    "        #print(\"F1 Score : \", metrics.f1_score(yTest, y_predSvm, average = None))\n",
    "    \n",
    "        #Confusion Matrix\n",
    "        #print(\"Confusion Matrix : \\n\", metrics.confusion_matrix(yTest, y_predSvm))\n",
    "    "
   ]
  },
  {
   "cell_type": "code",
   "execution_count": null,
   "metadata": {
    "scrolled": true
   },
   "outputs": [],
   "source": [
    "xTrain, xTest, yTrain, yTest, features = prepare_test_sets(df_ransomware_scaled)"
   ]
  },
  {
   "cell_type": "code",
   "execution_count": null,
   "metadata": {},
   "outputs": [],
   "source": [
    "# Define kernels for SVM\n",
    "kernels = ['Polynomial', 'Sigmoid', 'Linear']"
   ]
  },
  {
   "cell_type": "code",
   "execution_count": null,
   "metadata": {},
   "outputs": [],
   "source": [
    "if False:\n",
    "    get_svm(xTrain, xTest, yTrain, yTest, features, kernels)"
   ]
  },
  {
   "cell_type": "markdown",
   "metadata": {},
   "source": [
    "<font color = \"red\">This usually gives good results, but don't try to run it always - because it takes too much time to go thru all the kernels. Thats why I even deleted the RBF one, because that was the slowest. </font>\n",
    "\n",
    "<font color = \"purple\"> TO DO: PCA FOR SVM with rasnwaomre dataset </font>"
   ]
  },
  {
   "cell_type": "markdown",
   "metadata": {},
   "source": [
    "#### 5.2 SVM for Ransomware Dataset with PCA"
   ]
  },
  {
   "cell_type": "code",
   "execution_count": null,
   "metadata": {
    "scrolled": true
   },
   "outputs": [],
   "source": [
    "xTrain, xTest, yTrain, yTest, features = prepare_test_sets(df)"
   ]
  },
  {
   "cell_type": "code",
   "execution_count": null,
   "metadata": {
    "scrolled": true
   },
   "outputs": [],
   "source": [
    "# Initialize PCA\n",
    "pca_svm = PCA(n_components = 0.95)"
   ]
  },
  {
   "cell_type": "code",
   "execution_count": null,
   "metadata": {
    "scrolled": true
   },
   "outputs": [],
   "source": [
    "train_pca_svm = pca_svm.fit_transform(xTrain)\n",
    "test_pca_svm = pca_svm.transform(xTest)"
   ]
  },
  {
   "cell_type": "code",
   "execution_count": null,
   "metadata": {
    "scrolled": true
   },
   "outputs": [],
   "source": [
    "pca_svm.explained_variance_ratio_"
   ]
  },
  {
   "cell_type": "code",
   "execution_count": null,
   "metadata": {},
   "outputs": [],
   "source": [
    "# Call function and feed it PCA features\n",
    "if False:\n",
    "    get_svm(train_pcs_svm, test_pca_svm, yTrain, yTest, features, kernels)"
   ]
  },
  {
   "cell_type": "markdown",
   "metadata": {},
   "source": [
    "### 6. KNN  <a class=\"anchor\" id=\"6\"></a>"
   ]
  },
  {
   "cell_type": "markdown",
   "metadata": {},
   "source": [
    "#### 6.1  KNN for Entire Dataset"
   ]
  },
  {
   "cell_type": "code",
   "execution_count": null,
   "metadata": {},
   "outputs": [],
   "source": [
    "def get_knn(x1, x2, y1, y2, features):\n",
    "    clfKnn = KNeighborsClassifier().fit(x1, y1)\n",
    "    yPredKnn = clfKnn.predict(x2)\n",
    "\n",
    "    log_results = pd.DataFrame({'Actual' : y2, 'Predicted' : yPredKnn})\n",
    "    print(log_results.head(25))\n",
    "    \n",
    "    #distribution of y test\n",
    "    print('y actual : \\n' +  str(y1.value_counts()))\n",
    "    #distribution of y predicted\n",
    "    print('y predicted : \\n' + str(pd.Series(yPredKnn).value_counts()))\n",
    "    \n",
    "    print(\"Score Report : \", metrics.classification_report(y2, yPredKnn))\n",
    "\n",
    "    #print(\"Accuracy : \", metrics.accuracy_score(y2, yPredKnn))\n",
    "    #print(\"Precision : \", metrics.precision_score(y2, yPredKnn))\n",
    "    #print(\"Recall : \", metrics.recall_score(y2, yPredKnn))\n",
    "    #print(\"F1 Score : \", metrics.f1_score(y2, yPredKnn))"
   ]
  },
  {
   "cell_type": "code",
   "execution_count": null,
   "metadata": {
    "scrolled": true
   },
   "outputs": [],
   "source": [
    "xTrainAll, xTestAll, yTrainAll, yTestAll, featuresAll = prepare_test_sets_all(df)"
   ]
  },
  {
   "cell_type": "code",
   "execution_count": null,
   "metadata": {},
   "outputs": [],
   "source": [
    "get_knn(xTrainAll, xTestAll, yTrainAll, yTestAll, featuresAll)"
   ]
  },
  {
   "cell_type": "markdown",
   "metadata": {},
   "source": [
    "<font color = \"red\"> F1 Score for0: 0.99 and for1: 0.23 - so its good at detecting the most popular class out of ransomware or white. </font>"
   ]
  },
  {
   "cell_type": "markdown",
   "metadata": {},
   "source": [
    "#### 6.2 KNN for Ransomware Dataset with Grid Search"
   ]
  },
  {
   "cell_type": "code",
   "execution_count": null,
   "metadata": {},
   "outputs": [],
   "source": [
    "def get_knn_gs(x1, x2, y1, y2, features):\n",
    "    clfKnn = KNeighborsClassifier()\n",
    "\n",
    "    params = { 'n_neighbors': [3,5,7,11,9], 'weights': ['uniform', 'distance'], 'metric': ['euclidean', 'manhattan']}\n",
    "    gClf = GridSearchCV(clfKnn, params, cv = 3)\n",
    "\n",
    "    gClf.fit(x1, y1)\n",
    "    \n",
    "    #analyze the best scores\n",
    "    print(gClf.best_score_, gClf.best_params_)"
   ]
  },
  {
   "cell_type": "code",
   "execution_count": null,
   "metadata": {
    "scrolled": true
   },
   "outputs": [],
   "source": [
    "xTrain, xTest, yTrain, yTest, features = prepare_test_sets(df_ransomware_scaled)"
   ]
  },
  {
   "cell_type": "code",
   "execution_count": null,
   "metadata": {},
   "outputs": [],
   "source": [
    "get_knn_gs(xTrain, xTest, yTrain, yTest, features)"
   ]
  },
  {
   "cell_type": "markdown",
   "metadata": {},
   "source": [
    "<font color = \"red\"> Best Results for KNN with GS: 0.7314787984159181 {'metric': 'manhattan', 'n_neighbors': 9, 'weights': 'uniform'}</font>"
   ]
  },
  {
   "cell_type": "code",
   "execution_count": null,
   "metadata": {
    "scrolled": false
   },
   "outputs": [],
   "source": [
    "# Now use the KNN with the best results as seen from Grid Search\n",
    "newClfKnn = KNeighborsClassifier(metric= 'manhattan', n_neighbors= 9, weights= 'uniform').fit(xTrain, yTrain)\n",
    "yPredKnn = newClfKnn.predict(xTest)\n",
    "\n",
    "log_results = pd.DataFrame({'Actual' : yTest, 'Predicted' : yPredKnn})\n",
    "log_results.head(25)"
   ]
  },
  {
   "cell_type": "code",
   "execution_count": null,
   "metadata": {
    "scrolled": false
   },
   "outputs": [],
   "source": [
    "print(\"Score Report : \", metrics.classification_report(yTest, yPredKnn))\n",
    "\n",
    "print(\"Accuracy : \", metrics.accuracy_score(yTest, yPredKnn))\n",
    "print(\"Precision : \", metrics.precision_score(yTest, yPredKnn, average = None))\n",
    "print(\"Recall : \", metrics.recall_score(yTest, yPredKnn, average = None))\n",
    "print(\"F1 Score : \", metrics.f1_score(yTest, yPredKnn, average = None))"
   ]
  },
  {
   "cell_type": "markdown",
   "metadata": {},
   "source": [
    "<font color =\"red\">Well, first step was doing simple KNN for the ransomware dataset: the accuracy was around 0.6 each time. And then I implemented the Grid Search with some given parameters, and got close to 0.8 - therefore I took those prarameters from the Grid Search and implemented KNN with them. </font>"
   ]
  },
  {
   "cell_type": "markdown",
   "metadata": {},
   "source": [
    "### 7. Voting Classifier for ransomware dataset  <a class=\"anchor\" id=\"7\"></a>"
   ]
  },
  {
   "cell_type": "code",
   "execution_count": null,
   "metadata": {
    "scrolled": false
   },
   "outputs": [],
   "source": [
    "#instantiate the individual algorithms for the ensemble\n",
    "tree = DecisionTreeClassifier()\n",
    "knn = KNeighborsClassifier(metric= 'manhattan', n_neighbors= 11, weights= 'distance')\n",
    "randomforest = RandomForestClassifier()\n",
    "\n",
    "#create the ensemble\n",
    "vc = VotingClassifier(estimators = [('tree', tree), ('knn', knn), ('randomforest', randomforest)], voting = 'soft')\n",
    "\n",
    "#train the model\n",
    "vc.fit(xTrain, yTrain)\n",
    "\n",
    "yPred_Vc = vc.predict(xTest)\n",
    "\n",
    "print(\"Report Score : \", metrics.classification_report(yTest, yPred_Vc))\n",
    "\n",
    "print(\"Accuracy Score : \", metrics.accuracy_score(yTest, yPred_Vc))\n",
    "print(\"Precision Score : \", metrics.precision_score(yTest, yPred_Vc, average = None))\n",
    "print(\"Recall Score : \", metrics.recall_score(yTest, yPred_Vc, average = None))\n",
    "print(\"F1 Score : \", metrics.f1_score(yTest, yPred_Vc, average = None))\n",
    "    \n",
    "#Confusion Matrix\n",
    "print(\"Confusion Matrix : \\n\", metrics.confusion_matrix(yTest, yPred_Vc))"
   ]
  },
  {
   "cell_type": "markdown",
   "metadata": {},
   "source": [
    "### 8. Neural Networks <a class=\"anchor\" id=\"8\"></a>"
   ]
  },
  {
   "cell_type": "code",
   "execution_count": 14,
   "metadata": {},
   "outputs": [],
   "source": [
    "df_majority = df_scaled[df_scaled.binary_label==0]\n",
    "df_minority = df_scaled[df_scaled.binary_label==1]"
   ]
  },
  {
   "cell_type": "code",
   "execution_count": 15,
   "metadata": {},
   "outputs": [
    {
     "data": {
      "text/plain": [
       "1    41413\n",
       "0    23113\n",
       "Name: binary_label, dtype: int64"
      ]
     },
     "execution_count": 15,
     "metadata": {},
     "output_type": "execute_result"
    }
   ],
   "source": [
    "#We resample the data, since we want the dataset to be balanced to ensure better predictions of ransomware addresses\n",
    "df_majority_downsampled = resample(df_majority, \n",
    "                                replace=False,    \n",
    "                                 n_samples=23113,     \n",
    "                                 random_state=32) \n",
    "df_downsampled = pd.concat([df_majority_downsampled, df_minority])\n",
    "df_downsampled.binary_label.value_counts()"
   ]
  },
  {
   "cell_type": "code",
   "execution_count": 16,
   "metadata": {},
   "outputs": [],
   "source": [
    "xTrain, xTest, yTrain, yTest, features = prepare_test_sets_all(df_scaled)"
   ]
  },
  {
   "cell_type": "code",
   "execution_count": 17,
   "metadata": {},
   "outputs": [],
   "source": [
    "#Since we're interested in having a NN that works well with unseen data, we are going to work with 3 splits\n",
    "#The three splits are going to be train, validation, and test\n",
    "xVal, xTest, yVal, yTest = train_test_split(xTest, yTest)"
   ]
  },
  {
   "cell_type": "code",
   "execution_count": 18,
   "metadata": {},
   "outputs": [],
   "source": [
    "#We create a sequential model, which means that we build the neural network as a sequence, step by step \n",
    "nn1 = Sequential([Dense(32, activation='relu', input_shape=(8,)), \n",
    "                 Dense(32, activation='relu'), Dense(1, activation='sigmoid')])"
   ]
  },
  {
   "cell_type": "code",
   "execution_count": 19,
   "metadata": {},
   "outputs": [],
   "source": [
    "#We use stochastic gradient descent as an optimazor\n",
    "#We use binary crossentropy as a loss function since it works best with a classification problem\n",
    "nn1.compile('sgd', loss='binary_crossentropy', metrics=['accuracy'])"
   ]
  },
  {
   "cell_type": "code",
   "execution_count": 20,
   "metadata": {},
   "outputs": [
    {
     "name": "stdout",
     "output_type": "stream",
     "text": [
      "Train on 2187516 samples, validate on 546879 samples\n",
      "Epoch 1/100\n",
      "2187516/2187516 [==============================] - 21s 9us/step - loss: 0.0935 - accuracy: 0.9861 - val_loss: 0.0648 - val_accuracy: 0.9866\n",
      "Epoch 2/100\n",
      "2187516/2187516 [==============================] - 21s 9us/step - loss: 0.0642 - accuracy: 0.9867 - val_loss: 0.0635 - val_accuracy: 0.9868\n",
      "Epoch 3/100\n",
      "2187516/2187516 [==============================] - 19s 9us/step - loss: 0.0633 - accuracy: 0.9868 - val_loss: 0.0628 - val_accuracy: 0.9868\n",
      "Epoch 4/100\n",
      "2187516/2187516 [==============================] - 20s 9us/step - loss: 0.0627 - accuracy: 0.9868 - val_loss: 0.0623 - val_accuracy: 0.9869\n",
      "Epoch 5/100\n",
      "2187516/2187516 [==============================] - 19s 9us/step - loss: 0.0623 - accuracy: 0.9869 - val_loss: 0.0620 - val_accuracy: 0.9869\n",
      "Epoch 6/100\n",
      "2187516/2187516 [==============================] - 17s 8us/step - loss: 0.0619 - accuracy: 0.9869 - val_loss: 0.0617 - val_accuracy: 0.9870\n",
      "Epoch 7/100\n",
      "2187516/2187516 [==============================] - 17s 8us/step - loss: 0.0617 - accuracy: 0.9869 - val_loss: 0.0614 - val_accuracy: 0.9870\n",
      "Epoch 8/100\n",
      "2187516/2187516 [==============================] - 16s 7us/step - loss: 0.0614 - accuracy: 0.9870 - val_loss: 0.0612 - val_accuracy: 0.9870\n",
      "Epoch 9/100\n",
      "2187516/2187516 [==============================] - 17s 8us/step - loss: 0.0612 - accuracy: 0.9870 - val_loss: 0.0611 - val_accuracy: 0.9870\n",
      "Epoch 10/100\n",
      "2187516/2187516 [==============================] - 17s 8us/step - loss: 0.0611 - accuracy: 0.9870 - val_loss: 0.0609 - val_accuracy: 0.9870\n",
      "Epoch 11/100\n",
      "2187516/2187516 [==============================] - 16s 7us/step - loss: 0.0609 - accuracy: 0.9870 - val_loss: 0.0608 - val_accuracy: 0.9870\n",
      "Epoch 12/100\n",
      "2187516/2187516 [==============================] - 17s 8us/step - loss: 0.0608 - accuracy: 0.9870 - val_loss: 0.0607 - val_accuracy: 0.9870\n",
      "Epoch 13/100\n",
      "2187516/2187516 [==============================] - 16s 7us/step - loss: 0.0607 - accuracy: 0.9870 - val_loss: 0.0606 - val_accuracy: 0.9870\n",
      "Epoch 14/100\n",
      "2187516/2187516 [==============================] - 16s 8us/step - loss: 0.0606 - accuracy: 0.9870 - val_loss: 0.0605 - val_accuracy: 0.9871\n",
      "Epoch 15/100\n",
      "2187516/2187516 [==============================] - 16s 8us/step - loss: 0.0605 - accuracy: 0.9870 - val_loss: 0.0604 - val_accuracy: 0.9871\n",
      "Epoch 16/100\n",
      "2187516/2187516 [==============================] - 17s 8us/step - loss: 0.0604 - accuracy: 0.9870 - val_loss: 0.0603 - val_accuracy: 0.9871\n",
      "Epoch 17/100\n",
      "2187516/2187516 [==============================] - 17s 8us/step - loss: 0.0603 - accuracy: 0.9870 - val_loss: 0.0602 - val_accuracy: 0.9871\n",
      "Epoch 18/100\n",
      "2187516/2187516 [==============================] - 17s 8us/step - loss: 0.0603 - accuracy: 0.9870 - val_loss: 0.0602 - val_accuracy: 0.9871\n",
      "Epoch 19/100\n",
      "2187516/2187516 [==============================] - 16s 7us/step - loss: 0.0602 - accuracy: 0.9870 - val_loss: 0.0601 - val_accuracy: 0.9871\n",
      "Epoch 20/100\n",
      "2187516/2187516 [==============================] - 16s 7us/step - loss: 0.0602 - accuracy: 0.9870 - val_loss: 0.0601 - val_accuracy: 0.9871\n",
      "Epoch 21/100\n",
      "2187516/2187516 [==============================] - 16s 8us/step - loss: 0.0601 - accuracy: 0.9870 - val_loss: 0.0600 - val_accuracy: 0.9871\n",
      "Epoch 22/100\n",
      "2187516/2187516 [==============================] - 16s 8us/step - loss: 0.0600 - accuracy: 0.9870 - val_loss: 0.0599 - val_accuracy: 0.9871\n",
      "Epoch 23/100\n",
      "2187516/2187516 [==============================] - 17s 8us/step - loss: 0.0600 - accuracy: 0.9870 - val_loss: 0.0599 - val_accuracy: 0.9871\n",
      "Epoch 24/100\n",
      "2187516/2187516 [==============================] - 19s 9us/step - loss: 0.0599 - accuracy: 0.9871 - val_loss: 0.0598 - val_accuracy: 0.9871\n",
      "Epoch 25/100\n",
      "2187516/2187516 [==============================] - 24s 11us/step - loss: 0.0599 - accuracy: 0.9871 - val_loss: 0.0598 - val_accuracy: 0.9871\n",
      "Epoch 26/100\n",
      "2187516/2187516 [==============================] - 17s 8us/step - loss: 0.0598 - accuracy: 0.9870 - val_loss: 0.0597 - val_accuracy: 0.9871\n",
      "Epoch 27/100\n",
      "2187516/2187516 [==============================] - 16s 7us/step - loss: 0.0598 - accuracy: 0.9871 - val_loss: 0.0597 - val_accuracy: 0.9871\n",
      "Epoch 28/100\n",
      "2187516/2187516 [==============================] - 17s 8us/step - loss: 0.0597 - accuracy: 0.9871 - val_loss: 0.0596 - val_accuracy: 0.9871\n",
      "Epoch 29/100\n",
      "2187516/2187516 [==============================] - 22s 10us/step - loss: 0.0597 - accuracy: 0.9871 - val_loss: 0.0596 - val_accuracy: 0.9871\n",
      "Epoch 30/100\n",
      "2187516/2187516 [==============================] - 19s 8us/step - loss: 0.0596 - accuracy: 0.9871 - val_loss: 0.0595 - val_accuracy: 0.9871\n",
      "Epoch 31/100\n",
      "2187516/2187516 [==============================] - 16s 7us/step - loss: 0.0596 - accuracy: 0.9871 - val_loss: 0.0595 - val_accuracy: 0.9872\n",
      "Epoch 32/100\n",
      "2187516/2187516 [==============================] - 15s 7us/step - loss: 0.0595 - accuracy: 0.9871 - val_loss: 0.0594 - val_accuracy: 0.9872\n",
      "Epoch 33/100\n",
      "2187516/2187516 [==============================] - 15s 7us/step - loss: 0.0595 - accuracy: 0.9871 - val_loss: 0.0594 - val_accuracy: 0.9872\n",
      "Epoch 34/100\n",
      "2187516/2187516 [==============================] - 15s 7us/step - loss: 0.0594 - accuracy: 0.9871 - val_loss: 0.0593 - val_accuracy: 0.9872\n",
      "Epoch 35/100\n",
      "2187516/2187516 [==============================] - 16s 7us/step - loss: 0.0594 - accuracy: 0.9871 - val_loss: 0.0593 - val_accuracy: 0.9872\n",
      "Epoch 36/100\n",
      "2187516/2187516 [==============================] - 15s 7us/step - loss: 0.0593 - accuracy: 0.9871 - val_loss: 0.0592 - val_accuracy: 0.9872\n",
      "Epoch 37/100\n",
      "2187516/2187516 [==============================] - 15s 7us/step - loss: 0.0593 - accuracy: 0.9871 - val_loss: 0.0592 - val_accuracy: 0.9872\n",
      "Epoch 38/100\n",
      "2187516/2187516 [==============================] - 15s 7us/step - loss: 0.0592 - accuracy: 0.9871 - val_loss: 0.0591 - val_accuracy: 0.9872\n",
      "Epoch 39/100\n",
      "2187516/2187516 [==============================] - 15s 7us/step - loss: 0.0592 - accuracy: 0.9871 - val_loss: 0.0591 - val_accuracy: 0.9872\n",
      "Epoch 40/100\n",
      "2187516/2187516 [==============================] - 15s 7us/step - loss: 0.0592 - accuracy: 0.9871 - val_loss: 0.0591 - val_accuracy: 0.9872\n",
      "Epoch 41/100\n",
      "2187516/2187516 [==============================] - 15s 7us/step - loss: 0.0591 - accuracy: 0.9871 - val_loss: 0.0590 - val_accuracy: 0.9872\n",
      "Epoch 42/100\n",
      "2187516/2187516 [==============================] - 15s 7us/step - loss: 0.0591 - accuracy: 0.9872 - val_loss: 0.0590 - val_accuracy: 0.9872\n",
      "Epoch 43/100\n",
      "2187516/2187516 [==============================] - 15s 7us/step - loss: 0.0590 - accuracy: 0.9872 - val_loss: 0.0589 - val_accuracy: 0.9872\n",
      "Epoch 44/100\n",
      "2187516/2187516 [==============================] - 15s 7us/step - loss: 0.0590 - accuracy: 0.9872 - val_loss: 0.0589 - val_accuracy: 0.9872\n",
      "Epoch 45/100\n",
      "2187516/2187516 [==============================] - 16s 7us/step - loss: 0.0589 - accuracy: 0.9872 - val_loss: 0.0588 - val_accuracy: 0.9872\n",
      "Epoch 46/100\n",
      "2187516/2187516 [==============================] - 23s 11us/step - loss: 0.0589 - accuracy: 0.9872 - val_loss: 0.0588 - val_accuracy: 0.9872\n",
      "Epoch 47/100\n",
      "2187516/2187516 [==============================] - 21s 9us/step - loss: 0.0588 - accuracy: 0.9872 - val_loss: 0.0587 - val_accuracy: 0.9872\n",
      "Epoch 48/100\n",
      "2187516/2187516 [==============================] - 19s 9us/step - loss: 0.0588 - accuracy: 0.9872 - val_loss: 0.0587 - val_accuracy: 0.9872\n",
      "Epoch 49/100\n",
      "2187516/2187516 [==============================] - 17s 8us/step - loss: 0.0587 - accuracy: 0.9872 - val_loss: 0.0586 - val_accuracy: 0.9873\n",
      "Epoch 50/100\n",
      "2187516/2187516 [==============================] - 17s 8us/step - loss: 0.0587 - accuracy: 0.9872 - val_loss: 0.0586 - val_accuracy: 0.9873\n",
      "Epoch 51/100\n",
      "2187516/2187516 [==============================] - 17s 8us/step - loss: 0.0587 - accuracy: 0.9872 - val_loss: 0.0586 - val_accuracy: 0.9873\n",
      "Epoch 52/100\n",
      "2187516/2187516 [==============================] - 18s 8us/step - loss: 0.0586 - accuracy: 0.9872 - val_loss: 0.0585 - val_accuracy: 0.9873\n",
      "Epoch 53/100\n",
      "2187516/2187516 [==============================] - 19s 9us/step - loss: 0.0586 - accuracy: 0.9872 - val_loss: 0.0585 - val_accuracy: 0.9873\n",
      "Epoch 54/100\n"
     ]
    },
    {
     "name": "stdout",
     "output_type": "stream",
     "text": [
      "2187516/2187516 [==============================] - 16s 7us/step - loss: 0.0585 - accuracy: 0.9872 - val_loss: 0.0584 - val_accuracy: 0.9873\n",
      "Epoch 55/100\n",
      "2187516/2187516 [==============================] - 16s 7us/step - loss: 0.0585 - accuracy: 0.9872 - val_loss: 0.0584 - val_accuracy: 0.9873\n",
      "Epoch 56/100\n",
      "2187516/2187516 [==============================] - 17s 8us/step - loss: 0.0584 - accuracy: 0.9873 - val_loss: 0.0583 - val_accuracy: 0.9873\n",
      "Epoch 57/100\n",
      "2187516/2187516 [==============================] - 16s 7us/step - loss: 0.0584 - accuracy: 0.9873 - val_loss: 0.0583 - val_accuracy: 0.9873\n",
      "Epoch 58/100\n",
      "2187516/2187516 [==============================] - 16s 7us/step - loss: 0.0584 - accuracy: 0.9873 - val_loss: 0.0583 - val_accuracy: 0.9874\n",
      "Epoch 59/100\n",
      "2187516/2187516 [==============================] - 18s 8us/step - loss: 0.0583 - accuracy: 0.9873 - val_loss: 0.0582 - val_accuracy: 0.9873\n",
      "Epoch 60/100\n",
      "2187516/2187516 [==============================] - 17s 8us/step - loss: 0.0583 - accuracy: 0.9873 - val_loss: 0.0582 - val_accuracy: 0.9874\n",
      "Epoch 61/100\n",
      "2187516/2187516 [==============================] - 20s 9us/step - loss: 0.0582 - accuracy: 0.9873 - val_loss: 0.0581 - val_accuracy: 0.9874\n",
      "Epoch 62/100\n",
      "2187516/2187516 [==============================] - 16s 7us/step - loss: 0.0582 - accuracy: 0.9873 - val_loss: 0.0581 - val_accuracy: 0.9874\n",
      "Epoch 63/100\n",
      "2187516/2187516 [==============================] - 17s 8us/step - loss: 0.0581 - accuracy: 0.9873 - val_loss: 0.0580 - val_accuracy: 0.9874\n",
      "Epoch 64/100\n",
      "2187516/2187516 [==============================] - 15s 7us/step - loss: 0.0581 - accuracy: 0.9873 - val_loss: 0.0580 - val_accuracy: 0.9874\n",
      "Epoch 65/100\n",
      "2187516/2187516 [==============================] - 17s 8us/step - loss: 0.0581 - accuracy: 0.9873 - val_loss: 0.0580 - val_accuracy: 0.9874\n",
      "Epoch 66/100\n",
      "2187516/2187516 [==============================] - 20s 9us/step - loss: 0.0580 - accuracy: 0.9873 - val_loss: 0.0579 - val_accuracy: 0.9874\n",
      "Epoch 67/100\n",
      "2187516/2187516 [==============================] - 15s 7us/step - loss: 0.0580 - accuracy: 0.9873 - val_loss: 0.0579 - val_accuracy: 0.9874\n",
      "Epoch 68/100\n",
      "2187516/2187516 [==============================] - 15s 7us/step - loss: 0.0580 - accuracy: 0.9873 - val_loss: 0.0578 - val_accuracy: 0.9874\n",
      "Epoch 69/100\n",
      "2187516/2187516 [==============================] - 18s 8us/step - loss: 0.0579 - accuracy: 0.9873 - val_loss: 0.0578 - val_accuracy: 0.9874\n",
      "Epoch 70/100\n",
      "2187516/2187516 [==============================] - 20s 9us/step - loss: 0.0579 - accuracy: 0.9873 - val_loss: 0.0578 - val_accuracy: 0.9874\n",
      "Epoch 71/100\n",
      "2187516/2187516 [==============================] - 22s 10us/step - loss: 0.0579 - accuracy: 0.9873 - val_loss: 0.0577 - val_accuracy: 0.9874\n",
      "Epoch 72/100\n",
      "2187516/2187516 [==============================] - 20s 9us/step - loss: 0.0578 - accuracy: 0.9873 - val_loss: 0.0577 - val_accuracy: 0.9874\n",
      "Epoch 73/100\n",
      "2187516/2187516 [==============================] - 17s 8us/step - loss: 0.0578 - accuracy: 0.9873 - val_loss: 0.0577 - val_accuracy: 0.9874\n",
      "Epoch 74/100\n",
      "2187516/2187516 [==============================] - 20s 9us/step - loss: 0.0578 - accuracy: 0.9873 - val_loss: 0.0577 - val_accuracy: 0.9874\n",
      "Epoch 75/100\n",
      "2187516/2187516 [==============================] - 18s 8us/step - loss: 0.0577 - accuracy: 0.9873 - val_loss: 0.0576 - val_accuracy: 0.9874\n",
      "Epoch 76/100\n",
      "2187516/2187516 [==============================] - 18s 8us/step - loss: 0.0577 - accuracy: 0.9874 - val_loss: 0.0576 - val_accuracy: 0.9874\n",
      "Epoch 77/100\n",
      "2187516/2187516 [==============================] - 16s 8us/step - loss: 0.0577 - accuracy: 0.9874 - val_loss: 0.0576 - val_accuracy: 0.9874\n",
      "Epoch 78/100\n",
      "2187516/2187516 [==============================] - 15s 7us/step - loss: 0.0576 - accuracy: 0.9874 - val_loss: 0.0575 - val_accuracy: 0.9874\n",
      "Epoch 79/100\n",
      "2187516/2187516 [==============================] - 15s 7us/step - loss: 0.0576 - accuracy: 0.9874 - val_loss: 0.0575 - val_accuracy: 0.9874\n",
      "Epoch 80/100\n",
      "2187516/2187516 [==============================] - 21s 9us/step - loss: 0.0576 - accuracy: 0.9874 - val_loss: 0.0575 - val_accuracy: 0.9874\n",
      "Epoch 81/100\n",
      "2187516/2187516 [==============================] - 16s 7us/step - loss: 0.0576 - accuracy: 0.9874 - val_loss: 0.0575 - val_accuracy: 0.9875\n",
      "Epoch 82/100\n",
      "2187516/2187516 [==============================] - 16s 7us/step - loss: 0.0575 - accuracy: 0.9874 - val_loss: 0.0574 - val_accuracy: 0.9875\n",
      "Epoch 83/100\n",
      "2187516/2187516 [==============================] - 15s 7us/step - loss: 0.0575 - accuracy: 0.9874 - val_loss: 0.0574 - val_accuracy: 0.9875\n",
      "Epoch 84/100\n",
      "2187516/2187516 [==============================] - 15s 7us/step - loss: 0.0575 - accuracy: 0.9874 - val_loss: 0.0574 - val_accuracy: 0.9875\n",
      "Epoch 85/100\n",
      "2187516/2187516 [==============================] - 15s 7us/step - loss: 0.0575 - accuracy: 0.9874 - val_loss: 0.0574 - val_accuracy: 0.9875\n",
      "Epoch 86/100\n",
      "2187516/2187516 [==============================] - 15s 7us/step - loss: 0.0574 - accuracy: 0.9874 - val_loss: 0.0573 - val_accuracy: 0.9875\n",
      "Epoch 87/100\n",
      "2187516/2187516 [==============================] - 15s 7us/step - loss: 0.0574 - accuracy: 0.9874 - val_loss: 0.0573 - val_accuracy: 0.9875\n",
      "Epoch 88/100\n",
      "2187516/2187516 [==============================] - 19s 9us/step - loss: 0.0574 - accuracy: 0.9874 - val_loss: 0.0573 - val_accuracy: 0.9875\n",
      "Epoch 89/100\n",
      "2187516/2187516 [==============================] - 18s 8us/step - loss: 0.0574 - accuracy: 0.9874 - val_loss: 0.0573 - val_accuracy: 0.9875\n",
      "Epoch 90/100\n",
      "2187516/2187516 [==============================] - 17s 8us/step - loss: 0.0573 - accuracy: 0.9874 - val_loss: 0.0572 - val_accuracy: 0.9875\n",
      "Epoch 91/100\n",
      "2187516/2187516 [==============================] - 19s 9us/step - loss: 0.0573 - accuracy: 0.9874 - val_loss: 0.0572 - val_accuracy: 0.9875\n",
      "Epoch 92/100\n",
      "2187516/2187516 [==============================] - 18s 8us/step - loss: 0.0573 - accuracy: 0.9875 - val_loss: 0.0572 - val_accuracy: 0.9875\n",
      "Epoch 93/100\n",
      "2187516/2187516 [==============================] - 18s 8us/step - loss: 0.0573 - accuracy: 0.9874 - val_loss: 0.0572 - val_accuracy: 0.9875\n",
      "Epoch 94/100\n",
      "2187516/2187516 [==============================] - 23s 10us/step - loss: 0.0572 - accuracy: 0.9875 - val_loss: 0.0572 - val_accuracy: 0.9875\n",
      "Epoch 95/100\n",
      "2187516/2187516 [==============================] - 32s 14us/step - loss: 0.0572 - accuracy: 0.9875 - val_loss: 0.0571 - val_accuracy: 0.9875\n",
      "Epoch 96/100\n",
      "2187516/2187516 [==============================] - 16s 8us/step - loss: 0.0572 - accuracy: 0.9875 - val_loss: 0.0571 - val_accuracy: 0.9875\n",
      "Epoch 97/100\n",
      "2187516/2187516 [==============================] - 17s 8us/step - loss: 0.0572 - accuracy: 0.9875 - val_loss: 0.0571 - val_accuracy: 0.9875\n",
      "Epoch 98/100\n",
      "2187516/2187516 [==============================] - 21s 9us/step - loss: 0.0572 - accuracy: 0.9875 - val_loss: 0.0571 - val_accuracy: 0.9875\n",
      "Epoch 99/100\n",
      "2187516/2187516 [==============================] - 17s 8us/step - loss: 0.0571 - accuracy: 0.9875 - val_loss: 0.0570 - val_accuracy: 0.9875\n",
      "Epoch 100/100\n",
      "2187516/2187516 [==============================] - 17s 8us/step - loss: 0.0571 - accuracy: 0.9875 - val_loss: 0.0570 - val_accuracy: 0.9875\n"
     ]
    }
   ],
   "source": [
    "pred1 = nn1.fit(xTrain, yTrain, batch_size=924, epochs=100, validation_data=(xVal, yVal))"
   ]
  },
  {
   "cell_type": "code",
   "execution_count": 21,
   "metadata": {},
   "outputs": [
    {
     "name": "stdout",
     "output_type": "stream",
     "text": [
      "182294/182294 [==============================] - 7s 38us/step\n"
     ]
    },
    {
     "data": {
      "text/plain": [
       "0.9877176284790039"
      ]
     },
     "execution_count": 21,
     "metadata": {},
     "output_type": "execute_result"
    }
   ],
   "source": [
    "nn1.evaluate(xTest, yTest)[1]"
   ]
  },
  {
   "cell_type": "markdown",
   "metadata": {},
   "source": [
    "<font color = \"purple\">  Note: if we try changing the batches we might achieve better results </font>"
   ]
  },
  {
   "cell_type": "code",
   "execution_count": 22,
   "metadata": {},
   "outputs": [
    {
     "data": {
      "image/png": "[encoded data removed]",
      "text/plain": [
       "<Figure size 432x288 with 1 Axes>"
      ]
     },
     "metadata": {
      "needs_background": "light"
     },
     "output_type": "display_data"
    }
   ],
   "source": [
    "#We want both curves to go downwards, if the orange is increasing it's overfitting.\n",
    "#We want the organge curve to have a loss function that is as similar to the orange curve as possible.\n",
    "plt.plot(pred1.history['loss'])\n",
    "plt.plot(pred1.history['val_loss'])\n",
    "plt.title('Model loss')\n",
    "plt.ylabel('Loss')\n",
    "plt.xlabel('Epoch')\n",
    "plt.legend(['Train', 'Val'], loc='upper right')\n",
    "plt.show()"
   ]
  },
  {
   "cell_type": "code",
   "execution_count": 23,
   "metadata": {},
   "outputs": [
    {
     "data": {
      "image/png": "[encoded data removed]",
      "text/plain": [
       "<Figure size 432x288 with 1 Axes>"
      ]
     },
     "metadata": {
      "needs_background": "light"
     },
     "output_type": "display_data"
    }
   ],
   "source": [
    "plt.plot(pred1.history['accuracy'])\n",
    "plt.plot(pred1.history['val_accuracy'])\n",
    "plt.title('Model accuracy')\n",
    "plt.ylabel('Accuracy')\n",
    "plt.xlabel('Epoch')\n",
    "plt.legend(['Train', 'Val'], loc='lower right')\n",
    "plt.show()"
   ]
  },
  {
   "cell_type": "code",
   "execution_count": 24,
   "metadata": {},
   "outputs": [],
   "source": [
    "#We make a second model that tries \n",
    "nn2 = Sequential([\n",
    "    Dense(32, activation='relu', kernel_regularizer=regularizers.l2(0.01), input_shape=(8,)),\n",
    "    Dropout(0.3),\n",
    "    Dense(500, activation='relu', kernel_regularizer=regularizers.l2(0.01)),\n",
    "    Dropout(0.3),\n",
    "    Dense(500, activation='relu', kernel_regularizer=regularizers.l2(0.01)),\n",
    "    Dropout(0.3),\n",
    "    Dense(1, activation='sigmoid', kernel_regularizer=regularizers.l2(0.01)),\n",
    "])"
   ]
  },
  {
   "cell_type": "code",
   "execution_count": 25,
   "metadata": {},
   "outputs": [],
   "source": [
    "nn2.compile(optimizer='sgd',\n",
    "              loss='binary_crossentropy',\n",
    "              metrics=['accuracy'])"
   ]
  },
  {
   "cell_type": "code",
   "execution_count": 26,
   "metadata": {},
   "outputs": [
    {
     "name": "stdout",
     "output_type": "stream",
     "text": [
      "Train on 2187516 samples, validate on 546879 samples\n",
      "Epoch 1/100\n",
      " 538692/2187516 [======>.......................] - ETA: 3:15 - loss: 5.3752 - accuracy: 0.9758"
     ]
    },
    {
     "ename": "KeyboardInterrupt",
     "evalue": "",
     "output_type": "error",
     "traceback": [
      "\u001b[0;31m---------------------------------------------------------------------------\u001b[0m",
      "\u001b[0;31mKeyboardInterrupt\u001b[0m                         Traceback (most recent call last)",
      "\u001b[0;32m<ipython-input-26-59f525e3f90e>\u001b[0m in \u001b[0;36m<module>\u001b[0;34m\u001b[0m\n\u001b[0;32m----> 1\u001b[0;31m \u001b[0mpred2\u001b[0m \u001b[0;34m=\u001b[0m \u001b[0mnn2\u001b[0m\u001b[0;34m.\u001b[0m\u001b[0mfit\u001b[0m\u001b[0;34m(\u001b[0m\u001b[0mxTrain\u001b[0m\u001b[0;34m,\u001b[0m \u001b[0myTrain\u001b[0m\u001b[0;34m,\u001b[0m \u001b[0mbatch_size\u001b[0m\u001b[0;34m=\u001b[0m\u001b[0;36m924\u001b[0m\u001b[0;34m,\u001b[0m \u001b[0mepochs\u001b[0m\u001b[0;34m=\u001b[0m\u001b[0;36m100\u001b[0m\u001b[0;34m,\u001b[0m \u001b[0mvalidation_data\u001b[0m\u001b[0;34m=\u001b[0m\u001b[0;34m(\u001b[0m\u001b[0mxVal\u001b[0m\u001b[0;34m,\u001b[0m \u001b[0myVal\u001b[0m\u001b[0;34m)\u001b[0m\u001b[0;34m)\u001b[0m\u001b[0;34m\u001b[0m\u001b[0;34m\u001b[0m\u001b[0m\n\u001b[0m",
      "\u001b[0;32m~/opt/anaconda3/lib/python3.7/site-packages/keras/engine/training.py\u001b[0m in \u001b[0;36mfit\u001b[0;34m(self, x, y, batch_size, epochs, verbose, callbacks, validation_split, validation_data, shuffle, class_weight, sample_weight, initial_epoch, steps_per_epoch, validation_steps, validation_freq, max_queue_size, workers, use_multiprocessing, **kwargs)\u001b[0m\n\u001b[1;32m   1237\u001b[0m                                         \u001b[0msteps_per_epoch\u001b[0m\u001b[0;34m=\u001b[0m\u001b[0msteps_per_epoch\u001b[0m\u001b[0;34m,\u001b[0m\u001b[0;34m\u001b[0m\u001b[0;34m\u001b[0m\u001b[0m\n\u001b[1;32m   1238\u001b[0m                                         \u001b[0mvalidation_steps\u001b[0m\u001b[0;34m=\u001b[0m\u001b[0mvalidation_steps\u001b[0m\u001b[0;34m,\u001b[0m\u001b[0;34m\u001b[0m\u001b[0;34m\u001b[0m\u001b[0m\n\u001b[0;32m-> 1239\u001b[0;31m                                         validation_freq=validation_freq)\n\u001b[0m\u001b[1;32m   1240\u001b[0m \u001b[0;34m\u001b[0m\u001b[0m\n\u001b[1;32m   1241\u001b[0m     def evaluate(self,\n",
      "\u001b[0;32m~/opt/anaconda3/lib/python3.7/site-packages/keras/engine/training_arrays.py\u001b[0m in \u001b[0;36mfit_loop\u001b[0;34m(model, fit_function, fit_inputs, out_labels, batch_size, epochs, verbose, callbacks, val_function, val_inputs, shuffle, initial_epoch, steps_per_epoch, validation_steps, validation_freq)\u001b[0m\n\u001b[1;32m    194\u001b[0m                     \u001b[0mins_batch\u001b[0m\u001b[0;34m[\u001b[0m\u001b[0mi\u001b[0m\u001b[0;34m]\u001b[0m \u001b[0;34m=\u001b[0m \u001b[0mins_batch\u001b[0m\u001b[0;34m[\u001b[0m\u001b[0mi\u001b[0m\u001b[0;34m]\u001b[0m\u001b[0;34m.\u001b[0m\u001b[0mtoarray\u001b[0m\u001b[0;34m(\u001b[0m\u001b[0;34m)\u001b[0m\u001b[0;34m\u001b[0m\u001b[0;34m\u001b[0m\u001b[0m\n\u001b[1;32m    195\u001b[0m \u001b[0;34m\u001b[0m\u001b[0m\n\u001b[0;32m--> 196\u001b[0;31m                 \u001b[0mouts\u001b[0m \u001b[0;34m=\u001b[0m \u001b[0mfit_function\u001b[0m\u001b[0;34m(\u001b[0m\u001b[0mins_batch\u001b[0m\u001b[0;34m)\u001b[0m\u001b[0;34m\u001b[0m\u001b[0;34m\u001b[0m\u001b[0m\n\u001b[0m\u001b[1;32m    197\u001b[0m                 \u001b[0mouts\u001b[0m \u001b[0;34m=\u001b[0m \u001b[0mto_list\u001b[0m\u001b[0;34m(\u001b[0m\u001b[0mouts\u001b[0m\u001b[0;34m)\u001b[0m\u001b[0;34m\u001b[0m\u001b[0;34m\u001b[0m\u001b[0m\n\u001b[1;32m    198\u001b[0m                 \u001b[0;32mfor\u001b[0m \u001b[0ml\u001b[0m\u001b[0;34m,\u001b[0m \u001b[0mo\u001b[0m \u001b[0;32min\u001b[0m \u001b[0mzip\u001b[0m\u001b[0;34m(\u001b[0m\u001b[0mout_labels\u001b[0m\u001b[0;34m,\u001b[0m \u001b[0mouts\u001b[0m\u001b[0;34m)\u001b[0m\u001b[0;34m:\u001b[0m\u001b[0;34m\u001b[0m\u001b[0;34m\u001b[0m\u001b[0m\n",
      "\u001b[0;32m~/opt/anaconda3/lib/python3.7/site-packages/tensorflow_core/python/keras/backend.py\u001b[0m in \u001b[0;36m__call__\u001b[0;34m(self, inputs)\u001b[0m\n\u001b[1;32m   3738\u001b[0m         \u001b[0mvalue\u001b[0m \u001b[0;34m=\u001b[0m \u001b[0mmath_ops\u001b[0m\u001b[0;34m.\u001b[0m\u001b[0mcast\u001b[0m\u001b[0;34m(\u001b[0m\u001b[0mvalue\u001b[0m\u001b[0;34m,\u001b[0m \u001b[0mtensor\u001b[0m\u001b[0;34m.\u001b[0m\u001b[0mdtype\u001b[0m\u001b[0;34m)\u001b[0m\u001b[0;34m\u001b[0m\u001b[0;34m\u001b[0m\u001b[0m\n\u001b[1;32m   3739\u001b[0m       \u001b[0mconverted_inputs\u001b[0m\u001b[0;34m.\u001b[0m\u001b[0mappend\u001b[0m\u001b[0;34m(\u001b[0m\u001b[0mvalue\u001b[0m\u001b[0;34m)\u001b[0m\u001b[0;34m\u001b[0m\u001b[0;34m\u001b[0m\u001b[0m\n\u001b[0;32m-> 3740\u001b[0;31m     \u001b[0moutputs\u001b[0m \u001b[0;34m=\u001b[0m \u001b[0mself\u001b[0m\u001b[0;34m.\u001b[0m\u001b[0m_graph_fn\u001b[0m\u001b[0;34m(\u001b[0m\u001b[0;34m*\u001b[0m\u001b[0mconverted_inputs\u001b[0m\u001b[0;34m)\u001b[0m\u001b[0;34m\u001b[0m\u001b[0;34m\u001b[0m\u001b[0m\n\u001b[0m\u001b[1;32m   3741\u001b[0m \u001b[0;34m\u001b[0m\u001b[0m\n\u001b[1;32m   3742\u001b[0m     \u001b[0;31m# EagerTensor.numpy() will often make a copy to ensure memory safety.\u001b[0m\u001b[0;34m\u001b[0m\u001b[0;34m\u001b[0m\u001b[0;34m\u001b[0m\u001b[0m\n",
      "\u001b[0;32m~/opt/anaconda3/lib/python3.7/site-packages/tensorflow_core/python/eager/function.py\u001b[0m in \u001b[0;36m__call__\u001b[0;34m(self, *args, **kwargs)\u001b[0m\n\u001b[1;32m   1079\u001b[0m       \u001b[0mTypeError\u001b[0m\u001b[0;34m:\u001b[0m \u001b[0mFor\u001b[0m \u001b[0minvalid\u001b[0m \u001b[0mpositional\u001b[0m\u001b[0;34m/\u001b[0m\u001b[0mkeyword\u001b[0m \u001b[0margument\u001b[0m \u001b[0mcombinations\u001b[0m\u001b[0;34m.\u001b[0m\u001b[0;34m\u001b[0m\u001b[0;34m\u001b[0m\u001b[0m\n\u001b[1;32m   1080\u001b[0m     \"\"\"\n\u001b[0;32m-> 1081\u001b[0;31m     \u001b[0;32mreturn\u001b[0m \u001b[0mself\u001b[0m\u001b[0;34m.\u001b[0m\u001b[0m_call_impl\u001b[0m\u001b[0;34m(\u001b[0m\u001b[0margs\u001b[0m\u001b[0;34m,\u001b[0m \u001b[0mkwargs\u001b[0m\u001b[0;34m)\u001b[0m\u001b[0;34m\u001b[0m\u001b[0;34m\u001b[0m\u001b[0m\n\u001b[0m\u001b[1;32m   1082\u001b[0m \u001b[0;34m\u001b[0m\u001b[0m\n\u001b[1;32m   1083\u001b[0m   \u001b[0;32mdef\u001b[0m \u001b[0m_call_impl\u001b[0m\u001b[0;34m(\u001b[0m\u001b[0mself\u001b[0m\u001b[0;34m,\u001b[0m \u001b[0margs\u001b[0m\u001b[0;34m,\u001b[0m \u001b[0mkwargs\u001b[0m\u001b[0;34m,\u001b[0m \u001b[0mcancellation_manager\u001b[0m\u001b[0;34m=\u001b[0m\u001b[0;32mNone\u001b[0m\u001b[0;34m)\u001b[0m\u001b[0;34m:\u001b[0m\u001b[0;34m\u001b[0m\u001b[0;34m\u001b[0m\u001b[0m\n",
      "\u001b[0;32m~/opt/anaconda3/lib/python3.7/site-packages/tensorflow_core/python/eager/function.py\u001b[0m in \u001b[0;36m_call_impl\u001b[0;34m(self, args, kwargs, cancellation_manager)\u001b[0m\n\u001b[1;32m   1119\u001b[0m       raise TypeError(\"Keyword arguments {} unknown. Expected {}.\".format(\n\u001b[1;32m   1120\u001b[0m           list(kwargs.keys()), list(self._arg_keywords)))\n\u001b[0;32m-> 1121\u001b[0;31m     \u001b[0;32mreturn\u001b[0m \u001b[0mself\u001b[0m\u001b[0;34m.\u001b[0m\u001b[0m_call_flat\u001b[0m\u001b[0;34m(\u001b[0m\u001b[0margs\u001b[0m\u001b[0;34m,\u001b[0m \u001b[0mself\u001b[0m\u001b[0;34m.\u001b[0m\u001b[0mcaptured_inputs\u001b[0m\u001b[0;34m,\u001b[0m \u001b[0mcancellation_manager\u001b[0m\u001b[0;34m)\u001b[0m\u001b[0;34m\u001b[0m\u001b[0;34m\u001b[0m\u001b[0m\n\u001b[0m\u001b[1;32m   1122\u001b[0m \u001b[0;34m\u001b[0m\u001b[0m\n\u001b[1;32m   1123\u001b[0m   \u001b[0;32mdef\u001b[0m \u001b[0m_filtered_call\u001b[0m\u001b[0;34m(\u001b[0m\u001b[0mself\u001b[0m\u001b[0;34m,\u001b[0m \u001b[0margs\u001b[0m\u001b[0;34m,\u001b[0m \u001b[0mkwargs\u001b[0m\u001b[0;34m)\u001b[0m\u001b[0;34m:\u001b[0m\u001b[0;34m\u001b[0m\u001b[0;34m\u001b[0m\u001b[0m\n",
      "\u001b[0;32m~/opt/anaconda3/lib/python3.7/site-packages/tensorflow_core/python/eager/function.py\u001b[0m in \u001b[0;36m_call_flat\u001b[0;34m(self, args, captured_inputs, cancellation_manager)\u001b[0m\n\u001b[1;32m   1222\u001b[0m     \u001b[0;32mif\u001b[0m \u001b[0mexecuting_eagerly\u001b[0m\u001b[0;34m:\u001b[0m\u001b[0;34m\u001b[0m\u001b[0;34m\u001b[0m\u001b[0m\n\u001b[1;32m   1223\u001b[0m       flat_outputs = forward_function.call(\n\u001b[0;32m-> 1224\u001b[0;31m           ctx, args, cancellation_manager=cancellation_manager)\n\u001b[0m\u001b[1;32m   1225\u001b[0m     \u001b[0;32melse\u001b[0m\u001b[0;34m:\u001b[0m\u001b[0;34m\u001b[0m\u001b[0;34m\u001b[0m\u001b[0m\n\u001b[1;32m   1226\u001b[0m       \u001b[0mgradient_name\u001b[0m \u001b[0;34m=\u001b[0m \u001b[0mself\u001b[0m\u001b[0;34m.\u001b[0m\u001b[0m_delayed_rewrite_functions\u001b[0m\u001b[0;34m.\u001b[0m\u001b[0mregister\u001b[0m\u001b[0;34m(\u001b[0m\u001b[0;34m)\u001b[0m\u001b[0;34m\u001b[0m\u001b[0;34m\u001b[0m\u001b[0m\n",
      "\u001b[0;32m~/opt/anaconda3/lib/python3.7/site-packages/tensorflow_core/python/eager/function.py\u001b[0m in \u001b[0;36mcall\u001b[0;34m(self, ctx, args, cancellation_manager)\u001b[0m\n\u001b[1;32m    509\u001b[0m               \u001b[0minputs\u001b[0m\u001b[0;34m=\u001b[0m\u001b[0margs\u001b[0m\u001b[0;34m,\u001b[0m\u001b[0;34m\u001b[0m\u001b[0;34m\u001b[0m\u001b[0m\n\u001b[1;32m    510\u001b[0m               \u001b[0mattrs\u001b[0m\u001b[0;34m=\u001b[0m\u001b[0;34m(\u001b[0m\u001b[0;34m\"executor_type\"\u001b[0m\u001b[0;34m,\u001b[0m \u001b[0mexecutor_type\u001b[0m\u001b[0;34m,\u001b[0m \u001b[0;34m\"config_proto\"\u001b[0m\u001b[0;34m,\u001b[0m \u001b[0mconfig\u001b[0m\u001b[0;34m)\u001b[0m\u001b[0;34m,\u001b[0m\u001b[0;34m\u001b[0m\u001b[0;34m\u001b[0m\u001b[0m\n\u001b[0;32m--> 511\u001b[0;31m               ctx=ctx)\n\u001b[0m\u001b[1;32m    512\u001b[0m         \u001b[0;32melse\u001b[0m\u001b[0;34m:\u001b[0m\u001b[0;34m\u001b[0m\u001b[0;34m\u001b[0m\u001b[0m\n\u001b[1;32m    513\u001b[0m           outputs = execute.execute_with_cancellation(\n",
      "\u001b[0;32m~/opt/anaconda3/lib/python3.7/site-packages/tensorflow_core/python/eager/execute.py\u001b[0m in \u001b[0;36mquick_execute\u001b[0;34m(op_name, num_outputs, inputs, attrs, ctx, name)\u001b[0m\n\u001b[1;32m     59\u001b[0m     tensors = pywrap_tensorflow.TFE_Py_Execute(ctx._handle, device_name,\n\u001b[1;32m     60\u001b[0m                                                \u001b[0mop_name\u001b[0m\u001b[0;34m,\u001b[0m \u001b[0minputs\u001b[0m\u001b[0;34m,\u001b[0m \u001b[0mattrs\u001b[0m\u001b[0;34m,\u001b[0m\u001b[0;34m\u001b[0m\u001b[0;34m\u001b[0m\u001b[0m\n\u001b[0;32m---> 61\u001b[0;31m                                                num_outputs)\n\u001b[0m\u001b[1;32m     62\u001b[0m   \u001b[0;32mexcept\u001b[0m \u001b[0mcore\u001b[0m\u001b[0;34m.\u001b[0m\u001b[0m_NotOkStatusException\u001b[0m \u001b[0;32mas\u001b[0m \u001b[0me\u001b[0m\u001b[0;34m:\u001b[0m\u001b[0;34m\u001b[0m\u001b[0;34m\u001b[0m\u001b[0m\n\u001b[1;32m     63\u001b[0m     \u001b[0;32mif\u001b[0m \u001b[0mname\u001b[0m \u001b[0;32mis\u001b[0m \u001b[0;32mnot\u001b[0m \u001b[0;32mNone\u001b[0m\u001b[0;34m:\u001b[0m\u001b[0;34m\u001b[0m\u001b[0;34m\u001b[0m\u001b[0m\n",
      "\u001b[0;31mKeyboardInterrupt\u001b[0m: "
     ]
    }
   ],
   "source": [
    "pred2 = nn2.fit(xTrain, yTrain, batch_size=924, epochs=100, validation_data=(xVal, yVal))"
   ]
  },
  {
   "cell_type": "code",
   "execution_count": null,
   "metadata": {},
   "outputs": [],
   "source": [
    "nn2.evaluate(xTest, yTest)[1]"
   ]
  },
  {
   "cell_type": "code",
   "execution_count": null,
   "metadata": {},
   "outputs": [],
   "source": [
    "#We want training and validation results to be similar\n",
    "plt.plot(pred2.history['loss'])\n",
    "plt.plot(pred2.history['val_loss'])\n",
    "plt.title('Model loss')\n",
    "plt.ylabel('Loss')\n",
    "plt.xlabel('Epoch')\n",
    "plt.legend(['Train', 'Val'], loc='upper right')\n",
    "plt.ylim(top=1.2, bottom=0)\n",
    "plt.show()"
   ]
  },
  {
   "cell_type": "code",
   "execution_count": null,
   "metadata": {},
   "outputs": [],
   "source": [
    "#We want the orange line to not stay under the blue line. \n",
    "#We improved the model a bit because we can rely on good predictions\n",
    "plt.plot(pred2.history['accuracy'])\n",
    "plt.plot(pred2.history['val_accuracy'])\n",
    "plt.title('Model accuracy')\n",
    "plt.ylabel('Accuracy')\n",
    "plt.xlabel('Epoch')\n",
    "plt.legend(['Train', 'Val'], loc='lower right')\n",
    "plt.show()"
   ]
  },
  {
   "cell_type": "markdown",
   "metadata": {},
   "source": [
    "<font color = \"red\"> Conclusion: we can use regularization for ensuring that the model does not overfit. This is achieved with random dropout. </font>"
   ]
  }
 ],
 "metadata": {
  "colab": {
   "collapsed_sections": [],
   "name": "1.2_DecisionTreesPrecisionMeasures_student.ipynb",
   "provenance": []
  },
  "kernelspec": {
   "display_name": "Python 3",
   "language": "python",
   "name": "python3"
  },
  "language_info": {
   "codemirror_mode": {
    "name": "ipython",
    "version": 3
   },
   "file_extension": ".py",
   "mimetype": "text/x-python",
   "name": "python",
   "nbconvert_exporter": "python",
   "pygments_lexer": "ipython3",
   "version": "3.7.4"
  }
 },
 "nbformat": 4,
 "nbformat_minor": 1
}
