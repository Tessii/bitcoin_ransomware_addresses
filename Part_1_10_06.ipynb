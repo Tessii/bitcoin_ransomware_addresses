{
 "cells": [
  {
   "cell_type": "markdown",
   "metadata": {
    "colab_type": "text",
    "id": "6AhvWqxRME6q"
   },
   "source": [
    "<center><h1>Bitcoin</h1></center>\n",
    "<center>CDASO2020U \"Data Mining, Machine Learning and Deep Learning\"</center>"
   ]
  },
  {
   "cell_type": "markdown",
   "metadata": {},
   "source": [
    "<center><h1>Structure</h1></center>\n",
    "\n",
    "A. [Exploratory data analysis](#A)\n",
    "1. [Variable Identification](#1)\n",
    "2. [Variable creation](#2)\n",
    "3. [Variable transformation](#3)\n",
    "4. [Subdataset creation](#4)\n",
    "5. [Univariate Analysis](#5)\n",
    "6. [Bi-variate Analysis](#6)\n",
    "7. [Outlier Handling](#7)\n",
    "8. [Missing values](#8)\n",
    "9. [PCA for Feature Importance](#9)\n",
    "10. [Export dataframes](#10)"
   ]
  },
  {
   "cell_type": "markdown",
   "metadata": {},
   "source": [
    "### Used Packages"
   ]
  },
  {
   "cell_type": "code",
   "execution_count": 1,
   "metadata": {},
   "outputs": [
    {
     "name": "stderr",
     "output_type": "stream",
     "text": [
      "/Users/theresawohlsen/opt/anaconda3/lib/python3.7/site-packages/sklearn/externals/six.py:31: FutureWarning:\n",
      "\n",
      "The module is deprecated in version 0.21 and will be removed in version 0.23 since we've dropped support for Python 2.7. Please rely on the official version of six (https://pypi.org/project/six/).\n",
      "\n"
     ]
    }
   ],
   "source": [
    "from IPython.display import Image\n",
    "import matplotlib.pyplot as plt\n",
    "import numpy as np\n",
    "import pandas as pd\n",
    "from pandas.plotting import scatter_matrix\n",
    "from plotly import graph_objs as go  #!conda install --yes --prefix {sys.prefix} plotly (for windows users who's cmd sucks)\n",
    "from plotly.offline import init_notebook_mode, iplot\n",
    "import pprint\n",
    "import seaborn as sns\n",
    "from sklearn import metrics\n",
    "from sklearn import preprocessing\n",
    "from sklearn.cluster import DBSCAN\n",
    "from sklearn.decomposition import PCA\n",
    "from sklearn.ensemble import IsolationForest, RandomForestClassifier\n",
    "from sklearn.externals.six import StringIO\n",
    "from sklearn.linear_model import LinearRegression\n",
    "from sklearn.linear_model import LogisticRegression\n",
    "from sklearn.metrics import mean_squared_error, mean_absolute_error, accuracy_score, f1_score, confusion_matrix\n",
    "from sklearn.model_selection import train_test_split\n",
    "from sklearn.preprocessing import StandardScaler\n",
    "from sklearn.tree import DecisionTreeRegressor, export_graphviz\n",
    "import pydotplus\n",
    "import sys"
   ]
  },
  {
   "cell_type": "markdown",
   "metadata": {},
   "source": [
    "# A. Exploratory data analysis <a class=\"anchor\" id=\"A\"></a>"
   ]
  },
  {
   "cell_type": "code",
   "execution_count": 2,
   "metadata": {},
   "outputs": [],
   "source": [
    "df = pd.read_csv(\"BitcoinHeistData.csv\")"
   ]
  },
  {
   "cell_type": "code",
   "execution_count": 3,
   "metadata": {},
   "outputs": [
    {
     "data": {
      "text/html": [
       "<div>\n",
       "<style scoped>\n",
       "    .dataframe tbody tr th:only-of-type {\n",
       "        vertical-align: middle;\n",
       "    }\n",
       "\n",
       "    .dataframe tbody tr th {\n",
       "        vertical-align: top;\n",
       "    }\n",
       "\n",
       "    .dataframe thead th {\n",
       "        text-align: right;\n",
       "    }\n",
       "</style>\n",
       "<table border=\"1\" class=\"dataframe\">\n",
       "  <thead>\n",
       "    <tr style=\"text-align: right;\">\n",
       "      <th></th>\n",
       "      <th>address</th>\n",
       "      <th>year</th>\n",
       "      <th>day</th>\n",
       "      <th>length</th>\n",
       "      <th>weight</th>\n",
       "      <th>count</th>\n",
       "      <th>looped</th>\n",
       "      <th>neighbors</th>\n",
       "      <th>income</th>\n",
       "      <th>label</th>\n",
       "    </tr>\n",
       "  </thead>\n",
       "  <tbody>\n",
       "    <tr>\n",
       "      <td>0</td>\n",
       "      <td>111K8kZAEnJg245r2cM6y9zgJGHZtJPy6</td>\n",
       "      <td>2017</td>\n",
       "      <td>11</td>\n",
       "      <td>18</td>\n",
       "      <td>0.008333</td>\n",
       "      <td>1</td>\n",
       "      <td>0</td>\n",
       "      <td>2</td>\n",
       "      <td>100050000.0</td>\n",
       "      <td>princetonCerber</td>\n",
       "    </tr>\n",
       "    <tr>\n",
       "      <td>1</td>\n",
       "      <td>1123pJv8jzeFQaCV4w644pzQJzVWay2zcA</td>\n",
       "      <td>2016</td>\n",
       "      <td>132</td>\n",
       "      <td>44</td>\n",
       "      <td>0.000244</td>\n",
       "      <td>1</td>\n",
       "      <td>0</td>\n",
       "      <td>1</td>\n",
       "      <td>100000000.0</td>\n",
       "      <td>princetonLocky</td>\n",
       "    </tr>\n",
       "    <tr>\n",
       "      <td>2</td>\n",
       "      <td>112536im7hy6wtKbpH1qYDWtTyMRAcA2p7</td>\n",
       "      <td>2016</td>\n",
       "      <td>246</td>\n",
       "      <td>0</td>\n",
       "      <td>1.000000</td>\n",
       "      <td>1</td>\n",
       "      <td>0</td>\n",
       "      <td>2</td>\n",
       "      <td>200000000.0</td>\n",
       "      <td>princetonCerber</td>\n",
       "    </tr>\n",
       "    <tr>\n",
       "      <td>3</td>\n",
       "      <td>1126eDRw2wqSkWosjTCre8cjjQW8sSeWH7</td>\n",
       "      <td>2016</td>\n",
       "      <td>322</td>\n",
       "      <td>72</td>\n",
       "      <td>0.003906</td>\n",
       "      <td>1</td>\n",
       "      <td>0</td>\n",
       "      <td>2</td>\n",
       "      <td>71200000.0</td>\n",
       "      <td>princetonCerber</td>\n",
       "    </tr>\n",
       "    <tr>\n",
       "      <td>4</td>\n",
       "      <td>1129TSjKtx65E35GiUo4AYVeyo48twbrGX</td>\n",
       "      <td>2016</td>\n",
       "      <td>238</td>\n",
       "      <td>144</td>\n",
       "      <td>0.072848</td>\n",
       "      <td>456</td>\n",
       "      <td>0</td>\n",
       "      <td>1</td>\n",
       "      <td>200000000.0</td>\n",
       "      <td>princetonLocky</td>\n",
       "    </tr>\n",
       "  </tbody>\n",
       "</table>\n",
       "</div>"
      ],
      "text/plain": [
       "                              address  year  day  length    weight  count  \\\n",
       "0   111K8kZAEnJg245r2cM6y9zgJGHZtJPy6  2017   11      18  0.008333      1   \n",
       "1  1123pJv8jzeFQaCV4w644pzQJzVWay2zcA  2016  132      44  0.000244      1   \n",
       "2  112536im7hy6wtKbpH1qYDWtTyMRAcA2p7  2016  246       0  1.000000      1   \n",
       "3  1126eDRw2wqSkWosjTCre8cjjQW8sSeWH7  2016  322      72  0.003906      1   \n",
       "4  1129TSjKtx65E35GiUo4AYVeyo48twbrGX  2016  238     144  0.072848    456   \n",
       "\n",
       "   looped  neighbors       income            label  \n",
       "0       0          2  100050000.0  princetonCerber  \n",
       "1       0          1  100000000.0   princetonLocky  \n",
       "2       0          2  200000000.0  princetonCerber  \n",
       "3       0          2   71200000.0  princetonCerber  \n",
       "4       0          1  200000000.0   princetonLocky  "
      ]
     },
     "execution_count": 3,
     "metadata": {},
     "output_type": "execute_result"
    }
   ],
   "source": [
    "df.head()"
   ]
  },
  {
   "cell_type": "code",
   "execution_count": 4,
   "metadata": {},
   "outputs": [
    {
     "data": {
      "text/html": [
       "<div>\n",
       "<style scoped>\n",
       "    .dataframe tbody tr th:only-of-type {\n",
       "        vertical-align: middle;\n",
       "    }\n",
       "\n",
       "    .dataframe tbody tr th {\n",
       "        vertical-align: top;\n",
       "    }\n",
       "\n",
       "    .dataframe thead th {\n",
       "        text-align: right;\n",
       "    }\n",
       "</style>\n",
       "<table border=\"1\" class=\"dataframe\">\n",
       "  <thead>\n",
       "    <tr style=\"text-align: right;\">\n",
       "      <th></th>\n",
       "      <th>address</th>\n",
       "      <th>year</th>\n",
       "      <th>day</th>\n",
       "      <th>length</th>\n",
       "      <th>weight</th>\n",
       "      <th>count</th>\n",
       "      <th>looped</th>\n",
       "      <th>neighbors</th>\n",
       "      <th>income</th>\n",
       "      <th>label</th>\n",
       "    </tr>\n",
       "  </thead>\n",
       "  <tbody>\n",
       "    <tr>\n",
       "      <td>2916692</td>\n",
       "      <td>12D3trgho1vJ4mGtWBRPyHdMJK96TRYSry</td>\n",
       "      <td>2018</td>\n",
       "      <td>330</td>\n",
       "      <td>0</td>\n",
       "      <td>0.111111</td>\n",
       "      <td>1</td>\n",
       "      <td>0</td>\n",
       "      <td>1</td>\n",
       "      <td>1.255809e+09</td>\n",
       "      <td>white</td>\n",
       "    </tr>\n",
       "    <tr>\n",
       "      <td>2916693</td>\n",
       "      <td>1P7PputTcVkhXBmXBvSD9MJ3UYPsiou1u2</td>\n",
       "      <td>2018</td>\n",
       "      <td>330</td>\n",
       "      <td>0</td>\n",
       "      <td>1.000000</td>\n",
       "      <td>1</td>\n",
       "      <td>0</td>\n",
       "      <td>1</td>\n",
       "      <td>4.409699e+07</td>\n",
       "      <td>white</td>\n",
       "    </tr>\n",
       "    <tr>\n",
       "      <td>2916694</td>\n",
       "      <td>1KYiKJEfdJtap9QX2v9BXJMpz2SfU4pgZw</td>\n",
       "      <td>2018</td>\n",
       "      <td>330</td>\n",
       "      <td>2</td>\n",
       "      <td>12.000000</td>\n",
       "      <td>6</td>\n",
       "      <td>6</td>\n",
       "      <td>35</td>\n",
       "      <td>2.398267e+09</td>\n",
       "      <td>white</td>\n",
       "    </tr>\n",
       "    <tr>\n",
       "      <td>2916695</td>\n",
       "      <td>15iPUJsRNZQZHmZZVwmQ63srsmughCXV4a</td>\n",
       "      <td>2018</td>\n",
       "      <td>330</td>\n",
       "      <td>0</td>\n",
       "      <td>0.500000</td>\n",
       "      <td>1</td>\n",
       "      <td>0</td>\n",
       "      <td>1</td>\n",
       "      <td>1.780427e+08</td>\n",
       "      <td>white</td>\n",
       "    </tr>\n",
       "    <tr>\n",
       "      <td>2916696</td>\n",
       "      <td>3LFFBxp15h9KSFtaw55np8eP5fv6kdK17e</td>\n",
       "      <td>2018</td>\n",
       "      <td>330</td>\n",
       "      <td>144</td>\n",
       "      <td>0.073972</td>\n",
       "      <td>6800</td>\n",
       "      <td>0</td>\n",
       "      <td>2</td>\n",
       "      <td>1.123500e+08</td>\n",
       "      <td>white</td>\n",
       "    </tr>\n",
       "  </tbody>\n",
       "</table>\n",
       "</div>"
      ],
      "text/plain": [
       "                                    address  year  day  length     weight  \\\n",
       "2916692  12D3trgho1vJ4mGtWBRPyHdMJK96TRYSry  2018  330       0   0.111111   \n",
       "2916693  1P7PputTcVkhXBmXBvSD9MJ3UYPsiou1u2  2018  330       0   1.000000   \n",
       "2916694  1KYiKJEfdJtap9QX2v9BXJMpz2SfU4pgZw  2018  330       2  12.000000   \n",
       "2916695  15iPUJsRNZQZHmZZVwmQ63srsmughCXV4a  2018  330       0   0.500000   \n",
       "2916696  3LFFBxp15h9KSFtaw55np8eP5fv6kdK17e  2018  330     144   0.073972   \n",
       "\n",
       "         count  looped  neighbors        income  label  \n",
       "2916692      1       0          1  1.255809e+09  white  \n",
       "2916693      1       0          1  4.409699e+07  white  \n",
       "2916694      6       6         35  2.398267e+09  white  \n",
       "2916695      1       0          1  1.780427e+08  white  \n",
       "2916696   6800       0          2  1.123500e+08  white  "
      ]
     },
     "execution_count": 4,
     "metadata": {},
     "output_type": "execute_result"
    }
   ],
   "source": [
    "# Checkout some white labeled examples too\n",
    "df.tail()"
   ]
  },
  {
   "cell_type": "markdown",
   "metadata": {
    "colab_type": "text",
    "id": "iCVhJKbHME62"
   },
   "source": [
    "## 1. Variable Identification  <a class=\"anchor\" id=\"1\"></a>"
   ]
  },
  {
   "cell_type": "code",
   "execution_count": 5,
   "metadata": {},
   "outputs": [
    {
     "data": {
      "text/plain": [
       "Index(['address', 'year', 'day', 'length', 'weight', 'count', 'looped',\n",
       "       'neighbors', 'income', 'label'],\n",
       "      dtype='object')"
      ]
     },
     "execution_count": 5,
     "metadata": {},
     "output_type": "execute_result"
    }
   ],
   "source": [
    "# Identify all columns\n",
    "df.columns"
   ]
  },
  {
   "cell_type": "code",
   "execution_count": 6,
   "metadata": {},
   "outputs": [],
   "source": [
    "# features\n",
    "features = ['year', 'day', 'length', \n",
    "            'weight', 'count', 'looped',\n",
    "            'neighbors', 'income']"
   ]
  },
  {
   "cell_type": "code",
   "execution_count": 7,
   "metadata": {
    "colab": {},
    "colab_type": "code",
    "id": "Rtw4BGZjME60"
   },
   "outputs": [
    {
     "name": "stdout",
     "output_type": "stream",
     "text": [
      "<class 'pandas.core.frame.DataFrame'>\n",
      "RangeIndex: 2916697 entries, 0 to 2916696\n",
      "Data columns (total 10 columns):\n",
      "address      object\n",
      "year         int64\n",
      "day          int64\n",
      "length       int64\n",
      "weight       float64\n",
      "count        int64\n",
      "looped       int64\n",
      "neighbors    int64\n",
      "income       float64\n",
      "label        object\n",
      "dtypes: float64(2), int64(6), object(2)\n",
      "memory usage: 222.5+ MB\n"
     ]
    }
   ],
   "source": [
    "# Identify column types\n",
    "df.info()"
   ]
  },
  {
   "cell_type": "code",
   "execution_count": 8,
   "metadata": {},
   "outputs": [
    {
     "data": {
      "text/plain": [
       "(2916697, 10)"
      ]
     },
     "execution_count": 8,
     "metadata": {},
     "output_type": "execute_result"
    }
   ],
   "source": [
    "# Count rows and columns\n",
    "df.shape"
   ]
  },
  {
   "cell_type": "markdown",
   "metadata": {},
   "source": [
    "<font color='red'>Finding: Huge dataset. Could cause problems later</font>"
   ]
  },
  {
   "cell_type": "code",
   "execution_count": 9,
   "metadata": {},
   "outputs": [
    {
     "data": {
      "text/plain": [
       "0          1\n",
       "1          1\n",
       "2          1\n",
       "3          1\n",
       "4          1\n",
       "          ..\n",
       "2916692    0\n",
       "2916693    0\n",
       "2916694    0\n",
       "2916695    0\n",
       "2916696    0\n",
       "Name: binary_label, Length: 2916697, dtype: int64"
      ]
     },
     "execution_count": 9,
     "metadata": {},
     "output_type": "execute_result"
    }
   ],
   "source": [
    "# create column showing if the address was used for ransomware\n",
    "df['binary_label'] = df['label'].map(lambda x: 0 if x == 'white' else 1)\n",
    "df['binary_label']"
   ]
  },
  {
   "cell_type": "code",
   "execution_count": 10,
   "metadata": {},
   "outputs": [
    {
     "data": {
      "text/plain": [
       "2631095"
      ]
     },
     "execution_count": 10,
     "metadata": {},
     "output_type": "execute_result"
    }
   ],
   "source": [
    "# Check for unique addresses\n",
    "len(df.address.unique())"
   ]
  },
  {
   "cell_type": "markdown",
   "metadata": {},
   "source": [
    "<font color='red'>Finding: Most addresses are only onced used. Background: Reuse of addresses is dangerous. Its most likely an accident</font>"
   ]
  },
  {
   "cell_type": "code",
   "execution_count": 11,
   "metadata": {},
   "outputs": [
    {
     "data": {
      "text/plain": [
       "address         2631095\n",
       "year                  8\n",
       "day                 365\n",
       "length               73\n",
       "weight           785669\n",
       "count             11572\n",
       "looped            10168\n",
       "neighbors           814\n",
       "income          1866365\n",
       "label                29\n",
       "binary_label          2\n",
       "dtype: int64"
      ]
     },
     "execution_count": 11,
     "metadata": {},
     "output_type": "execute_result"
    }
   ],
   "source": [
    "# More detailed description of the unique addresses\n",
    "df.nunique()"
   ]
  },
  {
   "cell_type": "code",
   "execution_count": 12,
   "metadata": {},
   "outputs": [
    {
     "data": {
      "text/plain": [
       "1LXrSb67EaH1LGc6d6kWHq8rgv4ZBQAcpU    420\n",
       "16cVG72goMe4sNqZhnpmnqfCMZ1uSFbUit    261\n",
       "12wQZTDmA8onM3sEt4jwcvzDxnNXxD8Vza    207\n",
       "12YursV58dRT2c9iuZg3jEWfwgTDamBcnd    183\n",
       "1LEq4WmpCrqBd7V3PywE2nvFUFC3QTe52x    176\n",
       "                                     ... \n",
       "37uXZLATd27wjkijUGG7Z3TKbE5tR5wvBG      1\n",
       "19TWguTZHJH91sjhXVk9hbaztbStpMqKbe      1\n",
       "3EhxUQFgNzgNchVCCrFDtuBmubYyiyouEj      1\n",
       "1DYvhCLbYy8yfLcHXLouUR1TRp1prVL1SX      1\n",
       "1CAYrY1yEew4gKiv5qCz1HpoJU53d4K32E      1\n",
       "Name: address, Length: 2631095, dtype: int64"
      ]
     },
     "execution_count": 12,
     "metadata": {},
     "output_type": "execute_result"
    }
   ],
   "source": [
    "# Take a look at the top number of non unique addresses\n",
    "df.address.value_counts()"
   ]
  },
  {
   "cell_type": "code",
   "execution_count": 13,
   "metadata": {},
   "outputs": [
    {
     "data": {
      "text/html": [
       "<div>\n",
       "<style scoped>\n",
       "    .dataframe tbody tr th:only-of-type {\n",
       "        vertical-align: middle;\n",
       "    }\n",
       "\n",
       "    .dataframe tbody tr th {\n",
       "        vertical-align: top;\n",
       "    }\n",
       "\n",
       "    .dataframe thead th {\n",
       "        text-align: right;\n",
       "    }\n",
       "</style>\n",
       "<table border=\"1\" class=\"dataframe\">\n",
       "  <thead>\n",
       "    <tr style=\"text-align: right;\">\n",
       "      <th></th>\n",
       "      <th>address</th>\n",
       "      <th>year</th>\n",
       "      <th>day</th>\n",
       "      <th>length</th>\n",
       "      <th>weight</th>\n",
       "      <th>count</th>\n",
       "      <th>looped</th>\n",
       "      <th>neighbors</th>\n",
       "      <th>income</th>\n",
       "      <th>label</th>\n",
       "      <th>binary_label</th>\n",
       "    </tr>\n",
       "  </thead>\n",
       "  <tbody>\n",
       "    <tr>\n",
       "      <td>33965</td>\n",
       "      <td>1LXrSb67EaH1LGc6d6kWHq8rgv4ZBQAcpU</td>\n",
       "      <td>2013</td>\n",
       "      <td>314</td>\n",
       "      <td>6</td>\n",
       "      <td>1.000000</td>\n",
       "      <td>3</td>\n",
       "      <td>0</td>\n",
       "      <td>1</td>\n",
       "      <td>3.607570e+09</td>\n",
       "      <td>montrealCryptoLocker</td>\n",
       "      <td>1</td>\n",
       "    </tr>\n",
       "    <tr>\n",
       "      <td>33966</td>\n",
       "      <td>1LXrSb67EaH1LGc6d6kWHq8rgv4ZBQAcpU</td>\n",
       "      <td>2013</td>\n",
       "      <td>162</td>\n",
       "      <td>0</td>\n",
       "      <td>1.500000</td>\n",
       "      <td>2</td>\n",
       "      <td>0</td>\n",
       "      <td>2</td>\n",
       "      <td>4.495250e+09</td>\n",
       "      <td>montrealCryptoLocker</td>\n",
       "      <td>1</td>\n",
       "    </tr>\n",
       "    <tr>\n",
       "      <td>33967</td>\n",
       "      <td>1LXrSb67EaH1LGc6d6kWHq8rgv4ZBQAcpU</td>\n",
       "      <td>2014</td>\n",
       "      <td>97</td>\n",
       "      <td>0</td>\n",
       "      <td>1.500000</td>\n",
       "      <td>2</td>\n",
       "      <td>0</td>\n",
       "      <td>2</td>\n",
       "      <td>1.778269e+08</td>\n",
       "      <td>montrealCryptoLocker</td>\n",
       "      <td>1</td>\n",
       "    </tr>\n",
       "    <tr>\n",
       "      <td>33968</td>\n",
       "      <td>1LXrSb67EaH1LGc6d6kWHq8rgv4ZBQAcpU</td>\n",
       "      <td>2013</td>\n",
       "      <td>316</td>\n",
       "      <td>2</td>\n",
       "      <td>1.500000</td>\n",
       "      <td>2</td>\n",
       "      <td>0</td>\n",
       "      <td>2</td>\n",
       "      <td>9.260690e+08</td>\n",
       "      <td>montrealCryptoLocker</td>\n",
       "      <td>1</td>\n",
       "    </tr>\n",
       "    <tr>\n",
       "      <td>33969</td>\n",
       "      <td>1LXrSb67EaH1LGc6d6kWHq8rgv4ZBQAcpU</td>\n",
       "      <td>2013</td>\n",
       "      <td>287</td>\n",
       "      <td>0</td>\n",
       "      <td>1.000000</td>\n",
       "      <td>1</td>\n",
       "      <td>0</td>\n",
       "      <td>1</td>\n",
       "      <td>1.267000e+09</td>\n",
       "      <td>montrealCryptoLocker</td>\n",
       "      <td>1</td>\n",
       "    </tr>\n",
       "    <tr>\n",
       "      <td>...</td>\n",
       "      <td>...</td>\n",
       "      <td>...</td>\n",
       "      <td>...</td>\n",
       "      <td>...</td>\n",
       "      <td>...</td>\n",
       "      <td>...</td>\n",
       "      <td>...</td>\n",
       "      <td>...</td>\n",
       "      <td>...</td>\n",
       "      <td>...</td>\n",
       "      <td>...</td>\n",
       "    </tr>\n",
       "    <tr>\n",
       "      <td>34380</td>\n",
       "      <td>1LXrSb67EaH1LGc6d6kWHq8rgv4ZBQAcpU</td>\n",
       "      <td>2013</td>\n",
       "      <td>296</td>\n",
       "      <td>0</td>\n",
       "      <td>1.500000</td>\n",
       "      <td>2</td>\n",
       "      <td>0</td>\n",
       "      <td>2</td>\n",
       "      <td>1.687649e+11</td>\n",
       "      <td>montrealCryptoLocker</td>\n",
       "      <td>1</td>\n",
       "    </tr>\n",
       "    <tr>\n",
       "      <td>34381</td>\n",
       "      <td>1LXrSb67EaH1LGc6d6kWHq8rgv4ZBQAcpU</td>\n",
       "      <td>2013</td>\n",
       "      <td>328</td>\n",
       "      <td>144</td>\n",
       "      <td>1.003193</td>\n",
       "      <td>1355</td>\n",
       "      <td>0</td>\n",
       "      <td>1</td>\n",
       "      <td>2.416200e+09</td>\n",
       "      <td>montrealCryptoLocker</td>\n",
       "      <td>1</td>\n",
       "    </tr>\n",
       "    <tr>\n",
       "      <td>34382</td>\n",
       "      <td>1LXrSb67EaH1LGc6d6kWHq8rgv4ZBQAcpU</td>\n",
       "      <td>2013</td>\n",
       "      <td>285</td>\n",
       "      <td>0</td>\n",
       "      <td>1.500000</td>\n",
       "      <td>2</td>\n",
       "      <td>0</td>\n",
       "      <td>2</td>\n",
       "      <td>3.883580e+09</td>\n",
       "      <td>montrealCryptoLocker</td>\n",
       "      <td>1</td>\n",
       "    </tr>\n",
       "    <tr>\n",
       "      <td>34383</td>\n",
       "      <td>1LXrSb67EaH1LGc6d6kWHq8rgv4ZBQAcpU</td>\n",
       "      <td>2013</td>\n",
       "      <td>269</td>\n",
       "      <td>2</td>\n",
       "      <td>0.500000</td>\n",
       "      <td>1</td>\n",
       "      <td>0</td>\n",
       "      <td>1</td>\n",
       "      <td>1.530800e+08</td>\n",
       "      <td>montrealCryptoLocker</td>\n",
       "      <td>1</td>\n",
       "    </tr>\n",
       "    <tr>\n",
       "      <td>34384</td>\n",
       "      <td>1LXrSb67EaH1LGc6d6kWHq8rgv4ZBQAcpU</td>\n",
       "      <td>2013</td>\n",
       "      <td>192</td>\n",
       "      <td>6</td>\n",
       "      <td>0.522727</td>\n",
       "      <td>2</td>\n",
       "      <td>0</td>\n",
       "      <td>1</td>\n",
       "      <td>2.312410e+09</td>\n",
       "      <td>montrealCryptoLocker</td>\n",
       "      <td>1</td>\n",
       "    </tr>\n",
       "  </tbody>\n",
       "</table>\n",
       "<p>420 rows × 11 columns</p>\n",
       "</div>"
      ],
      "text/plain": [
       "                                  address  year  day  length    weight  count  \\\n",
       "33965  1LXrSb67EaH1LGc6d6kWHq8rgv4ZBQAcpU  2013  314       6  1.000000      3   \n",
       "33966  1LXrSb67EaH1LGc6d6kWHq8rgv4ZBQAcpU  2013  162       0  1.500000      2   \n",
       "33967  1LXrSb67EaH1LGc6d6kWHq8rgv4ZBQAcpU  2014   97       0  1.500000      2   \n",
       "33968  1LXrSb67EaH1LGc6d6kWHq8rgv4ZBQAcpU  2013  316       2  1.500000      2   \n",
       "33969  1LXrSb67EaH1LGc6d6kWHq8rgv4ZBQAcpU  2013  287       0  1.000000      1   \n",
       "...                                   ...   ...  ...     ...       ...    ...   \n",
       "34380  1LXrSb67EaH1LGc6d6kWHq8rgv4ZBQAcpU  2013  296       0  1.500000      2   \n",
       "34381  1LXrSb67EaH1LGc6d6kWHq8rgv4ZBQAcpU  2013  328     144  1.003193   1355   \n",
       "34382  1LXrSb67EaH1LGc6d6kWHq8rgv4ZBQAcpU  2013  285       0  1.500000      2   \n",
       "34383  1LXrSb67EaH1LGc6d6kWHq8rgv4ZBQAcpU  2013  269       2  0.500000      1   \n",
       "34384  1LXrSb67EaH1LGc6d6kWHq8rgv4ZBQAcpU  2013  192       6  0.522727      2   \n",
       "\n",
       "       looped  neighbors        income                 label  binary_label  \n",
       "33965       0          1  3.607570e+09  montrealCryptoLocker             1  \n",
       "33966       0          2  4.495250e+09  montrealCryptoLocker             1  \n",
       "33967       0          2  1.778269e+08  montrealCryptoLocker             1  \n",
       "33968       0          2  9.260690e+08  montrealCryptoLocker             1  \n",
       "33969       0          1  1.267000e+09  montrealCryptoLocker             1  \n",
       "...       ...        ...           ...                   ...           ...  \n",
       "34380       0          2  1.687649e+11  montrealCryptoLocker             1  \n",
       "34381       0          1  2.416200e+09  montrealCryptoLocker             1  \n",
       "34382       0          2  3.883580e+09  montrealCryptoLocker             1  \n",
       "34383       0          1  1.530800e+08  montrealCryptoLocker             1  \n",
       "34384       0          1  2.312410e+09  montrealCryptoLocker             1  \n",
       "\n",
       "[420 rows x 11 columns]"
      ]
     },
     "execution_count": 13,
     "metadata": {},
     "output_type": "execute_result"
    }
   ],
   "source": [
    "# Analyze one example of non unique address\n",
    "df[df.address == '1LXrSb67EaH1LGc6d6kWHq8rgv4ZBQAcpU']"
   ]
  },
  {
   "cell_type": "markdown",
   "metadata": {},
   "source": [
    "<font color='red'>Finding: The most common used adress is '1LXrSb67EaH1LGc6d6kWHq8rgv4ZBQAcpU', which is an ransomware adress: 420 addresses with the same address name, all labeled as ransomware: Possible explanation that during ransomware demanding from criminals, the same address was automatically sent to more people.</font>"
   ]
  },
  {
   "cell_type": "markdown",
   "metadata": {},
   "source": [
    "## 2. Variable Creation (Part 1)  <a class=\"anchor\" id=\"2\"></a>\n",
    "Creating derived variables based on existing ones "
   ]
  },
  {
   "cell_type": "markdown",
   "metadata": {},
   "source": [
    "### 2a. Repeating counter\n",
    "Creating an additional feature continuously counting the reuse of an address"
   ]
  },
  {
   "cell_type": "code",
   "execution_count": 14,
   "metadata": {},
   "outputs": [],
   "source": [
    "df['repeated_counter'] = 1"
   ]
  },
  {
   "cell_type": "code",
   "execution_count": 15,
   "metadata": {},
   "outputs": [],
   "source": [
    "# Create dataset of addresses with freqeuncy =1 \n",
    "df0 = df[df['address'].map(df['address'].value_counts()) < 2]"
   ]
  },
  {
   "cell_type": "code",
   "execution_count": 16,
   "metadata": {},
   "outputs": [],
   "source": [
    "# Create dataset of addresses with freqeuncy > 1\n",
    "df1 = df[df['address'].map(df['address'].value_counts()) > 1]"
   ]
  },
  {
   "cell_type": "code",
   "execution_count": 17,
   "metadata": {},
   "outputs": [
    {
     "name": "stdout",
     "output_type": "stream",
     "text": [
      "                              address  year  day  length    weight  count  \\\n",
      "0    111111mg3JxXdXbypYNyERcYLaJdzEwb  2011  276      14  0.003906      1   \n",
      "1    111111mg3JxXdXbypYNyERcYLaJdzEwb  2011  284      22  0.062988      2   \n",
      "2  111213xkVmeHT1v7N7Ff43XmVfLAUq7WEZ  2012  176      80  0.076766     15   \n",
      "3  111213xkVmeHT1v7N7Ff43XmVfLAUq7WEZ  2012  177       6  1.125000      2   \n",
      "4  111213xkVmeHT1v7N7Ff43XmVfLAUq7WEZ  2012  190      92  0.628623      6   \n",
      "\n",
      "   looped  neighbors       income  label  binary_label  repeated_counter  \n",
      "0       0          1  100157790.0  white             0                 1  \n",
      "1       0          2  210204090.0  white             0                 1  \n",
      "2       0          1  200454396.0  white             0                 1  \n",
      "3       0          2  235000000.0  white             0                 1  \n",
      "4       4          3  447828796.0  white             0                 1  \n"
     ]
    }
   ],
   "source": [
    "# Sorting the dataset based on address and date\n",
    "df1 = df1.sort_values(by=['address', 'year', 'day']).reset_index(drop=True)\n",
    "print(df1.head())"
   ]
  },
  {
   "cell_type": "code",
   "execution_count": 18,
   "metadata": {},
   "outputs": [],
   "source": [
    "# Creating a frequency counter\n",
    "counter = 1"
   ]
  },
  {
   "cell_type": "code",
   "execution_count": 19,
   "metadata": {},
   "outputs": [],
   "source": [
    "# Creating a dummy for the loop\n",
    "previous_address = 'start'"
   ]
  },
  {
   "cell_type": "code",
   "execution_count": 20,
   "metadata": {},
   "outputs": [],
   "source": [
    "# Updating the repeated_counter in chronic order\n",
    "for i, row in df1.iterrows():\n",
    "    new_address = row[0]\n",
    "    if new_address == previous_address:\n",
    "        counter += 1\n",
    "        df1.at[i,'repeated_counter'] = counter\n",
    "    else:\n",
    "        counter = 1\n",
    "    previous_address = new_address"
   ]
  },
  {
   "cell_type": "code",
   "execution_count": 21,
   "metadata": {},
   "outputs": [
    {
     "data": {
      "text/html": [
       "<div>\n",
       "<style scoped>\n",
       "    .dataframe tbody tr th:only-of-type {\n",
       "        vertical-align: middle;\n",
       "    }\n",
       "\n",
       "    .dataframe tbody tr th {\n",
       "        vertical-align: top;\n",
       "    }\n",
       "\n",
       "    .dataframe thead th {\n",
       "        text-align: right;\n",
       "    }\n",
       "</style>\n",
       "<table border=\"1\" class=\"dataframe\">\n",
       "  <thead>\n",
       "    <tr style=\"text-align: right;\">\n",
       "      <th></th>\n",
       "      <th>address</th>\n",
       "      <th>year</th>\n",
       "      <th>day</th>\n",
       "      <th>length</th>\n",
       "      <th>weight</th>\n",
       "      <th>count</th>\n",
       "      <th>looped</th>\n",
       "      <th>neighbors</th>\n",
       "      <th>income</th>\n",
       "      <th>label</th>\n",
       "      <th>binary_label</th>\n",
       "      <th>repeated_counter</th>\n",
       "    </tr>\n",
       "  </thead>\n",
       "  <tbody>\n",
       "    <tr>\n",
       "      <td>291872</td>\n",
       "      <td>1LXrSb67EaH1LGc6d6kWHq8rgv4ZBQAcpU</td>\n",
       "      <td>2013</td>\n",
       "      <td>86</td>\n",
       "      <td>2</td>\n",
       "      <td>0.500000</td>\n",
       "      <td>1</td>\n",
       "      <td>0</td>\n",
       "      <td>1</td>\n",
       "      <td>2.536690e+09</td>\n",
       "      <td>montrealCryptoLocker</td>\n",
       "      <td>1</td>\n",
       "      <td>1</td>\n",
       "    </tr>\n",
       "    <tr>\n",
       "      <td>291873</td>\n",
       "      <td>1LXrSb67EaH1LGc6d6kWHq8rgv4ZBQAcpU</td>\n",
       "      <td>2013</td>\n",
       "      <td>91</td>\n",
       "      <td>2</td>\n",
       "      <td>1.000000</td>\n",
       "      <td>1</td>\n",
       "      <td>0</td>\n",
       "      <td>1</td>\n",
       "      <td>1.342504e+10</td>\n",
       "      <td>montrealCryptoLocker</td>\n",
       "      <td>1</td>\n",
       "      <td>2</td>\n",
       "    </tr>\n",
       "    <tr>\n",
       "      <td>291874</td>\n",
       "      <td>1LXrSb67EaH1LGc6d6kWHq8rgv4ZBQAcpU</td>\n",
       "      <td>2013</td>\n",
       "      <td>92</td>\n",
       "      <td>4</td>\n",
       "      <td>1.000000</td>\n",
       "      <td>2</td>\n",
       "      <td>0</td>\n",
       "      <td>1</td>\n",
       "      <td>6.760220e+09</td>\n",
       "      <td>montrealCryptoLocker</td>\n",
       "      <td>1</td>\n",
       "      <td>3</td>\n",
       "    </tr>\n",
       "    <tr>\n",
       "      <td>291875</td>\n",
       "      <td>1LXrSb67EaH1LGc6d6kWHq8rgv4ZBQAcpU</td>\n",
       "      <td>2013</td>\n",
       "      <td>93</td>\n",
       "      <td>22</td>\n",
       "      <td>8.215625</td>\n",
       "      <td>25</td>\n",
       "      <td>0</td>\n",
       "      <td>1</td>\n",
       "      <td>1.285946e+10</td>\n",
       "      <td>montrealCryptoLocker</td>\n",
       "      <td>1</td>\n",
       "      <td>4</td>\n",
       "    </tr>\n",
       "    <tr>\n",
       "      <td>291876</td>\n",
       "      <td>1LXrSb67EaH1LGc6d6kWHq8rgv4ZBQAcpU</td>\n",
       "      <td>2013</td>\n",
       "      <td>94</td>\n",
       "      <td>2</td>\n",
       "      <td>1.000000</td>\n",
       "      <td>1</td>\n",
       "      <td>0</td>\n",
       "      <td>1</td>\n",
       "      <td>9.889260e+09</td>\n",
       "      <td>montrealCryptoLocker</td>\n",
       "      <td>1</td>\n",
       "      <td>5</td>\n",
       "    </tr>\n",
       "    <tr>\n",
       "      <td>...</td>\n",
       "      <td>...</td>\n",
       "      <td>...</td>\n",
       "      <td>...</td>\n",
       "      <td>...</td>\n",
       "      <td>...</td>\n",
       "      <td>...</td>\n",
       "      <td>...</td>\n",
       "      <td>...</td>\n",
       "      <td>...</td>\n",
       "      <td>...</td>\n",
       "      <td>...</td>\n",
       "      <td>...</td>\n",
       "    </tr>\n",
       "    <tr>\n",
       "      <td>292287</td>\n",
       "      <td>1LXrSb67EaH1LGc6d6kWHq8rgv4ZBQAcpU</td>\n",
       "      <td>2014</td>\n",
       "      <td>185</td>\n",
       "      <td>2</td>\n",
       "      <td>2.000000</td>\n",
       "      <td>2</td>\n",
       "      <td>0</td>\n",
       "      <td>1</td>\n",
       "      <td>1.966900e+08</td>\n",
       "      <td>montrealCryptoLocker</td>\n",
       "      <td>1</td>\n",
       "      <td>416</td>\n",
       "    </tr>\n",
       "    <tr>\n",
       "      <td>292288</td>\n",
       "      <td>1LXrSb67EaH1LGc6d6kWHq8rgv4ZBQAcpU</td>\n",
       "      <td>2014</td>\n",
       "      <td>205</td>\n",
       "      <td>0</td>\n",
       "      <td>1.000000</td>\n",
       "      <td>1</td>\n",
       "      <td>0</td>\n",
       "      <td>1</td>\n",
       "      <td>1.437600e+08</td>\n",
       "      <td>montrealCryptoLocker</td>\n",
       "      <td>1</td>\n",
       "      <td>417</td>\n",
       "    </tr>\n",
       "    <tr>\n",
       "      <td>292289</td>\n",
       "      <td>1LXrSb67EaH1LGc6d6kWHq8rgv4ZBQAcpU</td>\n",
       "      <td>2014</td>\n",
       "      <td>209</td>\n",
       "      <td>0</td>\n",
       "      <td>1.000000</td>\n",
       "      <td>1</td>\n",
       "      <td>0</td>\n",
       "      <td>1</td>\n",
       "      <td>2.837800e+08</td>\n",
       "      <td>montrealCryptoLocker</td>\n",
       "      <td>1</td>\n",
       "      <td>418</td>\n",
       "    </tr>\n",
       "    <tr>\n",
       "      <td>292290</td>\n",
       "      <td>1LXrSb67EaH1LGc6d6kWHq8rgv4ZBQAcpU</td>\n",
       "      <td>2014</td>\n",
       "      <td>210</td>\n",
       "      <td>0</td>\n",
       "      <td>0.500000</td>\n",
       "      <td>1</td>\n",
       "      <td>0</td>\n",
       "      <td>1</td>\n",
       "      <td>1.547100e+08</td>\n",
       "      <td>montrealCryptoLocker</td>\n",
       "      <td>1</td>\n",
       "      <td>419</td>\n",
       "    </tr>\n",
       "    <tr>\n",
       "      <td>292291</td>\n",
       "      <td>1LXrSb67EaH1LGc6d6kWHq8rgv4ZBQAcpU</td>\n",
       "      <td>2014</td>\n",
       "      <td>211</td>\n",
       "      <td>2</td>\n",
       "      <td>0.500000</td>\n",
       "      <td>1</td>\n",
       "      <td>0</td>\n",
       "      <td>1</td>\n",
       "      <td>1.104600e+08</td>\n",
       "      <td>montrealCryptoLocker</td>\n",
       "      <td>1</td>\n",
       "      <td>420</td>\n",
       "    </tr>\n",
       "  </tbody>\n",
       "</table>\n",
       "<p>420 rows × 12 columns</p>\n",
       "</div>"
      ],
      "text/plain": [
       "                                   address  year  day  length    weight  \\\n",
       "291872  1LXrSb67EaH1LGc6d6kWHq8rgv4ZBQAcpU  2013   86       2  0.500000   \n",
       "291873  1LXrSb67EaH1LGc6d6kWHq8rgv4ZBQAcpU  2013   91       2  1.000000   \n",
       "291874  1LXrSb67EaH1LGc6d6kWHq8rgv4ZBQAcpU  2013   92       4  1.000000   \n",
       "291875  1LXrSb67EaH1LGc6d6kWHq8rgv4ZBQAcpU  2013   93      22  8.215625   \n",
       "291876  1LXrSb67EaH1LGc6d6kWHq8rgv4ZBQAcpU  2013   94       2  1.000000   \n",
       "...                                    ...   ...  ...     ...       ...   \n",
       "292287  1LXrSb67EaH1LGc6d6kWHq8rgv4ZBQAcpU  2014  185       2  2.000000   \n",
       "292288  1LXrSb67EaH1LGc6d6kWHq8rgv4ZBQAcpU  2014  205       0  1.000000   \n",
       "292289  1LXrSb67EaH1LGc6d6kWHq8rgv4ZBQAcpU  2014  209       0  1.000000   \n",
       "292290  1LXrSb67EaH1LGc6d6kWHq8rgv4ZBQAcpU  2014  210       0  0.500000   \n",
       "292291  1LXrSb67EaH1LGc6d6kWHq8rgv4ZBQAcpU  2014  211       2  0.500000   \n",
       "\n",
       "        count  looped  neighbors        income                 label  \\\n",
       "291872      1       0          1  2.536690e+09  montrealCryptoLocker   \n",
       "291873      1       0          1  1.342504e+10  montrealCryptoLocker   \n",
       "291874      2       0          1  6.760220e+09  montrealCryptoLocker   \n",
       "291875     25       0          1  1.285946e+10  montrealCryptoLocker   \n",
       "291876      1       0          1  9.889260e+09  montrealCryptoLocker   \n",
       "...       ...     ...        ...           ...                   ...   \n",
       "292287      2       0          1  1.966900e+08  montrealCryptoLocker   \n",
       "292288      1       0          1  1.437600e+08  montrealCryptoLocker   \n",
       "292289      1       0          1  2.837800e+08  montrealCryptoLocker   \n",
       "292290      1       0          1  1.547100e+08  montrealCryptoLocker   \n",
       "292291      1       0          1  1.104600e+08  montrealCryptoLocker   \n",
       "\n",
       "        binary_label  repeated_counter  \n",
       "291872             1                 1  \n",
       "291873             1                 2  \n",
       "291874             1                 3  \n",
       "291875             1                 4  \n",
       "291876             1                 5  \n",
       "...              ...               ...  \n",
       "292287             1               416  \n",
       "292288             1               417  \n",
       "292289             1               418  \n",
       "292290             1               419  \n",
       "292291             1               420  \n",
       "\n",
       "[420 rows x 12 columns]"
      ]
     },
     "execution_count": 21,
     "metadata": {},
     "output_type": "execute_result"
    }
   ],
   "source": [
    "# Crosscheck if the loop was successful\n",
    "df1[df1.address == '1LXrSb67EaH1LGc6d6kWHq8rgv4ZBQAcpU']"
   ]
  },
  {
   "cell_type": "code",
   "execution_count": 22,
   "metadata": {},
   "outputs": [
    {
     "data": {
      "text/html": [
       "<div>\n",
       "<style scoped>\n",
       "    .dataframe tbody tr th:only-of-type {\n",
       "        vertical-align: middle;\n",
       "    }\n",
       "\n",
       "    .dataframe tbody tr th {\n",
       "        vertical-align: top;\n",
       "    }\n",
       "\n",
       "    .dataframe thead th {\n",
       "        text-align: right;\n",
       "    }\n",
       "</style>\n",
       "<table border=\"1\" class=\"dataframe\">\n",
       "  <thead>\n",
       "    <tr style=\"text-align: right;\">\n",
       "      <th></th>\n",
       "      <th>address</th>\n",
       "      <th>year</th>\n",
       "      <th>day</th>\n",
       "      <th>length</th>\n",
       "      <th>weight</th>\n",
       "      <th>count</th>\n",
       "      <th>looped</th>\n",
       "      <th>neighbors</th>\n",
       "      <th>income</th>\n",
       "      <th>label</th>\n",
       "      <th>binary_label</th>\n",
       "      <th>repeated_counter</th>\n",
       "    </tr>\n",
       "  </thead>\n",
       "  <tbody>\n",
       "    <tr>\n",
       "      <td>0</td>\n",
       "      <td>111111mg3JxXdXbypYNyERcYLaJdzEwb</td>\n",
       "      <td>2011</td>\n",
       "      <td>276</td>\n",
       "      <td>14</td>\n",
       "      <td>0.003906</td>\n",
       "      <td>1</td>\n",
       "      <td>0</td>\n",
       "      <td>1</td>\n",
       "      <td>100157790.0</td>\n",
       "      <td>white</td>\n",
       "      <td>0</td>\n",
       "      <td>1</td>\n",
       "    </tr>\n",
       "    <tr>\n",
       "      <td>1</td>\n",
       "      <td>111111mg3JxXdXbypYNyERcYLaJdzEwb</td>\n",
       "      <td>2011</td>\n",
       "      <td>284</td>\n",
       "      <td>22</td>\n",
       "      <td>0.062988</td>\n",
       "      <td>2</td>\n",
       "      <td>0</td>\n",
       "      <td>2</td>\n",
       "      <td>210204090.0</td>\n",
       "      <td>white</td>\n",
       "      <td>0</td>\n",
       "      <td>2</td>\n",
       "    </tr>\n",
       "    <tr>\n",
       "      <td>2</td>\n",
       "      <td>111213xkVmeHT1v7N7Ff43XmVfLAUq7WEZ</td>\n",
       "      <td>2012</td>\n",
       "      <td>176</td>\n",
       "      <td>80</td>\n",
       "      <td>0.076766</td>\n",
       "      <td>15</td>\n",
       "      <td>0</td>\n",
       "      <td>1</td>\n",
       "      <td>200454396.0</td>\n",
       "      <td>white</td>\n",
       "      <td>0</td>\n",
       "      <td>1</td>\n",
       "    </tr>\n",
       "    <tr>\n",
       "      <td>3</td>\n",
       "      <td>111213xkVmeHT1v7N7Ff43XmVfLAUq7WEZ</td>\n",
       "      <td>2012</td>\n",
       "      <td>177</td>\n",
       "      <td>6</td>\n",
       "      <td>1.125000</td>\n",
       "      <td>2</td>\n",
       "      <td>0</td>\n",
       "      <td>2</td>\n",
       "      <td>235000000.0</td>\n",
       "      <td>white</td>\n",
       "      <td>0</td>\n",
       "      <td>2</td>\n",
       "    </tr>\n",
       "    <tr>\n",
       "      <td>4</td>\n",
       "      <td>111213xkVmeHT1v7N7Ff43XmVfLAUq7WEZ</td>\n",
       "      <td>2012</td>\n",
       "      <td>190</td>\n",
       "      <td>92</td>\n",
       "      <td>0.628623</td>\n",
       "      <td>6</td>\n",
       "      <td>4</td>\n",
       "      <td>3</td>\n",
       "      <td>447828796.0</td>\n",
       "      <td>white</td>\n",
       "      <td>0</td>\n",
       "      <td>3</td>\n",
       "    </tr>\n",
       "  </tbody>\n",
       "</table>\n",
       "</div>"
      ],
      "text/plain": [
       "                              address  year  day  length    weight  count  \\\n",
       "0    111111mg3JxXdXbypYNyERcYLaJdzEwb  2011  276      14  0.003906      1   \n",
       "1    111111mg3JxXdXbypYNyERcYLaJdzEwb  2011  284      22  0.062988      2   \n",
       "2  111213xkVmeHT1v7N7Ff43XmVfLAUq7WEZ  2012  176      80  0.076766     15   \n",
       "3  111213xkVmeHT1v7N7Ff43XmVfLAUq7WEZ  2012  177       6  1.125000      2   \n",
       "4  111213xkVmeHT1v7N7Ff43XmVfLAUq7WEZ  2012  190      92  0.628623      6   \n",
       "\n",
       "   looped  neighbors       income  label  binary_label  repeated_counter  \n",
       "0       0          1  100157790.0  white             0                 1  \n",
       "1       0          2  210204090.0  white             0                 2  \n",
       "2       0          1  200454396.0  white             0                 1  \n",
       "3       0          2  235000000.0  white             0                 2  \n",
       "4       4          3  447828796.0  white             0                 3  "
      ]
     },
     "execution_count": 22,
     "metadata": {},
     "output_type": "execute_result"
    }
   ],
   "source": [
    "# Merging df0 and df1\n",
    "df = df1.append([df0], sort=False)\n",
    "df.head()"
   ]
  },
  {
   "cell_type": "markdown",
   "metadata": {},
   "source": [
    "### 2b. Repeated"
   ]
  },
  {
   "cell_type": "code",
   "execution_count": 23,
   "metadata": {},
   "outputs": [],
   "source": [
    "# Creating derived variables based on existing ones (Goal: Indicate how many times the address is repeated\n",
    "df['repeated'] = df['address'].map(df['address'].value_counts())"
   ]
  },
  {
   "cell_type": "code",
   "execution_count": 24,
   "metadata": {},
   "outputs": [],
   "source": [
    "# Delete the columns: year and day\n",
    "df = df.drop(columns = ['year', 'day'])"
   ]
  },
  {
   "cell_type": "code",
   "execution_count": 25,
   "metadata": {},
   "outputs": [
    {
     "data": {
      "text/html": [
       "<div>\n",
       "<style scoped>\n",
       "    .dataframe tbody tr th:only-of-type {\n",
       "        vertical-align: middle;\n",
       "    }\n",
       "\n",
       "    .dataframe tbody tr th {\n",
       "        vertical-align: top;\n",
       "    }\n",
       "\n",
       "    .dataframe thead th {\n",
       "        text-align: right;\n",
       "    }\n",
       "</style>\n",
       "<table border=\"1\" class=\"dataframe\">\n",
       "  <thead>\n",
       "    <tr style=\"text-align: right;\">\n",
       "      <th></th>\n",
       "      <th>address</th>\n",
       "      <th>length</th>\n",
       "      <th>weight</th>\n",
       "      <th>count</th>\n",
       "      <th>looped</th>\n",
       "      <th>neighbors</th>\n",
       "      <th>income</th>\n",
       "      <th>label</th>\n",
       "      <th>binary_label</th>\n",
       "      <th>repeated_counter</th>\n",
       "      <th>repeated</th>\n",
       "    </tr>\n",
       "  </thead>\n",
       "  <tbody>\n",
       "    <tr>\n",
       "      <td>292183</td>\n",
       "      <td>1LXrSb67EaH1LGc6d6kWHq8rgv4ZBQAcpU</td>\n",
       "      <td>144</td>\n",
       "      <td>8.753708</td>\n",
       "      <td>1535</td>\n",
       "      <td>1518</td>\n",
       "      <td>1</td>\n",
       "      <td>1.239480e+09</td>\n",
       "      <td>montrealCryptoLocker</td>\n",
       "      <td>1</td>\n",
       "      <td>312</td>\n",
       "      <td>420</td>\n",
       "    </tr>\n",
       "    <tr>\n",
       "      <td>291917</td>\n",
       "      <td>1LXrSb67EaH1LGc6d6kWHq8rgv4ZBQAcpU</td>\n",
       "      <td>0</td>\n",
       "      <td>1.500000</td>\n",
       "      <td>2</td>\n",
       "      <td>0</td>\n",
       "      <td>2</td>\n",
       "      <td>1.862157e+10</td>\n",
       "      <td>montrealCryptoLocker</td>\n",
       "      <td>1</td>\n",
       "      <td>46</td>\n",
       "      <td>420</td>\n",
       "    </tr>\n",
       "    <tr>\n",
       "      <td>291918</td>\n",
       "      <td>1LXrSb67EaH1LGc6d6kWHq8rgv4ZBQAcpU</td>\n",
       "      <td>0</td>\n",
       "      <td>1.000000</td>\n",
       "      <td>1</td>\n",
       "      <td>0</td>\n",
       "      <td>1</td>\n",
       "      <td>1.199047e+10</td>\n",
       "      <td>montrealCryptoLocker</td>\n",
       "      <td>1</td>\n",
       "      <td>47</td>\n",
       "      <td>420</td>\n",
       "    </tr>\n",
       "    <tr>\n",
       "      <td>291919</td>\n",
       "      <td>1LXrSb67EaH1LGc6d6kWHq8rgv4ZBQAcpU</td>\n",
       "      <td>0</td>\n",
       "      <td>1.000000</td>\n",
       "      <td>1</td>\n",
       "      <td>0</td>\n",
       "      <td>1</td>\n",
       "      <td>1.319850e+09</td>\n",
       "      <td>montrealCryptoLocker</td>\n",
       "      <td>1</td>\n",
       "      <td>48</td>\n",
       "      <td>420</td>\n",
       "    </tr>\n",
       "    <tr>\n",
       "      <td>291920</td>\n",
       "      <td>1LXrSb67EaH1LGc6d6kWHq8rgv4ZBQAcpU</td>\n",
       "      <td>0</td>\n",
       "      <td>1.000000</td>\n",
       "      <td>1</td>\n",
       "      <td>0</td>\n",
       "      <td>1</td>\n",
       "      <td>3.031740e+09</td>\n",
       "      <td>montrealCryptoLocker</td>\n",
       "      <td>1</td>\n",
       "      <td>49</td>\n",
       "      <td>420</td>\n",
       "    </tr>\n",
       "    <tr>\n",
       "      <td>...</td>\n",
       "      <td>...</td>\n",
       "      <td>...</td>\n",
       "      <td>...</td>\n",
       "      <td>...</td>\n",
       "      <td>...</td>\n",
       "      <td>...</td>\n",
       "      <td>...</td>\n",
       "      <td>...</td>\n",
       "      <td>...</td>\n",
       "      <td>...</td>\n",
       "      <td>...</td>\n",
       "    </tr>\n",
       "    <tr>\n",
       "      <td>1094188</td>\n",
       "      <td>1Af86TnXR7vSNVREkdBW3HLiDGQRrh8hFC</td>\n",
       "      <td>6</td>\n",
       "      <td>1.000000</td>\n",
       "      <td>2</td>\n",
       "      <td>0</td>\n",
       "      <td>2</td>\n",
       "      <td>3.000000e+08</td>\n",
       "      <td>white</td>\n",
       "      <td>0</td>\n",
       "      <td>1</td>\n",
       "      <td>1</td>\n",
       "    </tr>\n",
       "    <tr>\n",
       "      <td>1094189</td>\n",
       "      <td>1ANhF3z9GxD7xwnZmTpJGxoVQdM3M4hWqJ</td>\n",
       "      <td>2</td>\n",
       "      <td>0.062500</td>\n",
       "      <td>1</td>\n",
       "      <td>0</td>\n",
       "      <td>1</td>\n",
       "      <td>4.699870e+07</td>\n",
       "      <td>white</td>\n",
       "      <td>0</td>\n",
       "      <td>1</td>\n",
       "      <td>1</td>\n",
       "    </tr>\n",
       "    <tr>\n",
       "      <td>1094190</td>\n",
       "      <td>1A3uAFQXt6M6tLePm5RSnWiggcFBmVR3hr</td>\n",
       "      <td>2</td>\n",
       "      <td>0.250000</td>\n",
       "      <td>1</td>\n",
       "      <td>0</td>\n",
       "      <td>2</td>\n",
       "      <td>1.297580e+08</td>\n",
       "      <td>white</td>\n",
       "      <td>0</td>\n",
       "      <td>1</td>\n",
       "      <td>1</td>\n",
       "    </tr>\n",
       "    <tr>\n",
       "      <td>1094191</td>\n",
       "      <td>1JtucVLRJwNR2pZWtZTwW6EFGnoeEqD8qr</td>\n",
       "      <td>0</td>\n",
       "      <td>0.500000</td>\n",
       "      <td>1</td>\n",
       "      <td>0</td>\n",
       "      <td>1</td>\n",
       "      <td>1.761860e+08</td>\n",
       "      <td>white</td>\n",
       "      <td>0</td>\n",
       "      <td>1</td>\n",
       "      <td>1</td>\n",
       "    </tr>\n",
       "    <tr>\n",
       "      <td>2916696</td>\n",
       "      <td>3LFFBxp15h9KSFtaw55np8eP5fv6kdK17e</td>\n",
       "      <td>144</td>\n",
       "      <td>0.073972</td>\n",
       "      <td>6800</td>\n",
       "      <td>0</td>\n",
       "      <td>2</td>\n",
       "      <td>1.123500e+08</td>\n",
       "      <td>white</td>\n",
       "      <td>0</td>\n",
       "      <td>1</td>\n",
       "      <td>1</td>\n",
       "    </tr>\n",
       "  </tbody>\n",
       "</table>\n",
       "<p>2916697 rows × 11 columns</p>\n",
       "</div>"
      ],
      "text/plain": [
       "                                    address  length    weight  count  looped  \\\n",
       "292183   1LXrSb67EaH1LGc6d6kWHq8rgv4ZBQAcpU     144  8.753708   1535    1518   \n",
       "291917   1LXrSb67EaH1LGc6d6kWHq8rgv4ZBQAcpU       0  1.500000      2       0   \n",
       "291918   1LXrSb67EaH1LGc6d6kWHq8rgv4ZBQAcpU       0  1.000000      1       0   \n",
       "291919   1LXrSb67EaH1LGc6d6kWHq8rgv4ZBQAcpU       0  1.000000      1       0   \n",
       "291920   1LXrSb67EaH1LGc6d6kWHq8rgv4ZBQAcpU       0  1.000000      1       0   \n",
       "...                                     ...     ...       ...    ...     ...   \n",
       "1094188  1Af86TnXR7vSNVREkdBW3HLiDGQRrh8hFC       6  1.000000      2       0   \n",
       "1094189  1ANhF3z9GxD7xwnZmTpJGxoVQdM3M4hWqJ       2  0.062500      1       0   \n",
       "1094190  1A3uAFQXt6M6tLePm5RSnWiggcFBmVR3hr       2  0.250000      1       0   \n",
       "1094191  1JtucVLRJwNR2pZWtZTwW6EFGnoeEqD8qr       0  0.500000      1       0   \n",
       "2916696  3LFFBxp15h9KSFtaw55np8eP5fv6kdK17e     144  0.073972   6800       0   \n",
       "\n",
       "         neighbors        income                 label  binary_label  \\\n",
       "292183           1  1.239480e+09  montrealCryptoLocker             1   \n",
       "291917           2  1.862157e+10  montrealCryptoLocker             1   \n",
       "291918           1  1.199047e+10  montrealCryptoLocker             1   \n",
       "291919           1  1.319850e+09  montrealCryptoLocker             1   \n",
       "291920           1  3.031740e+09  montrealCryptoLocker             1   \n",
       "...            ...           ...                   ...           ...   \n",
       "1094188          2  3.000000e+08                 white             0   \n",
       "1094189          1  4.699870e+07                 white             0   \n",
       "1094190          2  1.297580e+08                 white             0   \n",
       "1094191          1  1.761860e+08                 white             0   \n",
       "2916696          2  1.123500e+08                 white             0   \n",
       "\n",
       "         repeated_counter  repeated  \n",
       "292183                312       420  \n",
       "291917                 46       420  \n",
       "291918                 47       420  \n",
       "291919                 48       420  \n",
       "291920                 49       420  \n",
       "...                   ...       ...  \n",
       "1094188                 1         1  \n",
       "1094189                 1         1  \n",
       "1094190                 1         1  \n",
       "1094191                 1         1  \n",
       "2916696                 1         1  \n",
       "\n",
       "[2916697 rows x 11 columns]"
      ]
     },
     "execution_count": 25,
     "metadata": {},
     "output_type": "execute_result"
    }
   ],
   "source": [
    "# Take a look at the newly inserted column by sorting the dataframe by its values\n",
    "df.sort_values('repeated', ascending = False)"
   ]
  },
  {
   "cell_type": "markdown",
   "metadata": {},
   "source": [
    "### 2c. New variable creation (to rename)"
   ]
  },
  {
   "cell_type": "code",
   "execution_count": 26,
   "metadata": {},
   "outputs": [],
   "source": [
    "# Creating derived variables based on existing ones\n",
    "def create_new_variable(df,x,y):\n",
    "    df2 = df\n",
    "    df2[[x,y]] = StandardScaler().fit_transform(df2[[x,y]])\n",
    "    df['count_length_ratio'] = round(df2[x] / df2[y], 3)\n",
    "    plt.figure(figsize=(15, 20), dpi=100)\n",
    "    plt.scatter(df['count_length_ratio'], df[\"label\"])"
   ]
  },
  {
   "cell_type": "code",
   "execution_count": 27,
   "metadata": {},
   "outputs": [
    {
     "data": {
      "image/png": "[encoded data removed]",
      "text/plain": [
       "<Figure size 1500x2000 with 1 Axes>"
      ]
     },
     "metadata": {
      "needs_background": "light"
     },
     "output_type": "display_data"
    }
   ],
   "source": [
    "create_new_variable(df,'count', 'length')"
   ]
  },
  {
   "cell_type": "code",
   "execution_count": 28,
   "metadata": {},
   "outputs": [
    {
     "data": {
      "text/plain": [
       "0.559     687255\n",
       "0.585     265113\n",
       "0.613     154575\n",
       "0.645      86542\n",
       "0.680      60831\n",
       "           ...  \n",
       "4.453          1\n",
       "6.308          1\n",
       "6.876          1\n",
       "4.211          1\n",
       "13.763         1\n",
       "Name: count_length_ratio, Length: 7474, dtype: int64"
      ]
     },
     "execution_count": 28,
     "metadata": {},
     "output_type": "execute_result"
    }
   ],
   "source": [
    "df['count_length_ratio'].value_counts()"
   ]
  },
  {
   "cell_type": "markdown",
   "metadata": {},
   "source": [
    "### Dimensionality reduction\n",
    "\n",
    "<font color='red'>Findings: No values missing - thus no treatment needed for these.\n",
    "\n",
    "Answer: Not required (only seven feature)\n",
    "\n",
    "Based on: analyticsvidhya.com/blog/2018/08/dimensionality-reduction-techniques-python/\n",
    "- Space required to store the data is reduced as the number of dimensions comes down\n",
    "- Less dimensions lead to less computation/training time\n",
    "- Some algorithms do not perform well when we have a large dimensions. So reducing these dimensions needs to happen for the algorithm to be useful\n",
    "- It takes care of multicollinearity by removing redundant features. For example, you have two variables – ‘time spent on treadmill in minutes’ and ‘calories burnt’. These variables are highly correlated as the more time you spend running on a treadmill, the more calories you will burn. Hence, there is no point in storing both as just one of them does what you require\n",
    "- It helps in visualizing data. As discussed earlier, it is very difficult to visualize data in higher dimensions so reducing our space to 2D or 3D may allow us to plot and observe patterns more clearly\n",
    "\n",
    "</font>"
   ]
  },
  {
   "cell_type": "markdown",
   "metadata": {},
   "source": [
    "## 3. Variable Transformation  <a class=\"anchor\" id=\"3\"></a>"
   ]
  },
  {
   "cell_type": "code",
   "execution_count": 29,
   "metadata": {},
   "outputs": [],
   "source": [
    "# Standardize the data and take a look at the results\n",
    "def scale_data(df):\n",
    "    df_scaled = df.copy()\n",
    "    scaling_features = ['length', 'weight', 'count', 'looped', 'neighbors', 'income', 'repeated', 'repeated_counter']\n",
    "    df_scaled[scaling_features] = StandardScaler().fit_transform(df_scaled[scaling_features])\n",
    "    print(df_scaled.head())\n",
    "    return df_scaled"
   ]
  },
  {
   "cell_type": "code",
   "execution_count": 30,
   "metadata": {},
   "outputs": [
    {
     "name": "stdout",
     "output_type": "stream",
     "text": [
      "                              address    length    weight     count    looped  \\\n",
      "0    111111mg3JxXdXbypYNyERcYLaJdzEwb -0.525727 -0.147408 -0.426499 -0.246819   \n",
      "1    111111mg3JxXdXbypYNyERcYLaJdzEwb -0.390093 -0.131328 -0.425907 -0.246819   \n",
      "2  111213xkVmeHT1v7N7Ff43XmVfLAUq7WEZ  0.593252 -0.127578 -0.418213 -0.246819   \n",
      "3  111213xkVmeHT1v7N7Ff43XmVfLAUq7WEZ -0.661360  0.157714 -0.425907 -0.246819   \n",
      "4  111213xkVmeHT1v7N7Ff43XmVfLAUq7WEZ  0.796703  0.022618 -0.423540 -0.242680   \n",
      "\n",
      "   neighbors    income  label  binary_label  repeated_counter  repeated  \\\n",
      "0  -0.067333 -0.026829  white             0         -0.135549 -0.047776   \n",
      "1  -0.011525 -0.026153  white             0          0.053407 -0.047776   \n",
      "2  -0.067333 -0.026213  white             0         -0.135549  1.271055   \n",
      "3  -0.011525 -0.026000  white             0          0.053407  1.271055   \n",
      "4   0.044282 -0.024692  white             0          0.242363  1.271055   \n",
      "\n",
      "   count_length_ratio  \n",
      "0               0.811  \n",
      "1               1.092  \n",
      "2              -0.705  \n",
      "3               0.644  \n",
      "4              -0.532  \n"
     ]
    }
   ],
   "source": [
    "df_scaled = scale_data(df)"
   ]
  },
  {
   "cell_type": "markdown",
   "metadata": {},
   "source": [
    "## 4. Subdataset creation  <a class=\"anchor\" id=\"4\"></a>"
   ]
  },
  {
   "cell_type": "code",
   "execution_count": 31,
   "metadata": {},
   "outputs": [],
   "source": [
    "# Create np array of ransomware\n",
    "# NOTE: changed from deleting value [28] to specific name\n",
    "def creat_ransomware_df(df):\n",
    "    ransomware = np.delete(df.label.unique(), df.label.unique().tolist().index('white')) \n",
    "    print(ransomware)\n",
    "    \n",
    "    # Creating df only about ransomware (unscaled data)\n",
    "    df_ransomware = df[df.label != 'white']\n",
    "    print(df_ransomware.head())\n",
    "    return df_ransomware"
   ]
  },
  {
   "cell_type": "code",
   "execution_count": 32,
   "metadata": {},
   "outputs": [
    {
     "name": "stdout",
     "output_type": "stream",
     "text": [
      "['montrealCryptXXX' 'paduaCryptoWall' 'princetonCerber' 'montrealWannaCry'\n",
      " 'montrealCryptoLocker' 'montrealCryptoTorLocker2015' 'princetonLocky'\n",
      " 'montrealNoobCrypt' 'montrealDMALockerv3' 'montrealDMALocker'\n",
      " 'montrealSamSam' 'montrealXTPLocker' 'montrealVenusLocker'\n",
      " 'montrealFlyper' 'montrealGlobev3' 'montrealJigSaw' 'montrealEDA2'\n",
      " 'montrealGlobe' 'montrealRazy' 'montrealGlobeImposter'\n",
      " 'montrealCryptConsole' 'montrealXLockerv5.0' 'montrealAPT'\n",
      " 'paduaKeRanger' 'paduaJigsaw' 'montrealXLocker' 'montrealSam'\n",
      " 'montrealComradeCircle']\n",
      "                                address    length    weight     count  looped  \\\n",
      "246  112wED5uHhY1aiSaWAzgeMDaCKFcCvj9Pn -0.627452  0.750000 -0.425907       0   \n",
      "247  112wED5uHhY1aiSaWAzgeMDaCKFcCvj9Pn  0.186351  0.000031 -0.426499       0   \n",
      "484  113i99LGHX2ZzBed1SaMpnqb6ruRgbBwMc  1.678322  0.243360  0.723426       0   \n",
      "485  113i99LGHX2ZzBed1SaMpnqb6ruRgbBwMc -0.525727  0.010417 -0.426499       0   \n",
      "721  114TqaapeRvrQzuwsxQHxLWsg7uYWewx3c -0.763086  1.000000 -0.426499       0   \n",
      "\n",
      "     neighbors       income             label  binary_label  repeated_counter  \\\n",
      "246          4  240000000.0  montrealCryptXXX             1                 1   \n",
      "247          1  120000000.0  montrealCryptXXX             1                 2   \n",
      "484          1  128898352.0   paduaCryptoWall             1                 1   \n",
      "485          2   34555818.0   paduaCryptoWall             1                 2   \n",
      "721          2  112137426.0   paduaCryptoWall             1                 1   \n",
      "\n",
      "     repeated  count_length_ratio  \n",
      "246         2               0.679  \n",
      "247         2              -2.289  \n",
      "484         2               0.431  \n",
      "485         2               0.811  \n",
      "721         2               0.559  \n"
     ]
    }
   ],
   "source": [
    "# Ransomware data based on df\n",
    "df_ransomware = creat_ransomware_df(df)"
   ]
  },
  {
   "cell_type": "code",
   "execution_count": 33,
   "metadata": {},
   "outputs": [
    {
     "name": "stdout",
     "output_type": "stream",
     "text": [
      "['montrealCryptXXX' 'paduaCryptoWall' 'princetonCerber' 'montrealWannaCry'\n",
      " 'montrealCryptoLocker' 'montrealCryptoTorLocker2015' 'princetonLocky'\n",
      " 'montrealNoobCrypt' 'montrealDMALockerv3' 'montrealDMALocker'\n",
      " 'montrealSamSam' 'montrealXTPLocker' 'montrealVenusLocker'\n",
      " 'montrealFlyper' 'montrealGlobev3' 'montrealJigSaw' 'montrealEDA2'\n",
      " 'montrealGlobe' 'montrealRazy' 'montrealGlobeImposter'\n",
      " 'montrealCryptConsole' 'montrealXLockerv5.0' 'montrealAPT'\n",
      " 'paduaKeRanger' 'paduaJigsaw' 'montrealXLocker' 'montrealSam'\n",
      " 'montrealComradeCircle']\n",
      "                                address    length    weight     count  \\\n",
      "246  112wED5uHhY1aiSaWAzgeMDaCKFcCvj9Pn -0.627452  0.055652 -0.425907   \n",
      "247  112wED5uHhY1aiSaWAzgeMDaCKFcCvj9Pn  0.186351 -0.148462 -0.426499   \n",
      "484  113i99LGHX2ZzBed1SaMpnqb6ruRgbBwMc  1.678322 -0.082237  0.723426   \n",
      "485  113i99LGHX2ZzBed1SaMpnqb6ruRgbBwMc -0.525727 -0.145636 -0.426499   \n",
      "721  114TqaapeRvrQzuwsxQHxLWsg7uYWewx3c -0.763086  0.123693 -0.426499   \n",
      "\n",
      "       looped  neighbors    income             label  binary_label  \\\n",
      "246 -0.246819   0.100090 -0.025970  montrealCryptXXX             1   \n",
      "247 -0.246819  -0.067333 -0.026707  montrealCryptXXX             1   \n",
      "484 -0.246819  -0.067333 -0.026653   paduaCryptoWall             1   \n",
      "485 -0.246819  -0.011525 -0.027232   paduaCryptoWall             1   \n",
      "721 -0.246819  -0.011525 -0.026756   paduaCryptoWall             1   \n",
      "\n",
      "     repeated_counter  repeated  count_length_ratio  \n",
      "246         -0.135549 -0.047776               0.679  \n",
      "247          0.053407 -0.047776              -2.289  \n",
      "484         -0.135549 -0.047776               0.431  \n",
      "485          0.053407 -0.047776               0.811  \n",
      "721         -0.135549 -0.047776               0.559  \n"
     ]
    }
   ],
   "source": [
    "# Scaled ransomware data\n",
    "df_ransomware_scaled = creat_ransomware_df(df_scaled)"
   ]
  },
  {
   "cell_type": "code",
   "execution_count": 34,
   "metadata": {},
   "outputs": [
    {
     "name": "stdout",
     "output_type": "stream",
     "text": [
      "Shape of data containing ransomware only : (41413, 12)\n",
      "Shape of data containing both ransomware and white labels : (2916697, 12)\n"
     ]
    }
   ],
   "source": [
    "# Count rows and columns\n",
    "print(\"Shape of data containing ransomware only :\", df_ransomware.shape)\n",
    "print(\"Shape of data containing both ransomware and white labels :\", df.shape)"
   ]
  },
  {
   "cell_type": "markdown",
   "metadata": {},
   "source": [
    "## 5. Univariate Analysis  <a class=\"anchor\" id=\"5\"></a>"
   ]
  },
  {
   "cell_type": "markdown",
   "metadata": {},
   "source": [
    "#### 5a. Categorical variables"
   ]
  },
  {
   "cell_type": "code",
   "execution_count": 35,
   "metadata": {},
   "outputs": [
    {
     "data": {
      "text/plain": [
       "0    2875284\n",
       "1      41413\n",
       "Name: binary_label, dtype: int64"
      ]
     },
     "execution_count": 35,
     "metadata": {},
     "output_type": "execute_result"
    }
   ],
   "source": [
    "# Number of addresses used/not used for ransomware\n",
    "df['binary_label'].value_counts()"
   ]
  },
  {
   "cell_type": "markdown",
   "metadata": {},
   "source": [
    "<font color='red'>Finding: The dataset is high imbalanced. Only 1,14% are ransomware adresses. Challenge is to correctly classify the minority class of ransomware transactions.</font>"
   ]
  },
  {
   "cell_type": "code",
   "execution_count": 36,
   "metadata": {},
   "outputs": [
    {
     "data": {
      "image/png": "[encoded data removed]",
      "text/plain": [
       "<Figure size 432x288 with 1 Axes>"
      ]
     },
     "metadata": {},
     "output_type": "display_data"
    }
   ],
   "source": [
    "# Creating pie chart to show frequency of ransomware families\n",
    "# Note: Added the legend and moved the percentage there, so its not overlapped (but still the piechart looks bad)\n",
    "labels = df_ransomware['label'].astype('category').cat.categories.tolist()\n",
    "counts = df_ransomware['label'].value_counts()\n",
    "sizes = [counts[var_cat] for var_cat in labels]\n",
    "fig1, ax1 = plt.subplots()\n",
    "ax1.pie(sizes, shadow=True) #autopct is show the % on plot\n",
    "ax1.axis('equal')\n",
    "plt.legend(\n",
    "    labels = ['%s, %1.1f' % (l, s) for l, s in zip(labels, sizes)],\n",
    "    bbox_to_anchor=(1,0.5),\n",
    "    loc=\"center right\", \n",
    "    fontsize=10, \n",
    "    bbox_transform=plt.gcf().transFigure\n",
    ")\n",
    "plt.subplots_adjust(left=0.0, bottom=0.1, right=0.45)\n",
    "plt.show()\n"
   ]
  },
  {
   "cell_type": "code",
   "execution_count": 37,
   "metadata": {},
   "outputs": [
    {
     "data": {
      "text/plain": [
       "paduaCryptoWall         12390\n",
       "montrealCryptoLocker     9315\n",
       "princetonCerber          9223\n",
       "princetonLocky           6625\n",
       "montrealCryptXXX         2419\n",
       "Name: label, dtype: int64"
      ]
     },
     "execution_count": 37,
     "metadata": {},
     "output_type": "execute_result"
    }
   ],
   "source": [
    "# Count frequency of label\n",
    "df_ransomware['label'].value_counts().head()"
   ]
  },
  {
   "cell_type": "markdown",
   "metadata": {},
   "source": [
    "<font color='red'>Finding: The most common is the ransomware CryptoWall, making almost 30% of the ransomware.</font>"
   ]
  },
  {
   "cell_type": "markdown",
   "metadata": {},
   "source": [
    "#### 5b. Continuous variables"
   ]
  },
  {
   "cell_type": "code",
   "execution_count": 38,
   "metadata": {},
   "outputs": [],
   "source": [
    "# Create descriptive function for the dataframe\n",
    "def describeContinuousVars(df):\n",
    "    # Show central tendency and measure dispersion\n",
    "    print(df.describe())\n",
    "    \n",
    "    df[\"repeated\"].plot.hist()\n",
    "    plt.show()\n",
    "    \n",
    "    # Create boxplots (Divided in three charts)\n",
    "    df.boxplot(column=['repeated', 'length', 'repeated_counter'])\n",
    "    plt.show()\n",
    "    \n",
    "    # Create boxplots (Divided in three charts)\n",
    "    df.boxplot(column=['weight', 'count', 'looped'])\n",
    "    plt.show()\n",
    "    \n",
    "    # Create boxplots (Divided in three charts)\n",
    "    df.boxplot(column=['neighbors', 'income'])\n",
    "    plt.show()"
   ]
  },
  {
   "cell_type": "code",
   "execution_count": 39,
   "metadata": {
    "scrolled": false
   },
   "outputs": [
    {
     "name": "stdout",
     "output_type": "stream",
     "text": [
      "             length        weight         count        looped     neighbors  \\\n",
      "count  2.916697e+06  2.916697e+06  2.916697e+06  2.916697e+06  2.916697e+06   \n",
      "mean  -7.189116e-13 -6.621340e-14 -1.759770e-13  1.100264e-12 -8.368568e-14   \n",
      "std    1.000000e+00  1.000000e+00  1.000000e+00  1.000000e+00  1.000000e+00   \n",
      "min   -7.630858e-01 -1.484707e-01 -4.264988e-01 -2.468192e-01 -6.733256e-02   \n",
      "25%   -7.291773e-01 -1.426234e-01 -4.264988e-01 -2.468192e-01 -6.733256e-02   \n",
      "50%   -6.274520e-01 -8.042971e-02 -4.264988e-01 -2.468192e-01 -1.152513e-02   \n",
      "75%    1.067970e+00  9.156387e-02 -3.939482e-01 -2.468192e-01 -1.152513e-02   \n",
      "max    1.678322e+00  5.288701e+02  8.152663e+00  1.475440e+01  7.209088e+02   \n",
      "\n",
      "             income  binary_label  repeated_counter      repeated  \\\n",
      "count  2.916697e+06  2.916697e+06      2.916697e+06  2.916697e+06   \n",
      "mean  -5.668007e-15  1.419860e-02      1.276526e-12 -2.259419e-12   \n",
      "std    1.000000e+00  1.183089e-01      1.000000e+00  1.000000e+00   \n",
      "min   -2.726043e-02  0.000000e+00     -1.355491e-01 -1.576788e-01   \n",
      "25%   -2.698822e-02  0.000000e+00     -1.355491e-01 -1.576788e-01   \n",
      "50%   -2.621548e-02  0.000000e+00     -1.355491e-01 -1.576788e-01   \n",
      "75%   -2.133491e-02  0.000000e+00     -1.355491e-01 -1.576788e-01   \n",
      "max    3.070944e+02  1.000000e+00      7.903708e+01  4.589150e+01   \n",
      "\n",
      "       count_length_ratio  \n",
      "count        2.916697e+06  \n",
      "mean         6.314632e-01  \n",
      "std          2.513569e+00  \n",
      "min         -2.537400e+01  \n",
      "25%          5.590000e-01  \n",
      "50%          5.850000e-01  \n",
      "75%          7.550000e-01  \n",
      "max          2.494200e+01  \n"
     ]
    },
    {
     "data": {
      "image/png": "[encoded data removed]",
      "text/plain": [
       "<Figure size 432x288 with 1 Axes>"
      ]
     },
     "metadata": {
      "needs_background": "light"
     },
     "output_type": "display_data"
    },
    {
     "data": {
      "image/png": "[encoded data removed]",
      "text/plain": [
       "<Figure size 432x288 with 1 Axes>"
      ]
     },
     "metadata": {
      "needs_background": "light"
     },
     "output_type": "display_data"
    },
    {
     "data": {
      "image/png": "[encoded data removed]",
      "text/plain": [
       "<Figure size 432x288 with 1 Axes>"
      ]
     },
     "metadata": {
      "needs_background": "light"
     },
     "output_type": "display_data"
    },
    {
     "data": {
      "image/png": "[encoded data removed]",
      "text/plain": [
       "<Figure size 432x288 with 1 Axes>"
      ]
     },
     "metadata": {
      "needs_background": "light"
     },
     "output_type": "display_data"
    }
   ],
   "source": [
    "# Visualize the scaled dataset\n",
    "describeContinuousVars(df_scaled)"
   ]
  },
  {
   "cell_type": "markdown",
   "metadata": {},
   "source": [
    "<font color='red'>As I've read more about anomalies and noisy data detection, the best ways are apparently to look at the boxplots. Since we have them, its easier to see there are some features that have outliers, specifically: neighbors, repeated, weight.\n",
    "\n",
    "Another good way is to look at the variance of the features, and if it is high then there is some noise present.</font>"
   ]
  },
  {
   "cell_type": "code",
   "execution_count": 40,
   "metadata": {},
   "outputs": [
    {
     "name": "stdout",
     "output_type": "stream",
     "text": [
      "             length        weight         count        looped     neighbors  \\\n",
      "count  2.916697e+06  2.916697e+06  2.916697e+06  2.916697e+06  2.916697e+06   \n",
      "mean  -7.189116e-13  5.455192e-01 -1.759770e-13  2.385067e+02  2.206516e+00   \n",
      "std    1.000000e+00  3.674255e+00  1.000000e+00  9.663217e+02  1.791877e+01   \n",
      "min   -7.630858e-01  3.606469e-94 -4.264988e-01  0.000000e+00  1.000000e+00   \n",
      "25%   -7.291773e-01  2.148438e-02 -4.264988e-01  0.000000e+00  1.000000e+00   \n",
      "50%   -6.274520e-01  2.500000e-01 -4.264988e-01  0.000000e+00  2.000000e+00   \n",
      "75%    1.067970e+00  8.819482e-01 -3.939482e-01  0.000000e+00  2.000000e+00   \n",
      "max    1.678322e+00  1.943749e+03  8.152663e+00  1.449600e+04  1.292000e+04   \n",
      "\n",
      "             income  binary_label  repeated_counter      repeated  \\\n",
      "count  2.916697e+06  2.916697e+06      2.916697e+06  2.916697e+06   \n",
      "mean   4.464889e+09  1.419860e-02      1.717357e+00  2.434715e+00   \n",
      "std    1.626860e+11  1.183089e-01      5.292234e+00  9.098970e+00   \n",
      "min    3.000000e+07  0.000000e+00      1.000000e+00  1.000000e+00   \n",
      "25%    7.428559e+07  0.000000e+00      1.000000e+00  1.000000e+00   \n",
      "50%    1.999985e+08  0.000000e+00      1.000000e+00  1.000000e+00   \n",
      "75%    9.940000e+08  0.000000e+00      1.000000e+00  1.000000e+00   \n",
      "max    4.996440e+13  1.000000e+00      4.200000e+02  4.200000e+02   \n",
      "\n",
      "       count_length_ratio  \n",
      "count        2.916697e+06  \n",
      "mean         6.314632e-01  \n",
      "std          2.513569e+00  \n",
      "min         -2.537400e+01  \n",
      "25%          5.590000e-01  \n",
      "50%          5.850000e-01  \n",
      "75%          7.550000e-01  \n",
      "max          2.494200e+01  \n"
     ]
    },
    {
     "data": {
      "image/png": "[encoded data removed]",
      "text/plain": [
       "<Figure size 432x288 with 1 Axes>"
      ]
     },
     "metadata": {
      "needs_background": "light"
     },
     "output_type": "display_data"
    },
    {
     "data": {
      "image/png": "[encoded data removed]",
      "text/plain": [
       "<Figure size 432x288 with 1 Axes>"
      ]
     },
     "metadata": {
      "needs_background": "light"
     },
     "output_type": "display_data"
    },
    {
     "data": {
      "image/png": "[encoded data removed]",
      "text/plain": [
       "<Figure size 432x288 with 1 Axes>"
      ]
     },
     "metadata": {
      "needs_background": "light"
     },
     "output_type": "display_data"
    },
    {
     "data": {
      "image/png": "[encoded data removed]",
      "text/plain": [
       "<Figure size 432x288 with 1 Axes>"
      ]
     },
     "metadata": {
      "needs_background": "light"
     },
     "output_type": "display_data"
    }
   ],
   "source": [
    "# Visualize the original dataset\n",
    "describeContinuousVars(df)"
   ]
  },
  {
   "cell_type": "markdown",
   "metadata": {},
   "source": [
    "<font color='red'>Finding: It seem that we have outliers for weight and repeated. In the following, it will be further investigated</font>"
   ]
  },
  {
   "cell_type": "markdown",
   "metadata": {},
   "source": [
    "## 6. Bi-variate Analysis  <a class=\"anchor\" id=\"6\"></a>"
   ]
  },
  {
   "cell_type": "code",
   "execution_count": 41,
   "metadata": {},
   "outputs": [],
   "source": [
    "# Function to explore correlation\n",
    "def explore_correlation(df):\n",
    "    \n",
    "    # Creat Scatter matrix\n",
    "    if False:\n",
    "        scatter_matrix(df_ransomware_scaled, figsize = (14, 9));\n",
    "    \n",
    "    ### Correlation Matrix for 1st RQ\n",
    "    print(df.corr())\n",
    "\n",
    "    #-1: perfect negative linear correlation\n",
    "    # +1:perfect positive linear correlation and \n",
    "    # 0: No correlation\n",
    "    \n",
    "    # Plot the correlations per Regions \n",
    "    plt.rcParams['figure.figsize'] = (14,12)\n",
    "    sns.heatmap(df.corr(), annot = True)\n",
    "    plt.show()"
   ]
  },
  {
   "cell_type": "code",
   "execution_count": 42,
   "metadata": {},
   "outputs": [
    {
     "name": "stdout",
     "output_type": "stream",
     "text": [
      "                      length    weight     count    looped  neighbors  \\\n",
      "length              1.000000  0.000228  0.703467  0.411609   0.031523   \n",
      "weight              0.000228  1.000000  0.022313  0.061646   0.691963   \n",
      "count               0.703467  0.022313  1.000000  0.560370   0.025441   \n",
      "looped              0.411609  0.061646  0.560370  1.000000   0.052826   \n",
      "neighbors           0.031523  0.691963  0.025441  0.052826   1.000000   \n",
      "income              0.000488  0.069774 -0.003635  0.002551   0.138966   \n",
      "binary_label       -0.006860  0.002676 -0.008654 -0.017810  -0.000872   \n",
      "repeated_counter   -0.051886  0.023333 -0.037486 -0.014875   0.024512   \n",
      "repeated           -0.055968  0.030467 -0.044624 -0.017909   0.035867   \n",
      "count_length_ratio -0.000006  0.003593  0.134400  0.071524   0.001359   \n",
      "\n",
      "                      income  binary_label  repeated_counter  repeated  \\\n",
      "length              0.000488     -0.006860         -0.051886 -0.055968   \n",
      "weight              0.069774      0.002676          0.023333  0.030467   \n",
      "count              -0.003635     -0.008654         -0.037486 -0.044624   \n",
      "looped              0.002551     -0.017810         -0.014875 -0.017909   \n",
      "neighbors           0.138966     -0.000872          0.024512  0.035867   \n",
      "income              1.000000     -0.002716          0.000766  0.002089   \n",
      "binary_label       -0.002716      1.000000          0.267814  0.311537   \n",
      "repeated_counter    0.000766      0.267814          1.000000  0.859653   \n",
      "repeated            0.002089      0.311537          0.859653  1.000000   \n",
      "count_length_ratio -0.001603     -0.001325         -0.002121 -0.002871   \n",
      "\n",
      "                    count_length_ratio  \n",
      "length                       -0.000006  \n",
      "weight                        0.003593  \n",
      "count                         0.134400  \n",
      "looped                        0.071524  \n",
      "neighbors                     0.001359  \n",
      "income                       -0.001603  \n",
      "binary_label                 -0.001325  \n",
      "repeated_counter             -0.002121  \n",
      "repeated                     -0.002871  \n",
      "count_length_ratio            1.000000  \n"
     ]
    },
    {
     "data": {
      "image/png": "[encoded data removed]",
      "text/plain": [
       "<Figure size 1008x864 with 2 Axes>"
      ]
     },
     "metadata": {
      "needs_background": "light"
     },
     "output_type": "display_data"
    }
   ],
   "source": [
    "explore_correlation(df)"
   ]
  },
  {
   "cell_type": "markdown",
   "metadata": {},
   "source": [
    "<font color='red'>Findings:\n",
    "- Between repeated and label is weak positive correlation\n",
    "- Between the other features and label exist no direct correlation\n",
    "- Between count and looped is a correlation\n",
    "- Between count and length is a strong correlation\n",
    "- Between looped and length is a strong correlation\n",
    "- Betweeen weight and neigbours is a correlation\n",
    "\n",
    "</font>"
   ]
  },
  {
   "cell_type": "markdown",
   "metadata": {},
   "source": [
    "## 7. Outlier handling <a class=\"anchor\" id=\"7\"></a>"
   ]
  },
  {
   "cell_type": "markdown",
   "metadata": {},
   "source": [
    "### 7a. Outlier detection using boxplots "
   ]
  },
  {
   "cell_type": "code",
   "execution_count": 43,
   "metadata": {},
   "outputs": [
    {
     "data": {
      "text/plain": [
       "address               1LXrSb67EaH1LGc6d6kWHq8rgv4ZBQAcpU\n",
       "length                                         -0.729177\n",
       "weight                                               0.5\n",
       "count                                          -0.426499\n",
       "looped                                                 0\n",
       "neighbors                                              1\n",
       "income                                       2.53669e+09\n",
       "label                               montrealCryptoLocker\n",
       "binary_label                                           1\n",
       "repeated_counter                                       1\n",
       "repeated                                             420\n",
       "count_length_ratio                                 0.585\n",
       "Name: 291872, dtype: object"
      ]
     },
     "execution_count": 43,
     "metadata": {},
     "output_type": "execute_result"
    }
   ],
   "source": [
    "# Investigate potential outlier in 'repeated' column\n",
    "df.iloc[df['repeated'].idxmax()]"
   ]
  },
  {
   "cell_type": "markdown",
   "metadata": {},
   "source": [
    "<font color='red'>\n",
    "Repeated: Its a ransomware address. Therefore, it should remain in the dataset </font>"
   ]
  },
  {
   "cell_type": "code",
   "execution_count": 44,
   "metadata": {},
   "outputs": [
    {
     "data": {
      "text/plain": [
       "address                   unknown\n",
       "length                    1.67832\n",
       "weight                    1943.75\n",
       "count                     1.92543\n",
       "looped                       3975\n",
       "neighbors                   12920\n",
       "income                6.51006e+12\n",
       "label                       white\n",
       "binary_label                    0\n",
       "repeated_counter                4\n",
       "repeated                        4\n",
       "count_length_ratio          1.147\n",
       "Name: 382368, dtype: object"
      ]
     },
     "execution_count": 44,
     "metadata": {},
     "output_type": "execute_result"
    }
   ],
   "source": [
    "# Investigate potential outlier in 'weight' column\n",
    "df.iloc[df['weight'].idxmax()]"
   ]
  },
  {
   "cell_type": "code",
   "execution_count": 45,
   "metadata": {},
   "outputs": [
    {
     "data": {
      "text/html": [
       "<div>\n",
       "<style scoped>\n",
       "    .dataframe tbody tr th:only-of-type {\n",
       "        vertical-align: middle;\n",
       "    }\n",
       "\n",
       "    .dataframe tbody tr th {\n",
       "        vertical-align: top;\n",
       "    }\n",
       "\n",
       "    .dataframe thead th {\n",
       "        text-align: right;\n",
       "    }\n",
       "</style>\n",
       "<table border=\"1\" class=\"dataframe\">\n",
       "  <thead>\n",
       "    <tr style=\"text-align: right;\">\n",
       "      <th></th>\n",
       "      <th>address</th>\n",
       "      <th>length</th>\n",
       "      <th>weight</th>\n",
       "      <th>count</th>\n",
       "      <th>looped</th>\n",
       "      <th>neighbors</th>\n",
       "      <th>income</th>\n",
       "      <th>label</th>\n",
       "      <th>binary_label</th>\n",
       "      <th>repeated_counter</th>\n",
       "      <th>repeated</th>\n",
       "      <th>count_length_ratio</th>\n",
       "    </tr>\n",
       "  </thead>\n",
       "  <tbody>\n",
       "    <tr>\n",
       "      <td>11762</td>\n",
       "      <td>12cgpFdJViXbwHbhrA3TuW1EGnL25Zqc3P</td>\n",
       "      <td>1.678322</td>\n",
       "      <td>1804.614640</td>\n",
       "      <td>5.129006</td>\n",
       "      <td>9388</td>\n",
       "      <td>387</td>\n",
       "      <td>2.142067e+12</td>\n",
       "      <td>white</td>\n",
       "      <td>0</td>\n",
       "      <td>5</td>\n",
       "      <td>13</td>\n",
       "      <td>3.056</td>\n",
       "    </tr>\n",
       "    <tr>\n",
       "      <td>319158</td>\n",
       "      <td>1NDyJtNTjmwk5xPNhjgAMu4HDHigtobu1s</td>\n",
       "      <td>1.678322</td>\n",
       "      <td>974.863015</td>\n",
       "      <td>3.199049</td>\n",
       "      <td>6127</td>\n",
       "      <td>968</td>\n",
       "      <td>9.222508e+11</td>\n",
       "      <td>white</td>\n",
       "      <td>0</td>\n",
       "      <td>3</td>\n",
       "      <td>4</td>\n",
       "      <td>1.906</td>\n",
       "    </tr>\n",
       "    <tr>\n",
       "      <td>365823</td>\n",
       "      <td>3422VtS7UtCvXYxoXMVp6eZupR252z85oC</td>\n",
       "      <td>-0.695269</td>\n",
       "      <td>881.477311</td>\n",
       "      <td>-0.109278</td>\n",
       "      <td>537</td>\n",
       "      <td>1233</td>\n",
       "      <td>2.116113e+11</td>\n",
       "      <td>white</td>\n",
       "      <td>0</td>\n",
       "      <td>3</td>\n",
       "      <td>6</td>\n",
       "      <td>0.157</td>\n",
       "    </tr>\n",
       "    <tr>\n",
       "      <td>365824</td>\n",
       "      <td>3422VtS7UtCvXYxoXMVp6eZupR252z85oC</td>\n",
       "      <td>-0.695269</td>\n",
       "      <td>938.693486</td>\n",
       "      <td>-0.100993</td>\n",
       "      <td>551</td>\n",
       "      <td>984</td>\n",
       "      <td>1.537817e+11</td>\n",
       "      <td>white</td>\n",
       "      <td>0</td>\n",
       "      <td>4</td>\n",
       "      <td>6</td>\n",
       "      <td>0.145</td>\n",
       "    </tr>\n",
       "    <tr>\n",
       "      <td>382366</td>\n",
       "      <td>unknown</td>\n",
       "      <td>1.678322</td>\n",
       "      <td>1827.778835</td>\n",
       "      <td>2.397120</td>\n",
       "      <td>4772</td>\n",
       "      <td>7589</td>\n",
       "      <td>3.097054e+12</td>\n",
       "      <td>white</td>\n",
       "      <td>0</td>\n",
       "      <td>2</td>\n",
       "      <td>4</td>\n",
       "      <td>1.428</td>\n",
       "    </tr>\n",
       "    <tr>\n",
       "      <td>382367</td>\n",
       "      <td>unknown</td>\n",
       "      <td>1.678322</td>\n",
       "      <td>1866.716729</td>\n",
       "      <td>2.934502</td>\n",
       "      <td>5680</td>\n",
       "      <td>11746</td>\n",
       "      <td>1.067816e+13</td>\n",
       "      <td>white</td>\n",
       "      <td>0</td>\n",
       "      <td>3</td>\n",
       "      <td>4</td>\n",
       "      <td>1.748</td>\n",
       "    </tr>\n",
       "    <tr>\n",
       "      <td>382368</td>\n",
       "      <td>unknown</td>\n",
       "      <td>1.678322</td>\n",
       "      <td>1943.748793</td>\n",
       "      <td>1.925432</td>\n",
       "      <td>3975</td>\n",
       "      <td>12920</td>\n",
       "      <td>6.510062e+12</td>\n",
       "      <td>white</td>\n",
       "      <td>0</td>\n",
       "      <td>4</td>\n",
       "      <td>4</td>\n",
       "      <td>1.147</td>\n",
       "    </tr>\n",
       "    <tr>\n",
       "      <td>1832099</td>\n",
       "      <td>1L671pxzdY9dzEayZ9yEfUVWAoGsq99PoC</td>\n",
       "      <td>1.678322</td>\n",
       "      <td>1019.849456</td>\n",
       "      <td>4.366137</td>\n",
       "      <td>8099</td>\n",
       "      <td>336</td>\n",
       "      <td>3.248000e+12</td>\n",
       "      <td>white</td>\n",
       "      <td>0</td>\n",
       "      <td>1</td>\n",
       "      <td>1</td>\n",
       "      <td>2.601</td>\n",
       "    </tr>\n",
       "    <tr>\n",
       "      <td>2337778</td>\n",
       "      <td>1KqB2s2E9euz821zbwoMZMiMmT2GLMRsan</td>\n",
       "      <td>1.678322</td>\n",
       "      <td>866.603101</td>\n",
       "      <td>5.121904</td>\n",
       "      <td>9376</td>\n",
       "      <td>1655</td>\n",
       "      <td>2.391087e+11</td>\n",
       "      <td>white</td>\n",
       "      <td>0</td>\n",
       "      <td>1</td>\n",
       "      <td>1</td>\n",
       "      <td>3.052</td>\n",
       "    </tr>\n",
       "    <tr>\n",
       "      <td>2338440</td>\n",
       "      <td>33fDiKKhr2F2uRv2jJzdKT3ECuK3wzCq5d</td>\n",
       "      <td>1.678322</td>\n",
       "      <td>864.924781</td>\n",
       "      <td>5.121904</td>\n",
       "      <td>9364</td>\n",
       "      <td>1389</td>\n",
       "      <td>1.982364e+11</td>\n",
       "      <td>white</td>\n",
       "      <td>0</td>\n",
       "      <td>1</td>\n",
       "      <td>1</td>\n",
       "      <td>3.052</td>\n",
       "    </tr>\n",
       "  </tbody>\n",
       "</table>\n",
       "</div>"
      ],
      "text/plain": [
       "                                    address    length       weight     count  \\\n",
       "11762    12cgpFdJViXbwHbhrA3TuW1EGnL25Zqc3P  1.678322  1804.614640  5.129006   \n",
       "319158   1NDyJtNTjmwk5xPNhjgAMu4HDHigtobu1s  1.678322   974.863015  3.199049   \n",
       "365823   3422VtS7UtCvXYxoXMVp6eZupR252z85oC -0.695269   881.477311 -0.109278   \n",
       "365824   3422VtS7UtCvXYxoXMVp6eZupR252z85oC -0.695269   938.693486 -0.100993   \n",
       "382366                              unknown  1.678322  1827.778835  2.397120   \n",
       "382367                              unknown  1.678322  1866.716729  2.934502   \n",
       "382368                              unknown  1.678322  1943.748793  1.925432   \n",
       "1832099  1L671pxzdY9dzEayZ9yEfUVWAoGsq99PoC  1.678322  1019.849456  4.366137   \n",
       "2337778  1KqB2s2E9euz821zbwoMZMiMmT2GLMRsan  1.678322   866.603101  5.121904   \n",
       "2338440  33fDiKKhr2F2uRv2jJzdKT3ECuK3wzCq5d  1.678322   864.924781  5.121904   \n",
       "\n",
       "         looped  neighbors        income  label  binary_label  \\\n",
       "11762      9388        387  2.142067e+12  white             0   \n",
       "319158     6127        968  9.222508e+11  white             0   \n",
       "365823      537       1233  2.116113e+11  white             0   \n",
       "365824      551        984  1.537817e+11  white             0   \n",
       "382366     4772       7589  3.097054e+12  white             0   \n",
       "382367     5680      11746  1.067816e+13  white             0   \n",
       "382368     3975      12920  6.510062e+12  white             0   \n",
       "1832099    8099        336  3.248000e+12  white             0   \n",
       "2337778    9376       1655  2.391087e+11  white             0   \n",
       "2338440    9364       1389  1.982364e+11  white             0   \n",
       "\n",
       "         repeated_counter  repeated  count_length_ratio  \n",
       "11762                   5        13               3.056  \n",
       "319158                  3         4               1.906  \n",
       "365823                  3         6               0.157  \n",
       "365824                  4         6               0.145  \n",
       "382366                  2         4               1.428  \n",
       "382367                  3         4               1.748  \n",
       "382368                  4         4               1.147  \n",
       "1832099                 1         1               2.601  \n",
       "2337778                 1         1               3.052  \n",
       "2338440                 1         1               3.052  "
      ]
     },
     "execution_count": 45,
     "metadata": {},
     "output_type": "execute_result"
    }
   ],
   "source": [
    "# Show rows, where weight is above 800\n",
    "df[df['weight'] > 800]"
   ]
  },
  {
   "cell_type": "code",
   "execution_count": 46,
   "metadata": {},
   "outputs": [
    {
     "data": {
      "text/html": [
       "<div>\n",
       "<style scoped>\n",
       "    .dataframe tbody tr th:only-of-type {\n",
       "        vertical-align: middle;\n",
       "    }\n",
       "\n",
       "    .dataframe tbody tr th {\n",
       "        vertical-align: top;\n",
       "    }\n",
       "\n",
       "    .dataframe thead th {\n",
       "        text-align: right;\n",
       "    }\n",
       "</style>\n",
       "<table border=\"1\" class=\"dataframe\">\n",
       "  <thead>\n",
       "    <tr style=\"text-align: right;\">\n",
       "      <th></th>\n",
       "      <th>address</th>\n",
       "      <th>length</th>\n",
       "      <th>weight</th>\n",
       "      <th>count</th>\n",
       "      <th>looped</th>\n",
       "      <th>neighbors</th>\n",
       "      <th>income</th>\n",
       "      <th>label</th>\n",
       "      <th>binary_label</th>\n",
       "      <th>repeated_counter</th>\n",
       "      <th>repeated</th>\n",
       "      <th>count_length_ratio</th>\n",
       "    </tr>\n",
       "  </thead>\n",
       "  <tbody>\n",
       "    <tr>\n",
       "      <td>382365</td>\n",
       "      <td>unknown</td>\n",
       "      <td>1.678322</td>\n",
       "      <td>146.137741</td>\n",
       "      <td>2.645097</td>\n",
       "      <td>4812</td>\n",
       "      <td>1192</td>\n",
       "      <td>6.625257e+11</td>\n",
       "      <td>white</td>\n",
       "      <td>0</td>\n",
       "      <td>1</td>\n",
       "      <td>4</td>\n",
       "      <td>1.576</td>\n",
       "    </tr>\n",
       "    <tr>\n",
       "      <td>382366</td>\n",
       "      <td>unknown</td>\n",
       "      <td>1.678322</td>\n",
       "      <td>1827.778835</td>\n",
       "      <td>2.397120</td>\n",
       "      <td>4772</td>\n",
       "      <td>7589</td>\n",
       "      <td>3.097054e+12</td>\n",
       "      <td>white</td>\n",
       "      <td>0</td>\n",
       "      <td>2</td>\n",
       "      <td>4</td>\n",
       "      <td>1.428</td>\n",
       "    </tr>\n",
       "    <tr>\n",
       "      <td>382367</td>\n",
       "      <td>unknown</td>\n",
       "      <td>1.678322</td>\n",
       "      <td>1866.716729</td>\n",
       "      <td>2.934502</td>\n",
       "      <td>5680</td>\n",
       "      <td>11746</td>\n",
       "      <td>1.067816e+13</td>\n",
       "      <td>white</td>\n",
       "      <td>0</td>\n",
       "      <td>3</td>\n",
       "      <td>4</td>\n",
       "      <td>1.748</td>\n",
       "    </tr>\n",
       "    <tr>\n",
       "      <td>382368</td>\n",
       "      <td>unknown</td>\n",
       "      <td>1.678322</td>\n",
       "      <td>1943.748793</td>\n",
       "      <td>1.925432</td>\n",
       "      <td>3975</td>\n",
       "      <td>12920</td>\n",
       "      <td>6.510062e+12</td>\n",
       "      <td>white</td>\n",
       "      <td>0</td>\n",
       "      <td>4</td>\n",
       "      <td>4</td>\n",
       "      <td>1.147</td>\n",
       "    </tr>\n",
       "  </tbody>\n",
       "</table>\n",
       "</div>"
      ],
      "text/plain": [
       "        address    length       weight     count  looped  neighbors  \\\n",
       "382365  unknown  1.678322   146.137741  2.645097    4812       1192   \n",
       "382366  unknown  1.678322  1827.778835  2.397120    4772       7589   \n",
       "382367  unknown  1.678322  1866.716729  2.934502    5680      11746   \n",
       "382368  unknown  1.678322  1943.748793  1.925432    3975      12920   \n",
       "\n",
       "              income  label  binary_label  repeated_counter  repeated  \\\n",
       "382365  6.625257e+11  white             0                 1         4   \n",
       "382366  3.097054e+12  white             0                 2         4   \n",
       "382367  1.067816e+13  white             0                 3         4   \n",
       "382368  6.510062e+12  white             0                 4         4   \n",
       "\n",
       "        count_length_ratio  \n",
       "382365               1.576  \n",
       "382366               1.428  \n",
       "382367               1.748  \n",
       "382368               1.147  "
      ]
     },
     "execution_count": 46,
     "metadata": {},
     "output_type": "execute_result"
    }
   ],
   "source": [
    "# How many addresses are unknown\n",
    "df[df.address == 'unknown']"
   ]
  },
  {
   "cell_type": "code",
   "execution_count": 47,
   "metadata": {},
   "outputs": [
    {
     "data": {
      "text/plain": [
       "34    2808961\n",
       "33     107728\n",
       "7           4\n",
       "32          3\n",
       "27          1\n",
       "Name: address, dtype: int64"
      ]
     },
     "execution_count": 47,
     "metadata": {},
     "output_type": "execute_result"
    }
   ],
   "source": [
    "# Length of the bitcoin address (must be between 26-35 alphanumeric characters)\n",
    "df['address'].astype(str).map(len).value_counts()"
   ]
  },
  {
   "cell_type": "markdown",
   "metadata": {},
   "source": [
    "<font color='red'>\n",
    "Findings for Weight:\n",
    "1. Some addresses are unknown (Note: Address. A Bitcoin address, or simply address, is an identifier of 26-35 alphanumeric characters, beginning with the number 1 , 3 or bc1 that represents a possible destination for a bitcoin payment.\n",
    "2. Bug gap between the values (1019 vs. 1804) \n",
    "    \n",
    "Therefore, the rows with the address.len below 26 characters and the weight above 1100 should be deleted in the dataframe 'df' and 'df_scaled'. </font>"
   ]
  },
  {
   "cell_type": "markdown",
   "metadata": {},
   "source": [
    "### 7b. Outlier elimination using boxplots "
   ]
  },
  {
   "cell_type": "code",
   "execution_count": 48,
   "metadata": {},
   "outputs": [
    {
     "name": "stdout",
     "output_type": "stream",
     "text": [
      "Empty DataFrame\n",
      "Columns: [address, length, weight, count, looped, neighbors, income, label, binary_label, repeated_counter, repeated, count_length_ratio]\n",
      "Index: []\n"
     ]
    }
   ],
   "source": [
    "# Drop every row below 26 characters\n",
    "df = df.drop(df[df.address.map(len) <  26].index)\n",
    "\n",
    "# Check if the drop were successful\n",
    "print(df[df['address'].map(len) < 26])"
   ]
  },
  {
   "cell_type": "code",
   "execution_count": 49,
   "metadata": {},
   "outputs": [
    {
     "name": "stdout",
     "output_type": "stream",
     "text": [
      "Empty DataFrame\n",
      "Columns: [address, length, weight, count, looped, neighbors, income, label, binary_label, repeated_counter, repeated, count_length_ratio]\n",
      "Index: []\n"
     ]
    }
   ],
   "source": [
    "# # Drop every row, where weight is above 1100\n",
    "df = df.drop(df[df.weight > 1100].index)\n",
    "\n",
    "# Check if the drop were successful\n",
    "print(df[df['weight'] > 1100])"
   ]
  },
  {
   "cell_type": "code",
   "execution_count": 50,
   "metadata": {},
   "outputs": [
    {
     "name": "stdout",
     "output_type": "stream",
     "text": [
      "                              address    length    weight     count    looped  \\\n",
      "0    111111mg3JxXdXbypYNyERcYLaJdzEwb -0.525725 -0.182286 -0.426497 -0.246817   \n",
      "1    111111mg3JxXdXbypYNyERcYLaJdzEwb -0.390091 -0.162305 -0.425905 -0.246817   \n",
      "2  111213xkVmeHT1v7N7Ff43XmVfLAUq7WEZ  0.593255 -0.157646 -0.418212 -0.246817   \n",
      "3  111213xkVmeHT1v7N7Ff43XmVfLAUq7WEZ -0.661359  0.196851 -0.425905 -0.246817   \n",
      "4  111213xkVmeHT1v7N7Ff43XmVfLAUq7WEZ  0.796706  0.028984 -0.423538 -0.242677   \n",
      "\n",
      "   neighbors    income  label  binary_label  repeated_counter  repeated  \\\n",
      "0  -0.085283 -0.026810  white             0         -0.135549 -0.047776   \n",
      "1  -0.013912 -0.026133  white             0          0.053407 -0.047776   \n",
      "2  -0.085283 -0.026193  white             0         -0.135549  1.271054   \n",
      "3  -0.013912 -0.025980  white             0          0.053407  1.271054   \n",
      "4   0.057460 -0.024671  white             0          0.242363  1.271054   \n",
      "\n",
      "   count_length_ratio  \n",
      "0               0.811  \n",
      "1               1.092  \n",
      "2              -0.705  \n",
      "3               0.644  \n",
      "4              -0.532  \n"
     ]
    }
   ],
   "source": [
    "# Update the dataframe df_scaled\n",
    "df_scaled = scale_data(df)"
   ]
  },
  {
   "cell_type": "code",
   "execution_count": 51,
   "metadata": {},
   "outputs": [
    {
     "data": {
      "image/png": "[encoded data removed]",
      "text/plain": [
       "<Figure size 1008x864 with 1 Axes>"
      ]
     },
     "metadata": {
      "needs_background": "light"
     },
     "output_type": "display_data"
    }
   ],
   "source": [
    "# Plot column weight again\n",
    "df.boxplot(column=['weight'])\n",
    "plt.show()"
   ]
  },
  {
   "cell_type": "code",
   "execution_count": 52,
   "metadata": {
    "scrolled": false
   },
   "outputs": [
    {
     "name": "stdout",
     "output_type": "stream",
     "text": [
      "             length        weight         count        looped     neighbors  \\\n",
      "count  2.916689e+06  2.916689e+06  2.916689e+06  2.916689e+06  2.916689e+06   \n",
      "mean   1.018975e-13 -8.989214e-14 -3.230235e-12  1.178123e-12  1.829637e-13   \n",
      "std    1.000000e+00  1.000000e+00  1.000000e+00  1.000000e+00  1.000000e+00   \n",
      "min   -7.630844e-01 -1.836065e-01 -4.264973e-01 -2.468170e-01 -8.528295e-02   \n",
      "25%   -7.291759e-01 -1.763409e-01 -4.264973e-01 -2.468170e-01 -8.528295e-02   \n",
      "50%   -6.274505e-01 -9.906049e-02 -4.264973e-01 -2.468170e-01 -1.391169e-02   \n",
      "75%    1.067974e+00  1.146532e-01 -3.939465e-01 -2.468170e-01 -1.391169e-02   \n",
      "max    1.678327e+00  3.447134e+02  8.152729e+00  1.475485e+01  2.693412e+02   \n",
      "\n",
      "             income  binary_label  repeated_counter      repeated  \\\n",
      "count  2.916689e+06  2.916689e+06      2.916689e+06  2.916689e+06   \n",
      "mean  -1.918794e-14  1.419863e-02     -2.574397e-12  5.776459e-12   \n",
      "std    1.000000e+00  1.183091e-01      1.000000e+00  1.000000e+00   \n",
      "min   -2.724196e-02  0.000000e+00     -1.355486e-01 -1.576782e-01   \n",
      "25%   -2.696945e-02  0.000000e+00     -1.355486e-01 -1.576782e-01   \n",
      "50%   -2.619586e-02  0.000000e+00     -1.355486e-01 -1.576782e-01   \n",
      "75%   -2.130988e-02  0.000000e+00     -1.355486e-01 -1.576782e-01   \n",
      "max    3.074343e+02  1.000000e+00      7.903698e+01  4.589145e+01   \n",
      "\n",
      "       count_length_ratio  \n",
      "count        2.916689e+06  \n",
      "mean         6.314611e-01  \n",
      "std          2.513572e+00  \n",
      "min         -2.537400e+01  \n",
      "25%          5.590000e-01  \n",
      "50%          5.850000e-01  \n",
      "75%          7.550000e-01  \n",
      "max          2.494200e+01  \n"
     ]
    },
    {
     "data": {
      "image/png": "[encoded data removed]",
      "text/plain": [
       "<Figure size 1008x864 with 1 Axes>"
      ]
     },
     "metadata": {
      "needs_background": "light"
     },
     "output_type": "display_data"
    },
    {
     "data": {
      "image/png": "[encoded data removed]",
      "text/plain": [
       "<Figure size 1008x864 with 1 Axes>"
      ]
     },
     "metadata": {
      "needs_background": "light"
     },
     "output_type": "display_data"
    },
    {
     "data": {
      "image/png": "[encoded data removed]",
      "text/plain": [
       "<Figure size 1008x864 with 1 Axes>"
      ]
     },
     "metadata": {
      "needs_background": "light"
     },
     "output_type": "display_data"
    },
    {
     "data": {
      "image/png": "[encoded data removed]",
      "text/plain": [
       "<Figure size 1008x864 with 1 Axes>"
      ]
     },
     "metadata": {
      "needs_background": "light"
     },
     "output_type": "display_data"
    }
   ],
   "source": [
    "# Check Results after outlier elimnation of the scaled version\n",
    "describeContinuousVars(df_scaled)"
   ]
  },
  {
   "cell_type": "code",
   "execution_count": 53,
   "metadata": {},
   "outputs": [
    {
     "name": "stdout",
     "output_type": "stream",
     "text": [
      "['montrealCryptXXX' 'paduaCryptoWall' 'princetonCerber' 'montrealWannaCry'\n",
      " 'montrealCryptoLocker' 'montrealCryptoTorLocker2015' 'princetonLocky'\n",
      " 'montrealNoobCrypt' 'montrealDMALockerv3' 'montrealDMALocker'\n",
      " 'montrealSamSam' 'montrealXTPLocker' 'montrealVenusLocker'\n",
      " 'montrealFlyper' 'montrealGlobev3' 'montrealJigSaw' 'montrealEDA2'\n",
      " 'montrealGlobe' 'montrealRazy' 'montrealGlobeImposter'\n",
      " 'montrealCryptConsole' 'montrealXLockerv5.0' 'montrealAPT'\n",
      " 'paduaKeRanger' 'paduaJigsaw' 'montrealXLocker' 'montrealSam'\n",
      " 'montrealComradeCircle']\n",
      "                                address    length    weight     count  \\\n",
      "246  112wED5uHhY1aiSaWAzgeMDaCKFcCvj9Pn -0.627450  0.070032 -0.425905   \n",
      "247  112wED5uHhY1aiSaWAzgeMDaCKFcCvj9Pn  0.186353 -0.183596 -0.426497   \n",
      "484  113i99LGHX2ZzBed1SaMpnqb6ruRgbBwMc  1.678327 -0.101306  0.723436   \n",
      "485  113i99LGHX2ZzBed1SaMpnqb6ruRgbBwMc -0.525725 -0.180084 -0.426497   \n",
      "721  114TqaapeRvrQzuwsxQHxLWsg7uYWewx3c -0.763084  0.154578 -0.426497   \n",
      "\n",
      "       looped  neighbors    income             label  binary_label  \\\n",
      "246 -0.246817   0.128831 -0.025950  montrealCryptXXX             1   \n",
      "247 -0.246817  -0.085283 -0.026688  montrealCryptXXX             1   \n",
      "484 -0.246817  -0.085283 -0.026633   paduaCryptoWall             1   \n",
      "485 -0.246817  -0.013912 -0.027214   paduaCryptoWall             1   \n",
      "721 -0.246817  -0.013912 -0.026737   paduaCryptoWall             1   \n",
      "\n",
      "     repeated_counter  repeated  count_length_ratio  \n",
      "246         -0.135549 -0.047776               0.679  \n",
      "247          0.053407 -0.047776              -2.289  \n",
      "484         -0.135549 -0.047776               0.431  \n",
      "485          0.053407 -0.047776               0.811  \n",
      "721         -0.135549 -0.047776               0.559  \n"
     ]
    }
   ],
   "source": [
    "# Update the dataframe Scaled ransomware data\n",
    "df_ransomware_scaled = creat_ransomware_df(df_scaled)"
   ]
  },
  {
   "cell_type": "code",
   "execution_count": 54,
   "metadata": {},
   "outputs": [
    {
     "name": "stdout",
     "output_type": "stream",
     "text": [
      "['montrealCryptXXX' 'paduaCryptoWall' 'princetonCerber' 'montrealWannaCry'\n",
      " 'montrealCryptoLocker' 'montrealCryptoTorLocker2015' 'princetonLocky'\n",
      " 'montrealNoobCrypt' 'montrealDMALockerv3' 'montrealDMALocker'\n",
      " 'montrealSamSam' 'montrealXTPLocker' 'montrealVenusLocker'\n",
      " 'montrealFlyper' 'montrealGlobev3' 'montrealJigSaw' 'montrealEDA2'\n",
      " 'montrealGlobe' 'montrealRazy' 'montrealGlobeImposter'\n",
      " 'montrealCryptConsole' 'montrealXLockerv5.0' 'montrealAPT'\n",
      " 'paduaKeRanger' 'paduaJigsaw' 'montrealXLocker' 'montrealSam'\n",
      " 'montrealComradeCircle']\n",
      "                                address    length    weight     count  looped  \\\n",
      "246  112wED5uHhY1aiSaWAzgeMDaCKFcCvj9Pn -0.627452  0.750000 -0.425907       0   \n",
      "247  112wED5uHhY1aiSaWAzgeMDaCKFcCvj9Pn  0.186351  0.000031 -0.426499       0   \n",
      "484  113i99LGHX2ZzBed1SaMpnqb6ruRgbBwMc  1.678322  0.243360  0.723426       0   \n",
      "485  113i99LGHX2ZzBed1SaMpnqb6ruRgbBwMc -0.525727  0.010417 -0.426499       0   \n",
      "721  114TqaapeRvrQzuwsxQHxLWsg7uYWewx3c -0.763086  1.000000 -0.426499       0   \n",
      "\n",
      "     neighbors       income             label  binary_label  repeated_counter  \\\n",
      "246          4  240000000.0  montrealCryptXXX             1                 1   \n",
      "247          1  120000000.0  montrealCryptXXX             1                 2   \n",
      "484          1  128898352.0   paduaCryptoWall             1                 1   \n",
      "485          2   34555818.0   paduaCryptoWall             1                 2   \n",
      "721          2  112137426.0   paduaCryptoWall             1                 1   \n",
      "\n",
      "     repeated  count_length_ratio  \n",
      "246         2               0.679  \n",
      "247         2              -2.289  \n",
      "484         2               0.431  \n",
      "485         2               0.811  \n",
      "721         2               0.559  \n"
     ]
    }
   ],
   "source": [
    "# Update the dataframe ransomware data\n",
    "df_ransomware = creat_ransomware_df(df)"
   ]
  },
  {
   "cell_type": "markdown",
   "metadata": {},
   "source": [
    " ## 8. Missing Values <a class=\"anchor\" id=\"8\"></a>"
   ]
  },
  {
   "cell_type": "code",
   "execution_count": 55,
   "metadata": {},
   "outputs": [
    {
     "data": {
      "text/plain": [
       "address               0\n",
       "length                0\n",
       "weight                0\n",
       "count                 0\n",
       "looped                0\n",
       "neighbors             0\n",
       "income                0\n",
       "label                 0\n",
       "binary_label          0\n",
       "repeated_counter      0\n",
       "repeated              0\n",
       "count_length_ratio    0\n",
       "dtype: int64"
      ]
     },
     "execution_count": 55,
     "metadata": {},
     "output_type": "execute_result"
    }
   ],
   "source": [
    "# Count missing value\n",
    "df.isnull().sum()"
   ]
  },
  {
   "cell_type": "markdown",
   "metadata": {},
   "source": [
    "<font color='red'>Findings: No values missing - thus no treatment needed for these.</font>"
   ]
  },
  {
   "cell_type": "markdown",
   "metadata": {},
   "source": [
    "## 9. Principal component analysis <a class=\"anchor\" id=\"09\"></a>"
   ]
  },
  {
   "cell_type": "code",
   "execution_count": 56,
   "metadata": {},
   "outputs": [],
   "source": [
    "def perform_pca(df, features, label):\n",
    "    X = df[features]\n",
    "    y = df[label]\n",
    "    \n",
    "    #PCA Projection to 2D\n",
    "    pca = PCA(n_components=2)\n",
    "    principalComponents = pca.fit_transform(X)\n",
    "    principalDf = pd.DataFrame(data = principalComponents\n",
    "             , columns = ['principal component 1', 'principal component 2'])\n",
    "    \n",
    "    y.reset_index(drop=True, inplace=True)\n",
    "    principalDf.reset_index(drop=True, inplace=True)\n",
    "    \n",
    "    pcaDF = pd.concat([principalDf, y], axis = 1)\n",
    "    print(pcaDF.head(10))\n",
    "    \n",
    "    print(pca.explained_variance_ratio_)\n",
    "    \n",
    "    # Visualize 2D Projection\n",
    "    fig = plt.figure(figsize = (8,8))\n",
    "    ax = fig.add_subplot(1,1,1) \n",
    "    ax.set_xlabel('Principal Component 1', fontsize = 15)\n",
    "    ax.set_ylabel('Principal Component 2', fontsize = 15)\n",
    "    ax.set_title('2 component PCA', fontsize = 20)\n",
    "    targets = [0, 1]\n",
    "    colors = ['r', 'g']\n",
    "    for target, color in zip(targets , colors):\n",
    "        indicesToKeep = pcaDF[label] == target\n",
    "        ax.scatter(pcaDF.loc[indicesToKeep, 'principal component 1']\n",
    "                   , pcaDF.loc[indicesToKeep, 'principal component 2']\n",
    "                   , c = color\n",
    "                   , s = 50)\n",
    "        ax.legend(targets)\n",
    "        ax.grid()"
   ]
  },
  {
   "cell_type": "code",
   "execution_count": 57,
   "metadata": {},
   "outputs": [],
   "source": [
    "features = ['length', 'weight', 'count',\n",
    "            'looped','neighbors', 'income',\n",
    "            'repeated', 'repeated_counter','count_length_ratio']"
   ]
  },
  {
   "cell_type": "code",
   "execution_count": 58,
   "metadata": {},
   "outputs": [],
   "source": [
    "original_features = ['length', 'weight', 'count',\n",
    "                     'looped','neighbors', 'income']"
   ]
  },
  {
   "cell_type": "markdown",
   "metadata": {},
   "source": [
    "#### 9a. PCA: df_scaled with extended features"
   ]
  },
  {
   "cell_type": "code",
   "execution_count": 59,
   "metadata": {},
   "outputs": [
    {
     "name": "stdout",
     "output_type": "stream",
     "text": [
      "   principal component 1  principal component 2  binary_label\n",
      "0              -0.132432              -0.665608             0\n",
      "1              -0.414010              -0.637741             0\n",
      "2               1.367320              -0.188614             0\n",
      "3               0.038061              -0.993186             0\n",
      "4               1.192544              -0.134074             0\n",
      "5              -0.033944              -1.032507             0\n",
      "6              -4.203573              -0.989780             0\n",
      "7               1.051723              -0.050436             0\n",
      "8               1.083672              -0.130957             0\n",
      "9              -0.321178              -1.110987             0\n",
      "[0.44342863 0.14959836]\n"
     ]
    },
    {
     "data": {
      "image/png": "[encoded data removed]",
      "text/plain": [
       "<Figure size 576x576 with 1 Axes>"
      ]
     },
     "metadata": {
      "needs_background": "light"
     },
     "output_type": "display_data"
    }
   ],
   "source": [
    "perform_pca(df_scaled, features, 'binary_label')"
   ]
  },
  {
   "cell_type": "markdown",
   "metadata": {},
   "source": [
    "#### 9b.  PCA: df_scaled with orginal features"
   ]
  },
  {
   "cell_type": "code",
   "execution_count": 60,
   "metadata": {},
   "outputs": [
    {
     "name": "stdout",
     "output_type": "stream",
     "text": [
      "   principal component 1  principal component 2  binary_label\n",
      "0              -0.720986              -0.061522             0\n",
      "1              -0.632191              -0.015835             0\n",
      "2              -0.075323              -0.182970             0\n",
      "3              -0.747036               0.258856             0\n",
      "4               0.078023               0.015940             0\n",
      "5              -0.706566               0.247107             0\n",
      "6              -0.303290               0.764786             0\n",
      "7               0.304816               0.381848             0\n",
      "8               0.256532               0.360612             0\n",
      "9              -0.616357               0.201659             0\n",
      "[0.35679455 0.26817563]\n"
     ]
    },
    {
     "data": {
      "image/png": "[encoded data removed]",
      "text/plain": [
       "<Figure size 576x576 with 1 Axes>"
      ]
     },
     "metadata": {
      "needs_background": "light"
     },
     "output_type": "display_data"
    }
   ],
   "source": [
    "perform_pca(df_scaled, original_features, 'binary_label')"
   ]
  },
  {
   "cell_type": "markdown",
   "metadata": {},
   "source": [
    "#### 9c.  PCA: df_ransomware_scaled with extended features"
   ]
  },
  {
   "cell_type": "code",
   "execution_count": 61,
   "metadata": {},
   "outputs": [],
   "source": [
    "def perform_pca_multi_label(df, features, label):\n",
    "    X = df[features]\n",
    "    y = df[label]\n",
    "    \n",
    "    #PCA Projection to 2D\n",
    "    pca = PCA(n_components=2)\n",
    "    principalComponents = pca.fit_transform(X)\n",
    "    principalDf = pd.DataFrame(data = principalComponents\n",
    "             , columns = ['principal component 1', 'principal component 2'])\n",
    "    \n",
    "    print(pca.explained_variance_ratio_)"
   ]
  },
  {
   "cell_type": "code",
   "execution_count": 62,
   "metadata": {},
   "outputs": [
    {
     "name": "stdout",
     "output_type": "stream",
     "text": [
      "[0.84289274 0.07102135]\n"
     ]
    }
   ],
   "source": [
    "perform_pca_multi_label(df_ransomware_scaled, features, 'label')"
   ]
  },
  {
   "cell_type": "markdown",
   "metadata": {},
   "source": [
    "#### 9d.  PCA: df_ransomware_scaled with original features"
   ]
  },
  {
   "cell_type": "code",
   "execution_count": 63,
   "metadata": {},
   "outputs": [
    {
     "name": "stdout",
     "output_type": "stream",
     "text": [
      "[0.53768296 0.29097299]\n"
     ]
    }
   ],
   "source": [
    "perform_pca_multi_label(df_ransomware_scaled, original_features, 'label')"
   ]
  },
  {
   "cell_type": "markdown",
   "metadata": {},
   "source": [
    "<font color = \"red\"> Interpretation of PCA results:\n",
    "When using the explained variance ratio, one can see how much information can be attributed to each of the principal components. Because the conversion was from a 7 dimensional space to a 2D one, of course we lost some information. Thus, the first component can explain 94% of the total information (contains 94% variance), and then second component only 3%.\n",
    "    \n",
    "I tried to see how it would work with more principal components, by changing n_components, but the results are irrelevant I think - because we just get components with very minimal variance.\n",
    "</font>\n",
    "\n",
    "<font color = \"purple\"> TO DO: Recheck results </font>"
   ]
  },
  {
   "cell_type": "markdown",
   "metadata": {},
   "source": [
    "## 10. Export dataframes <a class=\"anchor\" id=\"10\"></a>"
   ]
  },
  {
   "cell_type": "code",
   "execution_count": 64,
   "metadata": {},
   "outputs": [],
   "source": [
    "# Desired order for the dataframnes (label at the end)\n",
    "column_names = ['address','length','weight',\n",
    "                'count', 'looped','neighbors',\n",
    "                'income', 'repeated', 'repeated_counter', 'label', 'binary_label']"
   ]
  },
  {
   "cell_type": "code",
   "execution_count": 65,
   "metadata": {},
   "outputs": [],
   "source": [
    "# Adapt the dataframes to the desired order\n",
    "df = df[column_names]\n",
    "df_scaled = df_scaled[column_names]\n",
    "df_ransomware = df_ransomware[column_names]\n",
    "df_ransomware_scaled = df_ransomware_scaled[column_names]"
   ]
  },
  {
   "cell_type": "code",
   "execution_count": 66,
   "metadata": {},
   "outputs": [],
   "source": [
    "# Check df before exporting\n",
    "if True:\n",
    "    df_ransomware.head()"
   ]
  },
  {
   "cell_type": "code",
   "execution_count": 67,
   "metadata": {},
   "outputs": [],
   "source": [
    "# Export dataframes to csv.format\n",
    "if True:\n",
    "    df.to_csv('df.csv',index = bool)\n",
    "    df_scaled.to_csv('df_scaled.csv')\n",
    "    df_ransomware.to_csv('df_ransomware.csv')\n",
    "    df_ransomware_scaled.to_csv('df_ransomware_scaled.csv')"
   ]
  }
 ],
 "metadata": {
  "colab": {
   "collapsed_sections": [],
   "name": "1.2_DecisionTreesPrecisionMeasures_student.ipynb",
   "provenance": []
  },
  "kernelspec": {
   "display_name": "Python 3",
   "language": "python",
   "name": "python3"
  },
  "language_info": {
   "codemirror_mode": {
    "name": "ipython",
    "version": 3
   },
   "file_extension": ".py",
   "mimetype": "text/x-python",
   "name": "python",
   "nbconvert_exporter": "python",
   "pygments_lexer": "ipython3",
   "version": "3.7.4"
  }
 },
 "nbformat": 4,
 "nbformat_minor": 1
}
